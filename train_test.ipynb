{
  "nbformat": 4,
  "nbformat_minor": 0,
  "metadata": {
    "colab": {
      "name": "assignment3_train_test.ipynb",
      "version": "0.3.2",
      "provenance": [],
      "collapsed_sections": []
    },
    "kernelspec": {
      "name": "python3",
      "display_name": "Python 3"
    },
    "accelerator": "GPU"
  },
  "cells": [
    {
      "metadata": {
        "id": "l2mEdMwe2slU",
        "colab_type": "code",
        "outputId": "119d4f99-f73e-4769-9d74-c72852d4de53",
        "colab": {
          "base_uri": "https://localhost:8080/",
          "height": 34
        }
      },
      "cell_type": "code",
      "source": [
        "from google.colab import drive\n",
        "drive.mount('/content/drive')"
      ],
      "execution_count": 0,
      "outputs": [
        {
          "output_type": "stream",
          "text": [
            "Drive already mounted at /content/drive; to attempt to forcibly remount, call drive.mount(\"/content/drive\", force_remount=True).\n"
          ],
          "name": "stdout"
        }
      ]
    },
    {
      "metadata": {
        "id": "NVIS25ts3ZKM",
        "colab_type": "code",
        "colab": {}
      },
      "cell_type": "code",
      "source": [
        "import os\n",
        "path ='/content/drive/My Drive/ML Course/Assignment 3'\n",
        "os.chdir(path)"
      ],
      "execution_count": 0,
      "outputs": []
    },
    {
      "metadata": {
        "id": "KHb6OhKR3fjG",
        "colab_type": "code",
        "colab": {}
      },
      "cell_type": "code",
      "source": [
        "# import needed librarries:\n",
        "import csv\n",
        "import numpy as np\n",
        "import pandas as pd\n",
        "import re\n",
        "import seaborn as sns\n",
        "import matplotlib.pyplot as plt\n",
        "\n",
        "\n",
        "from sklearn.model_selection import train_test_split\n",
        "from sklearn.feature_selection import SelectFromModel\n",
        "from sklearn.model_selection import GridSearchCV\n",
        "\n",
        "from sklearn.svm import SVC\n",
        "from sklearn.svm import LinearSVC\n",
        "from sklearn.pipeline import Pipeline\n",
        "from sklearn.preprocessing import StandardScaler\n",
        "from sklearn.naive_bayes import GaussianNB\n",
        "from sklearn.linear_model import LogisticRegression\n",
        "from sklearn.tree import DecisionTreeClassifier\n",
        "from sklearn.ensemble import GradientBoostingClassifier\n",
        "from sklearn.ensemble import BaggingClassifier\n",
        "from sklearn.naive_bayes import GaussianNB\n",
        "from sklearn.ensemble import VotingClassifier\n",
        "from sklearn.ensemble import RandomForestClassifier\n",
        "from sklearn.ensemble import AdaBoostClassifier\n",
        "from sklearn.neighbors import KNeighborsClassifier\n",
        "\n",
        "\n",
        "from sklearn.metrics import accuracy_score\n",
        "from sklearn.metrics import precision_recall_fscore_support"
      ],
      "execution_count": 0,
      "outputs": []
    },
    {
      "metadata": {
        "id": "A2NopcqBmpcA",
        "colab_type": "text"
      },
      "cell_type": "markdown",
      "source": [
        "\n",
        "\n",
        "## ** 1 & 2- Exploring Data & Fill Empty Fields &Visualization **\n",
        "\n",
        "---\n",
        "\n",
        "\n",
        "\n"
      ]
    },
    {
      "metadata": {
        "id": "tA9E9EUAnfMI",
        "colab_type": "text"
      },
      "cell_type": "markdown",
      "source": [
        "*  Read data from  csv files  &  Store it in train and test \n",
        "*  Compine all data together under name all_data for analysis reasons.\n",
        "* Print data size information.\n",
        "\n"
      ]
    },
    {
      "metadata": {
        "id": "36BNdPOz3kWP",
        "colab_type": "code",
        "outputId": "7aa2cc01-ae38-46ae-a13b-b488c0482fa1",
        "colab": {
          "base_uri": "https://localhost:8080/",
          "height": 283
        }
      },
      "cell_type": "code",
      "source": [
        "\n",
        "from sklearn.model_selection import train_test_split\n",
        "train = pd.read_csv('dataset/train.csv')\n",
        "test = pd.read_csv('dataset/test.csv')\n",
        "\n",
        "\n",
        "\n",
        "all_data = [train, test]\n",
        "\n",
        "print('Train data entries number = ', train.shape[0])\n",
        "print('Test data entries number = ', test.shape[0])\n",
        "print('Number of features = ', train.shape[1])\n",
        "\n",
        "print(\"\\nFirst five rows of train data are: \")\n",
        "train.head(5)\n",
        "\n"
      ],
      "execution_count": 0,
      "outputs": [
        {
          "output_type": "stream",
          "text": [
            "Train data entries number =  891\n",
            "Test data entries number =  418\n",
            "Number of features =  12\n",
            "\n",
            "First five rows of train data are: \n"
          ],
          "name": "stdout"
        },
        {
          "output_type": "execute_result",
          "data": {
            "text/html": [
              "<div>\n",
              "<style scoped>\n",
              "    .dataframe tbody tr th:only-of-type {\n",
              "        vertical-align: middle;\n",
              "    }\n",
              "\n",
              "    .dataframe tbody tr th {\n",
              "        vertical-align: top;\n",
              "    }\n",
              "\n",
              "    .dataframe thead th {\n",
              "        text-align: right;\n",
              "    }\n",
              "</style>\n",
              "<table border=\"1\" class=\"dataframe\">\n",
              "  <thead>\n",
              "    <tr style=\"text-align: right;\">\n",
              "      <th></th>\n",
              "      <th>PassengerId</th>\n",
              "      <th>Survived</th>\n",
              "      <th>Pclass</th>\n",
              "      <th>Name</th>\n",
              "      <th>Sex</th>\n",
              "      <th>Age</th>\n",
              "      <th>SibSp</th>\n",
              "      <th>Parch</th>\n",
              "      <th>Ticket</th>\n",
              "      <th>Fare</th>\n",
              "      <th>Cabin</th>\n",
              "      <th>Embarked</th>\n",
              "    </tr>\n",
              "  </thead>\n",
              "  <tbody>\n",
              "    <tr>\n",
              "      <th>0</th>\n",
              "      <td>1</td>\n",
              "      <td>0</td>\n",
              "      <td>3</td>\n",
              "      <td>Braund, Mr. Owen Harris</td>\n",
              "      <td>male</td>\n",
              "      <td>22.0</td>\n",
              "      <td>1</td>\n",
              "      <td>0</td>\n",
              "      <td>A/5 21171</td>\n",
              "      <td>7.2500</td>\n",
              "      <td>NaN</td>\n",
              "      <td>S</td>\n",
              "    </tr>\n",
              "    <tr>\n",
              "      <th>1</th>\n",
              "      <td>2</td>\n",
              "      <td>1</td>\n",
              "      <td>1</td>\n",
              "      <td>Cumings, Mrs. John Bradley (Florence Briggs Th...</td>\n",
              "      <td>female</td>\n",
              "      <td>38.0</td>\n",
              "      <td>1</td>\n",
              "      <td>0</td>\n",
              "      <td>PC 17599</td>\n",
              "      <td>71.2833</td>\n",
              "      <td>C85</td>\n",
              "      <td>C</td>\n",
              "    </tr>\n",
              "    <tr>\n",
              "      <th>2</th>\n",
              "      <td>3</td>\n",
              "      <td>1</td>\n",
              "      <td>3</td>\n",
              "      <td>Heikkinen, Miss. Laina</td>\n",
              "      <td>female</td>\n",
              "      <td>26.0</td>\n",
              "      <td>0</td>\n",
              "      <td>0</td>\n",
              "      <td>STON/O2. 3101282</td>\n",
              "      <td>7.9250</td>\n",
              "      <td>NaN</td>\n",
              "      <td>S</td>\n",
              "    </tr>\n",
              "    <tr>\n",
              "      <th>3</th>\n",
              "      <td>4</td>\n",
              "      <td>1</td>\n",
              "      <td>1</td>\n",
              "      <td>Futrelle, Mrs. Jacques Heath (Lily May Peel)</td>\n",
              "      <td>female</td>\n",
              "      <td>35.0</td>\n",
              "      <td>1</td>\n",
              "      <td>0</td>\n",
              "      <td>113803</td>\n",
              "      <td>53.1000</td>\n",
              "      <td>C123</td>\n",
              "      <td>S</td>\n",
              "    </tr>\n",
              "    <tr>\n",
              "      <th>4</th>\n",
              "      <td>5</td>\n",
              "      <td>0</td>\n",
              "      <td>3</td>\n",
              "      <td>Allen, Mr. William Henry</td>\n",
              "      <td>male</td>\n",
              "      <td>35.0</td>\n",
              "      <td>0</td>\n",
              "      <td>0</td>\n",
              "      <td>373450</td>\n",
              "      <td>8.0500</td>\n",
              "      <td>NaN</td>\n",
              "      <td>S</td>\n",
              "    </tr>\n",
              "  </tbody>\n",
              "</table>\n",
              "</div>"
            ],
            "text/plain": [
              "   PassengerId  Survived  Pclass  \\\n",
              "0            1         0       3   \n",
              "1            2         1       1   \n",
              "2            3         1       3   \n",
              "3            4         1       1   \n",
              "4            5         0       3   \n",
              "\n",
              "                                                Name     Sex   Age  SibSp  \\\n",
              "0                            Braund, Mr. Owen Harris    male  22.0      1   \n",
              "1  Cumings, Mrs. John Bradley (Florence Briggs Th...  female  38.0      1   \n",
              "2                             Heikkinen, Miss. Laina  female  26.0      0   \n",
              "3       Futrelle, Mrs. Jacques Heath (Lily May Peel)  female  35.0      1   \n",
              "4                           Allen, Mr. William Henry    male  35.0      0   \n",
              "\n",
              "   Parch            Ticket     Fare Cabin Embarked  \n",
              "0      0         A/5 21171   7.2500   NaN        S  \n",
              "1      0          PC 17599  71.2833   C85        C  \n",
              "2      0  STON/O2. 3101282   7.9250   NaN        S  \n",
              "3      0            113803  53.1000  C123        S  \n",
              "4      0            373450   8.0500   NaN        S  "
            ]
          },
          "metadata": {
            "tags": []
          },
          "execution_count": 41
        }
      ]
    },
    {
      "metadata": {
        "id": "XvQSHf0ZpA4j",
        "colab_type": "text"
      },
      "cell_type": "markdown",
      "source": [
        "** Explore the  train and testa data features **\n",
        "* It shows the data type of each feature.\n",
        "* It's also show thw number of values for each feature .. we have missing values for Age, Cabin, and Embarked features "
      ]
    },
    {
      "metadata": {
        "id": "f9grphzB4e5B",
        "colab_type": "code",
        "outputId": "5bb49c56-d133-48b1-a446-f36cba6ffa40",
        "colab": {
          "base_uri": "https://localhost:8080/",
          "height": 334
        }
      },
      "cell_type": "code",
      "source": [
        "print (train.info())"
      ],
      "execution_count": 0,
      "outputs": [
        {
          "output_type": "stream",
          "text": [
            "<class 'pandas.core.frame.DataFrame'>\n",
            "RangeIndex: 891 entries, 0 to 890\n",
            "Data columns (total 12 columns):\n",
            "PassengerId    891 non-null int64\n",
            "Survived       891 non-null int64\n",
            "Pclass         891 non-null int64\n",
            "Name           891 non-null object\n",
            "Sex            891 non-null object\n",
            "Age            714 non-null float64\n",
            "SibSp          891 non-null int64\n",
            "Parch          891 non-null int64\n",
            "Ticket         891 non-null object\n",
            "Fare           891 non-null float64\n",
            "Cabin          204 non-null object\n",
            "Embarked       889 non-null object\n",
            "dtypes: float64(2), int64(5), object(5)\n",
            "memory usage: 83.6+ KB\n",
            "None\n"
          ],
          "name": "stdout"
        }
      ]
    },
    {
      "metadata": {
        "id": "OBtk_FtxecSV",
        "colab_type": "text"
      },
      "cell_type": "markdown",
      "source": [
        "**More details about each attribute using describe**\n",
        "* count, mean, std, min, and max are clear fro sure.\n",
        "* The 25%, 50%, and 75% rows show the corresponding percentiles\n",
        "* The percentile indicates the value below which a given percentage of observations in a group of observations falls.\n"
      ]
    },
    {
      "metadata": {
        "id": "Rh89Ohg0aejX",
        "colab_type": "code",
        "outputId": "7a575cf5-900c-4584-e4dc-eb2aa81a84da",
        "colab": {
          "base_uri": "https://localhost:8080/",
          "height": 284
        }
      },
      "cell_type": "code",
      "source": [
        "train.describe()\n"
      ],
      "execution_count": 0,
      "outputs": [
        {
          "output_type": "execute_result",
          "data": {
            "text/html": [
              "<div>\n",
              "<style scoped>\n",
              "    .dataframe tbody tr th:only-of-type {\n",
              "        vertical-align: middle;\n",
              "    }\n",
              "\n",
              "    .dataframe tbody tr th {\n",
              "        vertical-align: top;\n",
              "    }\n",
              "\n",
              "    .dataframe thead th {\n",
              "        text-align: right;\n",
              "    }\n",
              "</style>\n",
              "<table border=\"1\" class=\"dataframe\">\n",
              "  <thead>\n",
              "    <tr style=\"text-align: right;\">\n",
              "      <th></th>\n",
              "      <th>PassengerId</th>\n",
              "      <th>Survived</th>\n",
              "      <th>Pclass</th>\n",
              "      <th>Age</th>\n",
              "      <th>SibSp</th>\n",
              "      <th>Parch</th>\n",
              "      <th>Fare</th>\n",
              "    </tr>\n",
              "  </thead>\n",
              "  <tbody>\n",
              "    <tr>\n",
              "      <th>count</th>\n",
              "      <td>891.000000</td>\n",
              "      <td>891.000000</td>\n",
              "      <td>891.000000</td>\n",
              "      <td>714.000000</td>\n",
              "      <td>891.000000</td>\n",
              "      <td>891.000000</td>\n",
              "      <td>891.000000</td>\n",
              "    </tr>\n",
              "    <tr>\n",
              "      <th>mean</th>\n",
              "      <td>446.000000</td>\n",
              "      <td>0.383838</td>\n",
              "      <td>2.308642</td>\n",
              "      <td>29.699118</td>\n",
              "      <td>0.523008</td>\n",
              "      <td>0.381594</td>\n",
              "      <td>32.204208</td>\n",
              "    </tr>\n",
              "    <tr>\n",
              "      <th>std</th>\n",
              "      <td>257.353842</td>\n",
              "      <td>0.486592</td>\n",
              "      <td>0.836071</td>\n",
              "      <td>14.526497</td>\n",
              "      <td>1.102743</td>\n",
              "      <td>0.806057</td>\n",
              "      <td>49.693429</td>\n",
              "    </tr>\n",
              "    <tr>\n",
              "      <th>min</th>\n",
              "      <td>1.000000</td>\n",
              "      <td>0.000000</td>\n",
              "      <td>1.000000</td>\n",
              "      <td>0.420000</td>\n",
              "      <td>0.000000</td>\n",
              "      <td>0.000000</td>\n",
              "      <td>0.000000</td>\n",
              "    </tr>\n",
              "    <tr>\n",
              "      <th>25%</th>\n",
              "      <td>223.500000</td>\n",
              "      <td>0.000000</td>\n",
              "      <td>2.000000</td>\n",
              "      <td>20.125000</td>\n",
              "      <td>0.000000</td>\n",
              "      <td>0.000000</td>\n",
              "      <td>7.910400</td>\n",
              "    </tr>\n",
              "    <tr>\n",
              "      <th>50%</th>\n",
              "      <td>446.000000</td>\n",
              "      <td>0.000000</td>\n",
              "      <td>3.000000</td>\n",
              "      <td>28.000000</td>\n",
              "      <td>0.000000</td>\n",
              "      <td>0.000000</td>\n",
              "      <td>14.454200</td>\n",
              "    </tr>\n",
              "    <tr>\n",
              "      <th>75%</th>\n",
              "      <td>668.500000</td>\n",
              "      <td>1.000000</td>\n",
              "      <td>3.000000</td>\n",
              "      <td>38.000000</td>\n",
              "      <td>1.000000</td>\n",
              "      <td>0.000000</td>\n",
              "      <td>31.000000</td>\n",
              "    </tr>\n",
              "    <tr>\n",
              "      <th>max</th>\n",
              "      <td>891.000000</td>\n",
              "      <td>1.000000</td>\n",
              "      <td>3.000000</td>\n",
              "      <td>80.000000</td>\n",
              "      <td>8.000000</td>\n",
              "      <td>6.000000</td>\n",
              "      <td>512.329200</td>\n",
              "    </tr>\n",
              "  </tbody>\n",
              "</table>\n",
              "</div>"
            ],
            "text/plain": [
              "       PassengerId    Survived      Pclass         Age       SibSp  \\\n",
              "count   891.000000  891.000000  891.000000  714.000000  891.000000   \n",
              "mean    446.000000    0.383838    2.308642   29.699118    0.523008   \n",
              "std     257.353842    0.486592    0.836071   14.526497    1.102743   \n",
              "min       1.000000    0.000000    1.000000    0.420000    0.000000   \n",
              "25%     223.500000    0.000000    2.000000   20.125000    0.000000   \n",
              "50%     446.000000    0.000000    3.000000   28.000000    0.000000   \n",
              "75%     668.500000    1.000000    3.000000   38.000000    1.000000   \n",
              "max     891.000000    1.000000    3.000000   80.000000    8.000000   \n",
              "\n",
              "            Parch        Fare  \n",
              "count  891.000000  891.000000  \n",
              "mean     0.381594   32.204208  \n",
              "std      0.806057   49.693429  \n",
              "min      0.000000    0.000000  \n",
              "25%      0.000000    7.910400  \n",
              "50%      0.000000   14.454200  \n",
              "75%      0.000000   31.000000  \n",
              "max      6.000000  512.329200  "
            ]
          },
          "metadata": {
            "tags": []
          },
          "execution_count": 43
        }
      ]
    },
    {
      "metadata": {
        "id": "wTspZPmRqLQY",
        "colab_type": "text"
      },
      "cell_type": "markdown",
      "source": [
        " ** To know how many missing values for each feature in the train data **\n",
        " "
      ]
    },
    {
      "metadata": {
        "id": "3XWdMh5ogmyM",
        "colab_type": "code",
        "outputId": "2cf69d94-c480-4c6e-849e-9db995dbac39",
        "colab": {
          "base_uri": "https://localhost:8080/",
          "height": 246
        }
      },
      "cell_type": "code",
      "source": [
        "nullvalue = train.isnull().sum() \n",
        "print(nullvalue)"
      ],
      "execution_count": 0,
      "outputs": [
        {
          "output_type": "stream",
          "text": [
            "PassengerId      0\n",
            "Survived         0\n",
            "Pclass           0\n",
            "Name             0\n",
            "Sex              0\n",
            "Age            177\n",
            "SibSp            0\n",
            "Parch            0\n",
            "Ticket           0\n",
            "Fare             0\n",
            "Cabin          687\n",
            "Embarked         2\n",
            "dtype: int64\n"
          ],
          "name": "stdout"
        }
      ]
    },
    {
      "metadata": {
        "id": "f0Xl1_sAp-wn",
        "colab_type": "text"
      },
      "cell_type": "markdown",
      "source": [
        "**Explore the test data features**\n",
        "\n",
        "* It shows the data type of each feature.\n",
        "* It's also show thw number of values for each feature .. we have missing values for Age and Cabin features"
      ]
    },
    {
      "metadata": {
        "id": "R0MEgQ3yUu9C",
        "colab_type": "code",
        "outputId": "d353a243-1065-4cb0-e665-529ff220dac1",
        "colab": {
          "base_uri": "https://localhost:8080/",
          "height": 316
        }
      },
      "cell_type": "code",
      "source": [
        "print (test.info())"
      ],
      "execution_count": 0,
      "outputs": [
        {
          "output_type": "stream",
          "text": [
            "<class 'pandas.core.frame.DataFrame'>\n",
            "RangeIndex: 418 entries, 0 to 417\n",
            "Data columns (total 11 columns):\n",
            "PassengerId    418 non-null int64\n",
            "Pclass         418 non-null int64\n",
            "Name           418 non-null object\n",
            "Sex            418 non-null object\n",
            "Age            332 non-null float64\n",
            "SibSp          418 non-null int64\n",
            "Parch          418 non-null int64\n",
            "Ticket         418 non-null object\n",
            "Fare           417 non-null float64\n",
            "Cabin          91 non-null object\n",
            "Embarked       418 non-null object\n",
            "dtypes: float64(2), int64(4), object(5)\n",
            "memory usage: 36.0+ KB\n",
            "None\n"
          ],
          "name": "stdout"
        }
      ]
    },
    {
      "metadata": {
        "id": "Q-GdayI3alIJ",
        "colab_type": "code",
        "outputId": "735943a6-ecb4-4558-ff98-d2d53d2d28e5",
        "colab": {
          "base_uri": "https://localhost:8080/",
          "height": 284
        }
      },
      "cell_type": "code",
      "source": [
        "test.describe()"
      ],
      "execution_count": 0,
      "outputs": [
        {
          "output_type": "execute_result",
          "data": {
            "text/html": [
              "<div>\n",
              "<style scoped>\n",
              "    .dataframe tbody tr th:only-of-type {\n",
              "        vertical-align: middle;\n",
              "    }\n",
              "\n",
              "    .dataframe tbody tr th {\n",
              "        vertical-align: top;\n",
              "    }\n",
              "\n",
              "    .dataframe thead th {\n",
              "        text-align: right;\n",
              "    }\n",
              "</style>\n",
              "<table border=\"1\" class=\"dataframe\">\n",
              "  <thead>\n",
              "    <tr style=\"text-align: right;\">\n",
              "      <th></th>\n",
              "      <th>PassengerId</th>\n",
              "      <th>Pclass</th>\n",
              "      <th>Age</th>\n",
              "      <th>SibSp</th>\n",
              "      <th>Parch</th>\n",
              "      <th>Fare</th>\n",
              "    </tr>\n",
              "  </thead>\n",
              "  <tbody>\n",
              "    <tr>\n",
              "      <th>count</th>\n",
              "      <td>418.000000</td>\n",
              "      <td>418.000000</td>\n",
              "      <td>332.000000</td>\n",
              "      <td>418.000000</td>\n",
              "      <td>418.000000</td>\n",
              "      <td>417.000000</td>\n",
              "    </tr>\n",
              "    <tr>\n",
              "      <th>mean</th>\n",
              "      <td>1100.500000</td>\n",
              "      <td>2.265550</td>\n",
              "      <td>30.272590</td>\n",
              "      <td>0.447368</td>\n",
              "      <td>0.392344</td>\n",
              "      <td>35.627188</td>\n",
              "    </tr>\n",
              "    <tr>\n",
              "      <th>std</th>\n",
              "      <td>120.810458</td>\n",
              "      <td>0.841838</td>\n",
              "      <td>14.181209</td>\n",
              "      <td>0.896760</td>\n",
              "      <td>0.981429</td>\n",
              "      <td>55.907576</td>\n",
              "    </tr>\n",
              "    <tr>\n",
              "      <th>min</th>\n",
              "      <td>892.000000</td>\n",
              "      <td>1.000000</td>\n",
              "      <td>0.170000</td>\n",
              "      <td>0.000000</td>\n",
              "      <td>0.000000</td>\n",
              "      <td>0.000000</td>\n",
              "    </tr>\n",
              "    <tr>\n",
              "      <th>25%</th>\n",
              "      <td>996.250000</td>\n",
              "      <td>1.000000</td>\n",
              "      <td>21.000000</td>\n",
              "      <td>0.000000</td>\n",
              "      <td>0.000000</td>\n",
              "      <td>7.895800</td>\n",
              "    </tr>\n",
              "    <tr>\n",
              "      <th>50%</th>\n",
              "      <td>1100.500000</td>\n",
              "      <td>3.000000</td>\n",
              "      <td>27.000000</td>\n",
              "      <td>0.000000</td>\n",
              "      <td>0.000000</td>\n",
              "      <td>14.454200</td>\n",
              "    </tr>\n",
              "    <tr>\n",
              "      <th>75%</th>\n",
              "      <td>1204.750000</td>\n",
              "      <td>3.000000</td>\n",
              "      <td>39.000000</td>\n",
              "      <td>1.000000</td>\n",
              "      <td>0.000000</td>\n",
              "      <td>31.500000</td>\n",
              "    </tr>\n",
              "    <tr>\n",
              "      <th>max</th>\n",
              "      <td>1309.000000</td>\n",
              "      <td>3.000000</td>\n",
              "      <td>76.000000</td>\n",
              "      <td>8.000000</td>\n",
              "      <td>9.000000</td>\n",
              "      <td>512.329200</td>\n",
              "    </tr>\n",
              "  </tbody>\n",
              "</table>\n",
              "</div>"
            ],
            "text/plain": [
              "       PassengerId      Pclass         Age       SibSp       Parch        Fare\n",
              "count   418.000000  418.000000  332.000000  418.000000  418.000000  417.000000\n",
              "mean   1100.500000    2.265550   30.272590    0.447368    0.392344   35.627188\n",
              "std     120.810458    0.841838   14.181209    0.896760    0.981429   55.907576\n",
              "min     892.000000    1.000000    0.170000    0.000000    0.000000    0.000000\n",
              "25%     996.250000    1.000000   21.000000    0.000000    0.000000    7.895800\n",
              "50%    1100.500000    3.000000   27.000000    0.000000    0.000000   14.454200\n",
              "75%    1204.750000    3.000000   39.000000    1.000000    0.000000   31.500000\n",
              "max    1309.000000    3.000000   76.000000    8.000000    9.000000  512.329200"
            ]
          },
          "metadata": {
            "tags": []
          },
          "execution_count": 46
        }
      ]
    },
    {
      "metadata": {
        "id": "JV5ghOvaqvJO",
        "colab_type": "text"
      },
      "cell_type": "markdown",
      "source": [
        " ** To know how many missing values for each feature in the test data **\n",
        "\n",
        " "
      ]
    },
    {
      "metadata": {
        "id": "sAyXKkvPhK2q",
        "colab_type": "code",
        "outputId": "5b3dd92c-856f-4cb2-89d6-9673a6135137",
        "colab": {
          "base_uri": "https://localhost:8080/",
          "height": 228
        }
      },
      "cell_type": "code",
      "source": [
        "testnullvalue = test.isnull().sum()\n",
        "print(testnullvalue)"
      ],
      "execution_count": 0,
      "outputs": [
        {
          "output_type": "stream",
          "text": [
            "PassengerId      0\n",
            "Pclass           0\n",
            "Name             0\n",
            "Sex              0\n",
            "Age             86\n",
            "SibSp            0\n",
            "Parch            0\n",
            "Ticket           0\n",
            "Fare             1\n",
            "Cabin          327\n",
            "Embarked         0\n",
            "dtype: int64\n"
          ],
          "name": "stdout"
        }
      ]
    },
    {
      "metadata": {
        "id": "cczq1eaCrzYD",
        "colab_type": "text"
      },
      "cell_type": "markdown",
      "source": [
        "** Understand features and relations in train data **\n",
        "\n",
        "\n",
        "\n",
        "---\n",
        "\n"
      ]
    },
    {
      "metadata": {
        "id": "geq6hcTrsAiY",
        "colab_type": "text"
      },
      "cell_type": "markdown",
      "source": [
        "** Survived Class **\n",
        "* 0 = No, 1 = Yes\n",
        "* Number of survived & unsurvived  (died) in train data \n",
        "\n"
      ]
    },
    {
      "metadata": {
        "id": "5cMK19P1aynu",
        "colab_type": "code",
        "outputId": "b6ab6c0b-05a4-427d-859b-3562c2e76b35",
        "colab": {
          "base_uri": "https://localhost:8080/",
          "height": 435
        }
      },
      "cell_type": "code",
      "source": [
        "survived_values_count = train['Survived'].value_counts()\n",
        "print(survived_values_count)\n",
        "print()\n",
        "\n",
        "\n",
        "x = ('Died','Survived')\n",
        "x_pos = np.arange(len(x))\n",
        "survived_values_count =survived_values_count.iloc[:].values\n",
        "\n",
        "barlist = plt.bar(x_pos, survived_values_count, align='center')\n",
        "plt.xticks(x_pos, x)\n",
        "plt.xlabel('Passengers')\n",
        "plt.ylabel('Count')\n",
        "plt.xlim(-1, 2)\n",
        "plt.ylim(0, 700)\n",
        "barlist[0].set_color('r')\n",
        "barlist[1].set_color('g')\n",
        "\n",
        "plt.text(-(0.25/4), survived_values_count[0]+15, str(survived_values_count[0]))\n",
        "plt.text(1-(0.25/4), survived_values_count[1]+15, str(survived_values_count[1]))\n",
        "\n",
        "plt.show()\n",
        "\n"
      ],
      "execution_count": 0,
      "outputs": [
        {
          "output_type": "stream",
          "text": [
            "0    549\n",
            "1    342\n",
            "Name: Survived, dtype: int64\n",
            "\n"
          ],
          "name": "stdout"
        },
        {
          "output_type": "display_data",
          "data": {
            "image/png": "[encoded data removed]",
            "text/plain": [
              "<Figure size 576x396 with 1 Axes>"
            ]
          },
          "metadata": {
            "tags": []
          }
        }
      ]
    },
    {
      "metadata": {
        "id": "Lo0RRQzWdS6y",
        "colab_type": "text"
      },
      "cell_type": "markdown",
      "source": [
        "**Lets start with features with no missing values**"
      ]
    },
    {
      "metadata": {
        "id": "iqEUDulHsqvn",
        "colab_type": "text"
      },
      "cell_type": "markdown",
      "source": [
        "**Pclass Feature**\n",
        "* i.e. Ticket class\t\n",
        "* 1 = 1st, 2 = 2nd, 3 = 3rd\n",
        "* Notice that number of passengers of each class is not equal, 3rd class has the more passengers and more died!\n",
        "* From the plots below, it's clear that as the Pclass increases (1st is the heighest) the percentage of survive is increased! Thats logical since higher class have better places in the ship I think! \n"
      ]
    },
    {
      "metadata": {
        "id": "yxzTSbVR5mAO",
        "colab_type": "code",
        "outputId": "cd9db31b-ca32-4b46-8841-4cc25cca948a",
        "colab": {
          "base_uri": "https://localhost:8080/",
          "height": 576
        }
      },
      "cell_type": "code",
      "source": [
        "# pclass feature\n",
        "pclass_values_count = train['Pclass'].value_counts()\n",
        "print(\"Each class count:\")\n",
        "print(pclass_values_count)\n",
        "print()\n",
        "\n",
        "# percentage of survived of each class\n",
        "survived_values_Percent= train[['Pclass', 'Survived']].groupby(['Pclass'], as_index=False).mean()\n",
        "print(\"Percenatge of Survived for each class:\")\n",
        "print(survived_values_Percent)\n",
        "\n",
        "print()\n",
        "\n",
        "pclass = ('1st', '2nd', '3rd')\n",
        "x_pos = np.arange(len(pclass))\n",
        "survicedPercent =survived_values_Percent.iloc[:,1].values\n",
        " \n",
        "barlist = plt.bar(x_pos, survicedPercent, align='center')\n",
        "plt.xticks(x_pos, pclass)\n",
        "plt.xlabel('Pclass')\n",
        "plt.ylabel('Survived Percentage')\n",
        "plt.xlim(-1, 3)\n",
        "plt.ylim(0, 1)\n",
        "barlist[0].set_color('r')\n",
        "barlist[1].set_color('g')\n",
        "\n",
        "text1 = str(\"%.2f\" % (survicedPercent[0]*100))\n",
        "text2 = str(\"%.2f\" % (survicedPercent[1]*100))\n",
        "text3 = str(\"%.2f\" % (survicedPercent[2]*100))\n",
        "\n",
        "plt.text(-(0.25/4), survicedPercent[0]+0.025,text1+\"%\" )\n",
        "plt.text(1-(0.25/4), survicedPercent[1]+0.025,text2+\"%\" )\n",
        "plt.text(2-(0.25/4), survicedPercent[2]+0.025,text3+\"%\" )\n",
        "\n",
        "plt.show()\n",
        "\n"
      ],
      "execution_count": 0,
      "outputs": [
        {
          "output_type": "stream",
          "text": [
            "Each class count:\n",
            "3    491\n",
            "1    216\n",
            "2    184\n",
            "Name: Pclass, dtype: int64\n",
            "\n",
            "Percenatge of Survived for each class:\n",
            "   Pclass  Survived\n",
            "0       1  0.629630\n",
            "1       2  0.472826\n",
            "2       3  0.242363\n",
            "\n"
          ],
          "name": "stdout"
        },
        {
          "output_type": "display_data",
          "data": {
            "image/png": "[encoded data removed]",
            "text/plain": [
              "<Figure size 576x396 with 1 Axes>"
            ]
          },
          "metadata": {
            "tags": []
          }
        }
      ]
    },
    {
      "metadata": {
        "id": "l0KEElBQeVBz",
        "colab_type": "text"
      },
      "cell_type": "markdown",
      "source": [
        "**Sex Feature**\n",
        "* Female\n",
        "* Male\n",
        "* Number of males passnegers is more than female passengers.\n",
        "* From the plots below, the survived females more than survived males."
      ]
    },
    {
      "metadata": {
        "id": "_XpvC0c25npy",
        "colab_type": "code",
        "outputId": "34dc8a6c-195f-42e7-de3d-826f05550cc8",
        "colab": {
          "base_uri": "https://localhost:8080/",
          "height": 523
        }
      },
      "cell_type": "code",
      "source": [
        "sex_values_count = train['Sex'].value_counts()\n",
        "print(\"Each Sex count:\")\n",
        "print(sex_values_count)\n",
        "print()\n",
        "\n",
        "survived_values_Percent = train[['Sex', 'Survived']].groupby(['Sex'], as_index=False).mean()\n",
        "print(survived_values_Percent)\n",
        "print()\n",
        "\n",
        "sex = ('Female','Male')\n",
        "x_pos = np.arange(len(sex))\n",
        "survicedPercent =survived_values_Percent.iloc[:,1].values\n",
        " \n",
        "barlist = plt.bar(x_pos, survicedPercent, align='center')\n",
        "plt.xticks(x_pos, sex)\n",
        "plt.xlabel('Sex')\n",
        "plt.ylabel('Survived Percentage')\n",
        "plt.xlim(-1, 2)\n",
        "plt.ylim(0, 1)\n",
        "barlist[0].set_color('r')\n",
        "barlist[1].set_color('g')\n",
        "\n",
        "text1 = str(\"%.2f\" % (survicedPercent[0]*100))\n",
        "text2 = str(\"%.2f\" % (survicedPercent[1]*100))\n",
        "\n",
        "plt.text(-(0.25/4), survicedPercent[0]+0.025,text1+\"%\" )\n",
        "plt.text(1-(0.25/4), survicedPercent[1]+0.025,text2+\"%\" )\n",
        "\n",
        "plt.show()"
      ],
      "execution_count": 0,
      "outputs": [
        {
          "output_type": "stream",
          "text": [
            "Each Sex count:\n",
            "male      577\n",
            "female    314\n",
            "Name: Sex, dtype: int64\n",
            "\n",
            "      Sex  Survived\n",
            "0  female  0.742038\n",
            "1    male  0.188908\n",
            "\n"
          ],
          "name": "stdout"
        },
        {
          "output_type": "display_data",
          "data": {
            "image/png": "[encoded data removed]",
            "text/plain": [
              "<Figure size 576x396 with 1 Axes>"
            ]
          },
          "metadata": {
            "tags": []
          }
        }
      ]
    },
    {
      "metadata": {
        "id": "ZCVEPMA4fkSV",
        "colab_type": "text"
      },
      "cell_type": "markdown",
      "source": [
        "**sibsp Feature**\n",
        "* Num of siblings / spouses aboard the Titanic\n",
        "* range from 0 to 4 and few values of 5 & 8 so percent of them nearly zero\n",
        "* most of the passengers has no sibsp, and some of them has 1 sibsp.\n",
        "* The plots below shows the percentage of each sibsp and survived \n"
      ]
    },
    {
      "metadata": {
        "id": "dsAJZ_Lk5nzk",
        "colab_type": "code",
        "outputId": "2d5e229f-b64c-456a-fb9b-90c249fff30b",
        "colab": {
          "base_uri": "https://localhost:8080/",
          "height": 699
        }
      },
      "cell_type": "code",
      "source": [
        "sibsp_values_count = train['SibSp'].value_counts()\n",
        "print(\"Each SibSp count:\")\n",
        "print(sibsp_values_count)\n",
        "print()\n",
        "\n",
        "survived_values_Percent = train[['SibSp', 'Survived']].groupby(['SibSp'], as_index=False).mean()\n",
        "print(survived_values_Percent)\n",
        "print()\n",
        "\n",
        "sibsp = ('0', '1','2','3','4')\n",
        "x_pos = np.arange(len(sibsp))\n",
        "survicedPercent =survived_values_Percent.iloc[:,1].values[0:len(sibsp)]\n",
        " \n",
        "barlist = plt.bar(x_pos, survicedPercent, align='center')\n",
        "plt.xticks(x_pos, sibsp)\n",
        "plt.xlabel('number of sibsp')\n",
        "plt.ylabel('Survived Percentage')\n",
        "plt.xlim(-1,len(sibsp) )\n",
        "plt.ylim(0, 1)\n",
        "\n",
        "plt.show()"
      ],
      "execution_count": 0,
      "outputs": [
        {
          "output_type": "stream",
          "text": [
            "Each SibSp count:\n",
            "0    608\n",
            "1    209\n",
            "2     28\n",
            "4     18\n",
            "3     16\n",
            "8      7\n",
            "5      5\n",
            "Name: SibSp, dtype: int64\n",
            "\n",
            "   SibSp  Survived\n",
            "0      0  0.345395\n",
            "1      1  0.535885\n",
            "2      2  0.464286\n",
            "3      3  0.250000\n",
            "4      4  0.166667\n",
            "5      5  0.000000\n",
            "6      8  0.000000\n",
            "\n"
          ],
          "name": "stdout"
        },
        {
          "output_type": "display_data",
          "data": {
            "image/png": "[encoded data removed]",
            "text/plain": [
              "<Figure size 576x396 with 1 Axes>"
            ]
          },
          "metadata": {
            "tags": []
          }
        }
      ]
    },
    {
      "metadata": {
        "id": "LacTsc9ahHpM",
        "colab_type": "text"
      },
      "cell_type": "markdown",
      "source": [
        "**Parch Feature**\n",
        "* Num of parents / children aboard the Titanic\n",
        "* range from 0 to 5, few values of 3-5 so percent of them nearly zero\n",
        "* most of the passengers has no Parch, and some of them has 1 Parch.\n",
        "* The plots below shows the percentage of each Parch and survived \n"
      ]
    },
    {
      "metadata": {
        "id": "b49HSPqq5n4j",
        "colab_type": "code",
        "outputId": "a8b5dfc8-83a6-4d51-9a91-619619d9c20f",
        "colab": {
          "base_uri": "https://localhost:8080/",
          "height": 699
        }
      },
      "cell_type": "code",
      "source": [
        "parch_values_count = train['Parch'].value_counts()\n",
        "print(\"Each Parch count:\")\n",
        "print(parch_values_count)\n",
        "print()\n",
        "\n",
        "survived_values_Percent = train[['Parch', 'Survived']].groupby(['Parch'], as_index=False).mean()\n",
        "print(survived_values_Percent)\n",
        "print()\n",
        "\n",
        "parch = ('0', '1','2','3','4' ,'5','6')\n",
        "x_pos = np.arange(len(parch))\n",
        "survicedPercent =survived_values_Percent.iloc[:,1].values\n",
        " \n",
        "barlist = plt.bar(x_pos, survicedPercent, align='center')\n",
        "plt.xticks(x_pos, parch)\n",
        "plt.xlabel('number of parch')\n",
        "plt.ylabel('Survived Percentage')\n",
        "plt.xlim(-1,len(parch) )\n",
        "plt.ylim(0, 1)\n",
        "\n",
        "plt.show()"
      ],
      "execution_count": 0,
      "outputs": [
        {
          "output_type": "stream",
          "text": [
            "Each Parch count:\n",
            "0    678\n",
            "1    118\n",
            "2     80\n",
            "5      5\n",
            "3      5\n",
            "4      4\n",
            "6      1\n",
            "Name: Parch, dtype: int64\n",
            "\n",
            "   Parch  Survived\n",
            "0      0  0.343658\n",
            "1      1  0.550847\n",
            "2      2  0.500000\n",
            "3      3  0.600000\n",
            "4      4  0.000000\n",
            "5      5  0.200000\n",
            "6      6  0.000000\n",
            "\n"
          ],
          "name": "stdout"
        },
        {
          "output_type": "display_data",
          "data": {
            "image/png": "[encoded data removed]",
            "text/plain": [
              "<Figure size 576x396 with 1 Axes>"
            ]
          },
          "metadata": {
            "tags": []
          }
        }
      ]
    },
    {
      "metadata": {
        "id": "gsiqCplxh1Hg",
        "colab_type": "text"
      },
      "cell_type": "markdown",
      "source": [
        "**Before continue in other features, lets stop here for a while**\n",
        "* ** From the previos two features sibsp & parch .. we can introcude a new feature with name \"Family size\"!**"
      ]
    },
    {
      "metadata": {
        "id": "2aWLTyQz7FkZ",
        "colab_type": "code",
        "outputId": "aee060a1-0d03-4abc-f079-7eaf3c8326cb",
        "colab": {
          "base_uri": "https://localhost:8080/",
          "height": 558
        }
      },
      "cell_type": "code",
      "source": [
        "for dataset in all_data:\n",
        "    dataset['FamilySize'] = dataset['SibSp'] + dataset['Parch'] + 1  # +1 the passenger self\n",
        "    \n",
        "family_values_Percent = train[['FamilySize', 'Survived']].groupby(['FamilySize'], as_index=False).mean()\n",
        "print(family_values_Percent)\n",
        "print()\n",
        "\n",
        "family= [1,2,3,4,5,6]\n",
        "family = [str(i) for i in family]\n",
        "\n",
        "x_pos = np.arange(len(family))\n",
        "survicedPercent =survived_values_Percent.iloc[:,1].values[0:len(family)]\n",
        " \n",
        "barlist = plt.bar(x_pos, survicedPercent, align='center')\n",
        "plt.xticks(x_pos, family)\n",
        "plt.xlabel('Family Size')\n",
        "plt.ylabel('Survived Percentage')\n",
        "plt.xlim(-1,len(family) )\n",
        "plt.ylim(0, 1)\n",
        "\n",
        "plt.show()"
      ],
      "execution_count": 0,
      "outputs": [
        {
          "output_type": "stream",
          "text": [
            "   FamilySize  Survived\n",
            "0           1  0.303538\n",
            "1           2  0.552795\n",
            "2           3  0.578431\n",
            "3           4  0.724138\n",
            "4           5  0.200000\n",
            "5           6  0.136364\n",
            "6           7  0.333333\n",
            "7           8  0.000000\n",
            "8          11  0.000000\n",
            "\n"
          ],
          "name": "stdout"
        },
        {
          "output_type": "display_data",
          "data": {
            "image/png": "[encoded data removed]",
            "text/plain": [
              "<Figure size 576x396 with 1 Axes>"
            ]
          },
          "metadata": {
            "tags": []
          }
        }
      ]
    },
    {
      "metadata": {
        "id": "HIRIlm-LmYOy",
        "colab_type": "text"
      },
      "cell_type": "markdown",
      "source": [
        "**We can add a new feature also from Family size featire , which is \"isAlone\" **\n",
        "* isAlone is  a boolean feature, it true (i.e. 1) when the family size = 1 (the passenger himself only)\n",
        "* Num of alone passnegers is more than not alone passengers, but the percenetge of survived of alone passngers is the less, this is maybe an indicate  for a help between families rather than others!"
      ]
    },
    {
      "metadata": {
        "id": "g2Bkb-x173Jr",
        "colab_type": "code",
        "outputId": "2a4fa235-c5db-49ce-c1fb-7f82d61e8e2e",
        "colab": {
          "base_uri": "https://localhost:8080/",
          "height": 523
        }
      },
      "cell_type": "code",
      "source": [
        "for dataset in all_data:\n",
        "    dataset['IsAlone'] = 0\n",
        "    dataset.loc[dataset['FamilySize'] == 1, 'IsAlone'] = 1\n",
        "    \n",
        "\n",
        "isalaone_values_count = train['IsAlone'].value_counts()\n",
        "print(\"Each IsAlone count:\")\n",
        "print(isalaone_values_count)\n",
        "print()\n",
        "   \n",
        "survived_values_Percent = train[['IsAlone', 'Survived']].groupby(['IsAlone'], as_index=False).mean()\n",
        "print(survived_values_Percent)\n",
        "print()\n",
        "\n",
        "x = ['NO', 'YES']\n",
        "\n",
        "x_pos = np.arange(len(x))\n",
        "survicedPercent =survived_values_Percent.iloc[:,1].values\n",
        " \n",
        "barlist = plt.bar(x_pos, survicedPercent, align='center')\n",
        "plt.xticks(x_pos, x)\n",
        "plt.xlabel('Is Alone')\n",
        "plt.ylabel('Survived Percentage')\n",
        "plt.xlim(-1,len(x) )\n",
        "plt.ylim(0, 1)\n",
        "\n",
        "plt.show()"
      ],
      "execution_count": 0,
      "outputs": [
        {
          "output_type": "stream",
          "text": [
            "Each IsAlone count:\n",
            "1    537\n",
            "0    354\n",
            "Name: IsAlone, dtype: int64\n",
            "\n",
            "   IsAlone  Survived\n",
            "0        0  0.505650\n",
            "1        1  0.303538\n",
            "\n"
          ],
          "name": "stdout"
        },
        {
          "output_type": "display_data",
          "data": {
            "image/png": "[encoded data removed]",
            "text/plain": [
              "<Figure size 576x396 with 1 Axes>"
            ]
          },
          "metadata": {
            "tags": []
          }
        }
      ]
    },
    {
      "metadata": {
        "id": "Z_mV71JUsNW9",
        "colab_type": "text"
      },
      "cell_type": "markdown",
      "source": [
        "**Embarked Feature**"
      ]
    },
    {
      "metadata": {
        "id": "hzIfMYSJBoW8",
        "colab_type": "code",
        "outputId": "1f0446f1-8fe0-4de7-8f4b-a4e415a2fe1f",
        "colab": {
          "base_uri": "https://localhost:8080/",
          "height": 558
        }
      },
      "cell_type": "code",
      "source": [
        "embark_values_count = train['Embarked'].value_counts()\n",
        "print(\"Each Embark count:\")\n",
        "print(embark_values_count)\n",
        "print()\n",
        "   \n",
        "survived_values_Percent = train[['Embarked', 'Survived']].groupby(['Embarked'], as_index=False).mean()\n",
        "print(survived_values_Percent)\n",
        "print()\n",
        "\n",
        "em = ['C','Q','S']\n",
        "\n",
        "x_pos = np.arange(len(em))\n",
        "survicedPercent =survived_values_Percent.iloc[:,1].values\n",
        " \n",
        "barlist = plt.bar(x_pos, survicedPercent, align='center')\n",
        "plt.xticks(x_pos, em)\n",
        "plt.xlabel('Embark')\n",
        "plt.ylabel('Survived Percentage')\n",
        "plt.xlim(-1,len(em) )\n",
        "plt.ylim(0, 1)\n",
        "\n",
        "plt.show()"
      ],
      "execution_count": 0,
      "outputs": [
        {
          "output_type": "stream",
          "text": [
            "Each Embark count:\n",
            "S    644\n",
            "C    168\n",
            "Q     77\n",
            "Name: Embarked, dtype: int64\n",
            "\n",
            "  Embarked  Survived\n",
            "0        C  0.553571\n",
            "1        Q  0.389610\n",
            "2        S  0.336957\n",
            "\n"
          ],
          "name": "stdout"
        },
        {
          "output_type": "display_data",
          "data": {
            "image/png": "[encoded data removed]",
            "text/plain": [
              "<Figure size 576x396 with 1 Axes>"
            ]
          },
          "metadata": {
            "tags": []
          }
        }
      ]
    },
    {
      "metadata": {
        "id": "CfR1BgOvtlBq",
        "colab_type": "text"
      },
      "cell_type": "markdown",
      "source": [
        "** But there is 2 missing values in the Embarked train data, lets fill it with S since its the most repeated( based on count not survived) and again get the results and plots**"
      ]
    },
    {
      "metadata": {
        "id": "beVlKhLOCKtr",
        "colab_type": "code",
        "outputId": "94bf2c4c-36fc-4392-e980-d575febf92f1",
        "colab": {
          "base_uri": "https://localhost:8080/",
          "height": 558
        }
      },
      "cell_type": "code",
      "source": [
        "for dataset in all_data:\n",
        "    dataset['Embarked'] = dataset['Embarked'].fillna('S')\n",
        "\n",
        "embark_values_count = train['Embarked'].value_counts()\n",
        "print(\"Each Embark count:\")\n",
        "print(embark_values_count)\n",
        "print()\n",
        "   \n",
        "survived_values_Percent = train[['Embarked', 'Survived']].groupby(['Embarked'], as_index=False).mean()\n",
        "print(survived_values_Percent)\n",
        "print()\n",
        "\n",
        "em = ['C','Q','S']\n",
        "\n",
        "x_pos = np.arange(len(em))\n",
        "survicedPercent =survived_values_Percent.iloc[:,1].values\n",
        " \n",
        "barlist = plt.bar(x_pos, survicedPercent, align='center')\n",
        "plt.xticks(x_pos, em)\n",
        "plt.xlabel('Embark')\n",
        "plt.ylabel('Survived Percentage')\n",
        "plt.xlim(-1,len(em) )\n",
        "plt.ylim(0, 1)\n",
        "\n",
        "plt.show()"
      ],
      "execution_count": 0,
      "outputs": [
        {
          "output_type": "stream",
          "text": [
            "Each Embark count:\n",
            "S    646\n",
            "C    168\n",
            "Q     77\n",
            "Name: Embarked, dtype: int64\n",
            "\n",
            "  Embarked  Survived\n",
            "0        C  0.553571\n",
            "1        Q  0.389610\n",
            "2        S  0.339009\n",
            "\n"
          ],
          "name": "stdout"
        },
        {
          "output_type": "display_data",
          "data": {
            "image/png": "[encoded data removed]",
            "text/plain": [
              "<Figure size 576x396 with 1 Axes>"
            ]
          },
          "metadata": {
            "tags": []
          }
        }
      ]
    },
    {
      "metadata": {
        "id": "eAtn66JMuHcu",
        "colab_type": "text"
      },
      "cell_type": "markdown",
      "source": [
        "**Cabin Feature**\n",
        "* There are many cabin values (148 value), max cabin passengers are 4 and 3 .. so there is no  big difference between cabins.\n",
        "* There are big number of missing cabin values (687 in train data and 327 in test data)\n",
        "* Fill missing values randomly from all avilabale cabin values\n",
        "* Will not plot it as aplot for a148 value will not be clear.\n",
        "* We can't categorize here, its not  numbers."
      ]
    },
    {
      "metadata": {
        "id": "elh6W14_Rd0v",
        "colab_type": "code",
        "outputId": "58471a72-cb48-4407-92ca-abbb15cc7030",
        "colab": {
          "base_uri": "https://localhost:8080/",
          "height": 34
        }
      },
      "cell_type": "code",
      "source": [
        "#fill missings\n",
        "for dataset in all_data:\n",
        "    dataset['Cabin'] = dataset['Cabin'].fillna(lambda x: random.choice(df[df[column] != np.nan]['Cabin']))\n",
        "    \n",
        "cabin_values_count = train['Cabin'].value_counts()\n",
        "\n",
        "print(\" Number of unique values of Cabin feature: \", len(cabin_values_count))"
      ],
      "execution_count": 0,
      "outputs": [
        {
          "output_type": "stream",
          "text": [
            " Number of unique values of Cabin feature:  148\n"
          ],
          "name": "stdout"
        }
      ]
    },
    {
      "metadata": {
        "id": "aRE6yZmownKN",
        "colab_type": "text"
      },
      "cell_type": "markdown",
      "source": [
        "**Fare Feature**\n",
        "* There are 222 value for fare features in train data\n",
        "* No missing values in train data, just one missing value in test data,  fill it with median value \n",
        "* Categorize Fare feature, for example for 4 categories, nearly equal number of entries in each category\n",
        "* The plots below shows that higher fare categories have a higher survived percentage!"
      ]
    },
    {
      "metadata": {
        "id": "ayKS_9fUUYX8",
        "colab_type": "code",
        "outputId": "7450fbeb-367e-4a72-b9aa-3a5f4a33f4f8",
        "colab": {
          "base_uri": "https://localhost:8080/",
          "height": 642
        }
      },
      "cell_type": "code",
      "source": [
        "fair_values_count = train['Fare'].value_counts()\n",
        "print(\" Number of unique values of Fare feature: \",len(fair_values_count))\n",
        "print()\n",
        "\n",
        "# fill missings\n",
        "for dataset in all_data:\n",
        "    dataset['Fare'] = dataset['Fare'].fillna(train['Fare'].median())\n",
        "\n",
        "\n",
        "# categorize fare into 4 categories (equal number of entries in each category)\n",
        "train['CategoricalFare'] = pd.qcut(train['Fare'], 4)\n",
        "\n",
        "fare_values_count = train['CategoricalFare'].value_counts()\n",
        "print(\"Each Fare Category count:\")\n",
        "print()\n",
        "print(fare_values_count)\n",
        "print()\n",
        "   \n",
        "survived_values_Percent = train[['CategoricalFare', 'Survived']].groupby(['CategoricalFare'], as_index=False).mean()\n",
        "print(survived_values_Percent)\n",
        "print()\n",
        "\n",
        "survived_values_Percent.plot(kind='bar')\n",
        "\n",
        "\n",
        "plt.xlabel('Fare Category')\n",
        "plt.ylabel('Survived Percentage')\n",
        "plt.xlim(-1, 4 )\n",
        "plt.ylim(0, 1)\n",
        "\n",
        "plt.show()\n",
        "    "
      ],
      "execution_count": 0,
      "outputs": [
        {
          "output_type": "stream",
          "text": [
            " Number of unique values of Fare feature:  248\n",
            "\n",
            "Each Fare Category count:\n",
            "\n",
            "(7.91, 14.454]     224\n",
            "(-0.001, 7.91]     223\n",
            "(31.0, 512.329]    222\n",
            "(14.454, 31.0]     222\n",
            "Name: CategoricalFare, dtype: int64\n",
            "\n",
            "   CategoricalFare  Survived\n",
            "0   (-0.001, 7.91]  0.197309\n",
            "1   (7.91, 14.454]  0.303571\n",
            "2   (14.454, 31.0]  0.454955\n",
            "3  (31.0, 512.329]  0.581081\n",
            "\n"
          ],
          "name": "stdout"
        },
        {
          "output_type": "display_data",
          "data": {
            "image/png": "[encoded data removed]",
            "text/plain": [
              "<Figure size 576x396 with 1 Axes>"
            ]
          },
          "metadata": {
            "tags": []
          }
        }
      ]
    },
    {
      "metadata": {
        "id": "6pXpOb6b7dgO",
        "colab_type": "text"
      },
      "cell_type": "markdown",
      "source": [
        "**Age Feature**\n",
        "* Age has 88 unique value.\n",
        "* There area 177 missing value in train data, and 86 value in test data.\n"
      ]
    },
    {
      "metadata": {
        "id": "pC29mPtRXBOa",
        "colab_type": "code",
        "outputId": "53d4f1ca-ba7c-4655-984a-b6d73f5f915e",
        "colab": {
          "base_uri": "https://localhost:8080/",
          "height": 379
        }
      },
      "cell_type": "code",
      "source": [
        "# count of each age value \n",
        "age_values_count = train['Age'].value_counts()\n",
        "print(\" Number of unique values of Age feature: \",len(age_values_count))\n",
        "print()\n",
        "\n",
        "print(\"don't worry about this warrning\")\n",
        "# generate random numbers between (mean - std) and (mean + std).\n",
        "for dataset in all_data:\n",
        "    age_avg \t   = dataset['Age'].mean()\n",
        "    age_std \t   = dataset['Age'].std()\n",
        "    age_null_count = dataset['Age'].isnull().sum() # num of missing values in all data (train+test)\n",
        "\n",
        "    age_null_random_list = np.random.randint(age_avg - age_std, age_avg + age_std, size=age_null_count)\n",
        "    dataset['Age'][np.isnan(dataset['Age'])] = age_null_random_list\n",
        "    dataset['Age'] = dataset['Age'].astype(int)\n",
        "\n",
        "    \n",
        "g = sns.FacetGrid(train, col='Survived')\n",
        "g.map(plt.hist, 'Age', bins=20)    "
      ],
      "execution_count": 0,
      "outputs": [
        {
          "output_type": "stream",
          "text": [
            " Number of unique values of Age feature:  88\n",
            "\n",
            "don't worry about this warrning\n"
          ],
          "name": "stdout"
        },
        {
          "output_type": "stream",
          "text": [
            "/usr/local/lib/python3.6/dist-packages/ipykernel_launcher.py:13: SettingWithCopyWarning: \n",
            "A value is trying to be set on a copy of a slice from a DataFrame\n",
            "\n",
            "See the caveats in the documentation: http://pandas.pydata.org/pandas-docs/stable/indexing.html#indexing-view-versus-copy\n",
            "  del sys.path[0]\n"
          ],
          "name": "stderr"
        },
        {
          "output_type": "execute_result",
          "data": {
            "text/plain": [
              "<seaborn.axisgrid.FacetGrid at 0x7f519f9b3b38>"
            ]
          },
          "metadata": {
            "tags": []
          },
          "execution_count": 59
        },
        {
          "output_type": "display_data",
          "data": {
            "image/png": "[encoded data removed]",
            "text/plain": [
              "<Figure size 432x216 with 2 Axes>"
            ]
          },
          "metadata": {
            "tags": []
          }
        }
      ]
    },
    {
      "metadata": {
        "id": "5Q-khPCk9prb",
        "colab_type": "text"
      },
      "cell_type": "markdown",
      "source": [
        "** Categorize Age feature values into 5 categories for example **"
      ]
    },
    {
      "metadata": {
        "id": "RwKRy1d65nui",
        "colab_type": "code",
        "outputId": "eefcc822-6167-49f5-bbf3-7089cddaffa3",
        "colab": {
          "base_uri": "https://localhost:8080/",
          "height": 642
        }
      },
      "cell_type": "code",
      "source": [
        "#categorize age into 5 range\n",
        "\n",
        "train['CategoricalAge'] = pd.qcut(train['Age'], 5)\n",
        "\n",
        "age_values_count = train['CategoricalAge'].value_counts()\n",
        "print(\"Each Age Category count:\")\n",
        "print()\n",
        "\n",
        "print(age_values_count)\n",
        "print()\n",
        "   \n",
        "survived_values_Percent = train[['CategoricalAge', 'Survived']].groupby(['CategoricalAge'], as_index=False).mean()\n",
        "print(survived_values_Percent)\n",
        "print()\n",
        "\n",
        "survived_values_Percent.plot(kind='bar')\n",
        "\n",
        "\n",
        "plt.xlabel('Age Category')\n",
        "plt.ylabel('Survived Percentage')\n",
        "plt.xlim(-1, 5 )\n",
        "plt.ylim(0, 1)\n",
        "\n",
        "plt.show()\n",
        "    "
      ],
      "execution_count": 0,
      "outputs": [
        {
          "output_type": "stream",
          "text": [
            "Each Age Category count:\n",
            "\n",
            "(-0.001, 19.0]    188\n",
            "(31.0, 40.0]      181\n",
            "(25.0, 31.0]      176\n",
            "(19.0, 25.0]      176\n",
            "(40.0, 80.0]      170\n",
            "Name: CategoricalAge, dtype: int64\n",
            "\n",
            "   CategoricalAge  Survived\n",
            "0  (-0.001, 19.0]  0.452128\n",
            "1    (19.0, 25.0]  0.323864\n",
            "2    (25.0, 31.0]  0.357955\n",
            "3    (31.0, 40.0]  0.403315\n",
            "4    (40.0, 80.0]  0.376471\n",
            "\n"
          ],
          "name": "stdout"
        },
        {
          "output_type": "display_data",
          "data": {
            "image/png": "[encoded data removed]",
            "text/plain": [
              "<Figure size 576x396 with 1 Axes>"
            ]
          },
          "metadata": {
            "tags": []
          }
        }
      ]
    },
    {
      "metadata": {
        "id": "DEk0tmdQAQb-",
        "colab_type": "text"
      },
      "cell_type": "markdown",
      "source": [
        "**Name Feature**\n",
        " * We can  benifit from the name by extract the title (nickname) ; mr , ms, etc\n"
      ]
    },
    {
      "metadata": {
        "id": "CRSA-ITt5nyp",
        "colab_type": "code",
        "outputId": "e3d49c93-62d8-4959-bf81-425c6206353e",
        "colab": {
          "base_uri": "https://localhost:8080/",
          "height": 351
        }
      },
      "cell_type": "code",
      "source": [
        "def get_title(name):\n",
        "\ttitle_search = re.search(' ([A-Za-z]+)\\.', name)\n",
        "\t# If the title exists, extract and return it.\n",
        "\tif title_search:\n",
        "\t\treturn title_search.group(1)\n",
        "\treturn \"\"\n",
        "\n",
        "for dataset in all_data:\n",
        "    dataset['Title'] = dataset['Name'].apply(get_title)\n",
        "\n",
        "print(pd.crosstab(train['Title'], train['Sex']))"
      ],
      "execution_count": 0,
      "outputs": [
        {
          "output_type": "stream",
          "text": [
            "Sex       female  male\n",
            "Title                 \n",
            "Capt           0     1\n",
            "Col            0     2\n",
            "Countess       1     0\n",
            "Don            0     1\n",
            "Dr             1     6\n",
            "Jonkheer       0     1\n",
            "Lady           1     0\n",
            "Major          0     2\n",
            "Master         0    40\n",
            "Miss         182     0\n",
            "Mlle           2     0\n",
            "Mme            1     0\n",
            "Mr             0   517\n",
            "Mrs          125     0\n",
            "Ms             1     0\n",
            "Rev            0     6\n",
            "Sir            0     1\n"
          ],
          "name": "stdout"
        }
      ]
    },
    {
      "metadata": {
        "id": "7uIxzX29ApJG",
        "colab_type": "text"
      },
      "cell_type": "markdown",
      "source": [
        "** We group it as female and male to make sure that its a correct information **\n",
        "* Mr, Mrs, Miss, and Master have the most repeted values.\n",
        "* Mme and Mlle in French are same as Mrs and Ms in English .. so convet them.\n",
        "* Group the rest of titles in one title 'Rare'"
      ]
    },
    {
      "metadata": {
        "id": "Va1_pq-U5noz",
        "colab_type": "code",
        "outputId": "fc1c44d5-a8f2-480c-e0b2-99c5d5cf7e3b",
        "colab": {
          "base_uri": "https://localhost:8080/",
          "height": 509
        }
      },
      "cell_type": "code",
      "source": [
        "for dataset in all_data:\n",
        "    dataset['Title'] = dataset['Title'].replace(['Lady', 'Countess','Capt', 'Col',\\\n",
        " \t'Don', 'Dr', 'Major', 'Rev', 'Sir', 'Jonkheer', 'Dona'], 'Rare')\n",
        "\n",
        "    dataset['Title'] = dataset['Title'].replace('Mlle', 'Miss')\n",
        "    dataset['Title'] = dataset['Title'].replace('Ms', 'Miss')\n",
        "    dataset['Title'] = dataset['Title'].replace('Mme', 'Mrs')\n",
        "\n",
        "\n",
        "survived_values_Percent = train[['Title', 'Survived']].groupby(['Title'], as_index=False).mean()\n",
        "print(survived_values_Percent)\n",
        "print()\n",
        "\n",
        "survived_values_Percent.plot(kind='bar')\n",
        "titles = [ 'Master', 'Miss', 'Mr', 'Mrs', 'Rare' ]\n",
        "\n",
        "x_pos = np.arange(len(titles))\n",
        "plt.xticks(x_pos, titles)\n",
        "\n",
        "\n",
        "plt.xlabel('Title')\n",
        "plt.ylabel('Survived Percentage')\n",
        "plt.xlim(-1, 5 )\n",
        "plt.ylim(0, 1)\n",
        "\n",
        "plt.show()"
      ],
      "execution_count": 0,
      "outputs": [
        {
          "output_type": "stream",
          "text": [
            "    Title  Survived\n",
            "0  Master  0.575000\n",
            "1    Miss  0.702703\n",
            "2      Mr  0.156673\n",
            "3     Mrs  0.793651\n",
            "4    Rare  0.347826\n",
            "\n"
          ],
          "name": "stdout"
        },
        {
          "output_type": "display_data",
          "data": {
            "image/png": "[encoded data removed]",
            "text/plain": [
              "<Figure size 576x396 with 1 Axes>"
            ]
          },
          "metadata": {
            "tags": []
          }
        }
      ]
    },
    {
      "metadata": {
        "id": "WYXcVACSCY2X",
        "colab_type": "text"
      },
      "cell_type": "markdown",
      "source": [
        "** Note: Passenger Id & Tickets are not useful to study .. there are just numbers **"
      ]
    },
    {
      "metadata": {
        "id": "Lcw14aF0Ck2C",
        "colab_type": "text"
      },
      "cell_type": "markdown",
      "source": [
        "\n",
        "\n",
        "---\n",
        "\n",
        "---\n",
        "\n",
        "\n",
        "\n",
        "---\n",
        "\n",
        "\n",
        "\n"
      ]
    },
    {
      "metadata": {
        "id": "YatAt9K7eJsj",
        "colab_type": "text"
      },
      "cell_type": "markdown",
      "source": [
        "**Corelation**\n",
        "* The correlation coefficient ranges from –1 to 1\n",
        "* When it is close to 1, it means that there is a strong positive correlation.\n",
        "* When the coefficient is close to –1, it means that there is a strong negative correlation.\n",
        "* zero mean that there is no linear correlation\n",
        "* From the results below its shown:\n",
        " * High positive correlation between SibSp with FamilySize & Parch with Family Size .. thats logical since Family Size produced from them\n",
        "  * Negative correlation between FamilySize with IsAlone\n",
        "  * Negative correlation between Pclass with Fare\n"
      ]
    },
    {
      "metadata": {
        "id": "5Jqy-gvCcE2C",
        "colab_type": "code",
        "outputId": "89b396f0-ad89-46fc-d2b2-0eadfb76464f",
        "colab": {
          "base_uri": "https://localhost:8080/",
          "height": 386
        }
      },
      "cell_type": "code",
      "source": [
        "corr_matrix = train.corr()\n",
        "print(corr_matrix)"
      ],
      "execution_count": 0,
      "outputs": [
        {
          "output_type": "stream",
          "text": [
            "             PassengerId  Survived    Pclass       Age     SibSp     Parch  \\\n",
            "PassengerId     1.000000 -0.005007 -0.035144  0.023319 -0.057527 -0.001652   \n",
            "Survived       -0.005007  1.000000 -0.338481 -0.056737 -0.035322  0.081629   \n",
            "Pclass         -0.035144 -0.338481  1.000000 -0.314317  0.083081  0.018443   \n",
            "Age             0.023319 -0.056737 -0.314317  1.000000 -0.204865 -0.162076   \n",
            "SibSp          -0.057527 -0.035322  0.083081 -0.204865  1.000000  0.414838   \n",
            "Parch          -0.001652  0.081629  0.018443 -0.162076  0.414838  1.000000   \n",
            "Fare            0.012658  0.257307 -0.549500  0.092904  0.159651  0.216225   \n",
            "FamilySize     -0.040143  0.016639  0.065997 -0.220989  0.890712  0.783111   \n",
            "IsAlone         0.057462 -0.203367  0.135207  0.155723 -0.584471 -0.583398   \n",
            "\n",
            "                 Fare  FamilySize   IsAlone  \n",
            "PassengerId  0.012658   -0.040143  0.057462  \n",
            "Survived     0.257307    0.016639 -0.203367  \n",
            "Pclass      -0.549500    0.065997  0.135207  \n",
            "Age          0.092904   -0.220989  0.155723  \n",
            "SibSp        0.159651    0.890712 -0.584471  \n",
            "Parch        0.216225    0.783111 -0.583398  \n",
            "Fare         1.000000    0.217138 -0.271832  \n",
            "FamilySize   0.217138    1.000000 -0.690922  \n",
            "IsAlone     -0.271832   -0.690922  1.000000  \n"
          ],
          "name": "stdout"
        }
      ]
    },
    {
      "metadata": {
        "id": "vRdCtue1CtJ3",
        "colab_type": "text"
      },
      "cell_type": "markdown",
      "source": [
        "** The following figures are a scate plots that show the relations between features **\n",
        "* If you look on each plot of each feature with itself (diagonla figures) It shows the relation with Survived Class"
      ]
    },
    {
      "metadata": {
        "id": "hZLks9-IOfQn",
        "colab_type": "code",
        "outputId": "d0913f03-85fc-4acb-fab5-23d39aefb6e6",
        "colab": {
          "base_uri": "https://localhost:8080/",
          "height": 1105
        }
      },
      "cell_type": "code",
      "source": [
        "temp = train.copy()\n",
        "temp[\"Survived\"][temp[\"Survived\"]==1] = \"Survived\"\n",
        "temp[\"Survived\"][temp[\"Survived\"]==0] = \"Died\"\n",
        "\n",
        "g = sns.pairplot(temp[[ u'Sex', u'Title',  u'Age',  u'SibSp', u'Parch', u'FamilySize', u'IsAlone' , u'Pclass', u'Fare', u'Embarked',  u'Survived']], hue='Survived', palette = 'seismic',size=2,diag_kind = 'kde',diag_kws=dict(shade=True),plot_kws=dict(s=10) )\n",
        "g.set(xticklabels=[])"
      ],
      "execution_count": 0,
      "outputs": [
        {
          "output_type": "stream",
          "text": [
            "/usr/local/lib/python3.6/dist-packages/ipykernel_launcher.py:2: SettingWithCopyWarning: \n",
            "A value is trying to be set on a copy of a slice from a DataFrame\n",
            "\n",
            "See the caveats in the documentation: http://pandas.pydata.org/pandas-docs/stable/indexing.html#indexing-view-versus-copy\n",
            "  \n"
          ],
          "name": "stderr"
        },
        {
          "output_type": "execute_result",
          "data": {
            "text/plain": [
              "<seaborn.axisgrid.PairGrid at 0x7f519fa2b438>"
            ]
          },
          "metadata": {
            "tags": []
          },
          "execution_count": 64
        },
        {
          "output_type": "display_data",
          "data": {
            "image/png": "[encoded data removed]",
            "text/plain": [
              "<Figure size 1082.75x1008 with 56 Axes>"
            ]
          },
          "metadata": {
            "tags": []
          }
        }
      ]
    },
    {
      "metadata": {
        "id": "hYJwVJiiFTqP",
        "colab_type": "text"
      },
      "cell_type": "markdown",
      "source": [
        "\n",
        "\n",
        "---\n",
        "\n",
        "> > >>**The End of Exploring Features, Filling Missing Values and Plotting**\n",
        ">>>>** (Point 1 & 2 From  Assignment 3)**\n",
        "\n",
        "\n",
        "---\n",
        "\n"
      ]
    },
    {
      "metadata": {
        "id": "WtDTW5R-oiqE",
        "colab_type": "text"
      },
      "cell_type": "markdown",
      "source": [
        "**  Map  features into numerical values**"
      ]
    },
    {
      "metadata": {
        "id": "sXIcAHYCojyN",
        "colab_type": "code",
        "colab": {}
      },
      "cell_type": "code",
      "source": [
        "for dataset in all_data:\n",
        "    # Mapping Sex\n",
        "    dataset['Sex'] = dataset['Sex'].map( {'female': 0, 'male': 1} ).astype(int)\n",
        "    \n",
        "    # Mapping titles\n",
        "    title_mapping = {\"Mr\": 1, \"Miss\": 2, \"Mrs\": 3, \"Master\": 4, \"Rare\": 5}\n",
        "    dataset['Title'] = dataset['Title'].map(title_mapping)\n",
        "    dataset['Title'] = dataset['Title'].fillna(0)\n",
        "    \n",
        "    # Mapping Embarked\n",
        "    dataset['Embarked'] = dataset['Embarked'].map( {'S': 0, 'C': 1, 'Q': 2} ).astype(int)\n",
        "    \n",
        "    # Mapping Fare\n",
        "    dataset.loc[ dataset['Fare'] <= 7.91, 'Fare'] = 0\n",
        "    dataset.loc[(dataset['Fare'] > 7.91) & (dataset['Fare'] <= 14.454), 'Fare'] = 1\n",
        "    dataset.loc[(dataset['Fare'] > 14.454) & (dataset['Fare'] <= 31), 'Fare']   = 2\n",
        "    dataset.loc[ dataset['Fare'] > 31, 'Fare']= 3\n",
        "    dataset['Fare'] = dataset['Fare'].astype(int)\n",
        "    \n",
        "    # Mapping Age\n",
        "    dataset.loc[ dataset['Age'] <= 19, 'Age']= 0\n",
        "    dataset.loc[(dataset['Age'] > 19) & (dataset['Age'] <= 25), 'Age'] = 1\n",
        "    dataset.loc[(dataset['Age'] > 25) & (dataset['Age'] <= 31), 'Age'] = 2\n",
        "    dataset.loc[(dataset['Age'] > 31) & (dataset['Age'] <= 40), 'Age'] = 3\n",
        "    dataset.loc[dataset['Age'] > 40, 'Age']= 4\n",
        "    dataset['Age'] = dataset['Age'].astype(int)\n"
      ],
      "execution_count": 0,
      "outputs": []
    },
    {
      "metadata": {
        "id": "FVZ6uSr2giL2",
        "colab_type": "code",
        "colab": {}
      },
      "cell_type": "code",
      "source": [
        "newtrain = train.copy()\n",
        "newtest = test.copy()"
      ],
      "execution_count": 0,
      "outputs": []
    },
    {
      "metadata": {
        "id": "zlNgLELGmE4d",
        "colab_type": "code",
        "outputId": "1e70479c-ebe2-4ab2-a6ae-51693362d59e",
        "colab": {
          "base_uri": "https://localhost:8080/",
          "height": 422
        }
      },
      "cell_type": "code",
      "source": [
        "print(newtrain.info())"
      ],
      "execution_count": 0,
      "outputs": [
        {
          "output_type": "stream",
          "text": [
            "<class 'pandas.core.frame.DataFrame'>\n",
            "RangeIndex: 891 entries, 0 to 890\n",
            "Data columns (total 17 columns):\n",
            "PassengerId        891 non-null int64\n",
            "Survived           891 non-null int64\n",
            "Pclass             891 non-null int64\n",
            "Name               891 non-null object\n",
            "Sex                891 non-null int64\n",
            "Age                891 non-null int64\n",
            "SibSp              891 non-null int64\n",
            "Parch              891 non-null int64\n",
            "Ticket             891 non-null object\n",
            "Fare               891 non-null int64\n",
            "Cabin              891 non-null object\n",
            "Embarked           891 non-null int64\n",
            "FamilySize         891 non-null int64\n",
            "IsAlone            891 non-null int64\n",
            "CategoricalFare    891 non-null category\n",
            "CategoricalAge     891 non-null category\n",
            "Title              891 non-null int64\n",
            "dtypes: category(2), int64(12), object(3)\n",
            "memory usage: 106.4+ KB\n",
            "None\n"
          ],
          "name": "stdout"
        }
      ]
    },
    {
      "metadata": {
        "id": "GrUi1uSagfIX",
        "colab_type": "text"
      },
      "cell_type": "markdown",
      "source": [
        "##**3-Drop non-useful Features**\n",
        "\n",
        "---\n",
        "\n",
        "\n",
        "* Features with no  importance (here passenger IDs, Tickets, Name)\n",
        "* Collinear (highly correlated) features (here SibSp, Parch)\n",
        "* Features with low importance (here Cabin)\n",
        "* Note: Drop Categorical  Age & Fare since replaced with numbers in original features in the previous step\n",
        "\n",
        "\n",
        "\n"
      ]
    },
    {
      "metadata": {
        "id": "2pwo9l83jAoB",
        "colab_type": "code",
        "colab": {}
      },
      "cell_type": "code",
      "source": [
        "# Feature selection\n",
        "drop_elements = ['PassengerId', 'Name', 'SibSp', 'Parch', 'Ticket', 'Cabin']\n",
        "newtrain = newtrain.drop(drop_elements, axis = 1)\n",
        "newtrain = newtrain.drop(['CategoricalAge', 'CategoricalFare'], axis = 1)\n",
        "\n",
        "newtest = newtest.drop(drop_elements, axis = 1)\n"
      ],
      "execution_count": 0,
      "outputs": []
    },
    {
      "metadata": {
        "id": "9jyZBJBbm092",
        "colab_type": "code",
        "outputId": "9d54d51a-8e70-461d-85c6-fb7813253284",
        "colab": {
          "base_uri": "https://localhost:8080/",
          "height": 281
        }
      },
      "cell_type": "code",
      "source": [
        "print(newtrain.info())"
      ],
      "execution_count": 0,
      "outputs": [
        {
          "output_type": "stream",
          "text": [
            "<class 'pandas.core.frame.DataFrame'>\n",
            "RangeIndex: 891 entries, 0 to 890\n",
            "Data columns (total 9 columns):\n",
            "Survived      891 non-null int64\n",
            "Pclass        891 non-null int64\n",
            "Sex           891 non-null int64\n",
            "Age           891 non-null int64\n",
            "Fare          891 non-null int64\n",
            "Embarked      891 non-null int64\n",
            "FamilySize    891 non-null int64\n",
            "IsAlone       891 non-null int64\n",
            "Title         891 non-null int64\n",
            "dtypes: int64(9)\n",
            "memory usage: 62.7 KB\n",
            "None\n"
          ],
          "name": "stdout"
        }
      ]
    },
    {
      "metadata": {
        "id": "M9tFZVmdm6Bi",
        "colab_type": "code",
        "outputId": "b9062df9-8b6a-4174-fa79-a9e0b6a26394",
        "colab": {
          "base_uri": "https://localhost:8080/",
          "height": 195
        }
      },
      "cell_type": "code",
      "source": [
        "newtrain.head()"
      ],
      "execution_count": 0,
      "outputs": [
        {
          "output_type": "execute_result",
          "data": {
            "text/html": [
              "<div>\n",
              "<style scoped>\n",
              "    .dataframe tbody tr th:only-of-type {\n",
              "        vertical-align: middle;\n",
              "    }\n",
              "\n",
              "    .dataframe tbody tr th {\n",
              "        vertical-align: top;\n",
              "    }\n",
              "\n",
              "    .dataframe thead th {\n",
              "        text-align: right;\n",
              "    }\n",
              "</style>\n",
              "<table border=\"1\" class=\"dataframe\">\n",
              "  <thead>\n",
              "    <tr style=\"text-align: right;\">\n",
              "      <th></th>\n",
              "      <th>Survived</th>\n",
              "      <th>Pclass</th>\n",
              "      <th>Sex</th>\n",
              "      <th>Age</th>\n",
              "      <th>Fare</th>\n",
              "      <th>Embarked</th>\n",
              "      <th>FamilySize</th>\n",
              "      <th>IsAlone</th>\n",
              "      <th>Title</th>\n",
              "    </tr>\n",
              "  </thead>\n",
              "  <tbody>\n",
              "    <tr>\n",
              "      <th>0</th>\n",
              "      <td>0</td>\n",
              "      <td>3</td>\n",
              "      <td>1</td>\n",
              "      <td>1</td>\n",
              "      <td>0</td>\n",
              "      <td>0</td>\n",
              "      <td>2</td>\n",
              "      <td>0</td>\n",
              "      <td>1</td>\n",
              "    </tr>\n",
              "    <tr>\n",
              "      <th>1</th>\n",
              "      <td>1</td>\n",
              "      <td>1</td>\n",
              "      <td>0</td>\n",
              "      <td>3</td>\n",
              "      <td>3</td>\n",
              "      <td>1</td>\n",
              "      <td>2</td>\n",
              "      <td>0</td>\n",
              "      <td>3</td>\n",
              "    </tr>\n",
              "    <tr>\n",
              "      <th>2</th>\n",
              "      <td>1</td>\n",
              "      <td>3</td>\n",
              "      <td>0</td>\n",
              "      <td>2</td>\n",
              "      <td>1</td>\n",
              "      <td>0</td>\n",
              "      <td>1</td>\n",
              "      <td>1</td>\n",
              "      <td>2</td>\n",
              "    </tr>\n",
              "    <tr>\n",
              "      <th>3</th>\n",
              "      <td>1</td>\n",
              "      <td>1</td>\n",
              "      <td>0</td>\n",
              "      <td>3</td>\n",
              "      <td>3</td>\n",
              "      <td>0</td>\n",
              "      <td>2</td>\n",
              "      <td>0</td>\n",
              "      <td>3</td>\n",
              "    </tr>\n",
              "    <tr>\n",
              "      <th>4</th>\n",
              "      <td>0</td>\n",
              "      <td>3</td>\n",
              "      <td>1</td>\n",
              "      <td>3</td>\n",
              "      <td>1</td>\n",
              "      <td>0</td>\n",
              "      <td>1</td>\n",
              "      <td>1</td>\n",
              "      <td>1</td>\n",
              "    </tr>\n",
              "  </tbody>\n",
              "</table>\n",
              "</div>"
            ],
            "text/plain": [
              "   Survived  Pclass  Sex  Age  Fare  Embarked  FamilySize  IsAlone  Title\n",
              "0         0       3    1    1     0         0           2        0      1\n",
              "1         1       1    0    3     3         1           2        0      3\n",
              "2         1       3    0    2     1         0           1        1      2\n",
              "3         1       1    0    3     3         0           2        0      3\n",
              "4         0       3    1    3     1         0           1        1      1"
            ]
          },
          "metadata": {
            "tags": []
          },
          "execution_count": 70
        }
      ]
    },
    {
      "metadata": {
        "id": "lvtLPYBoULy9",
        "colab_type": "code",
        "outputId": "5392f09a-d3ea-489b-c865-3d6577554a65",
        "colab": {
          "base_uri": "https://localhost:8080/",
          "height": 195
        }
      },
      "cell_type": "code",
      "source": [
        "newtest.head()"
      ],
      "execution_count": 0,
      "outputs": [
        {
          "output_type": "execute_result",
          "data": {
            "text/html": [
              "<div>\n",
              "<style scoped>\n",
              "    .dataframe tbody tr th:only-of-type {\n",
              "        vertical-align: middle;\n",
              "    }\n",
              "\n",
              "    .dataframe tbody tr th {\n",
              "        vertical-align: top;\n",
              "    }\n",
              "\n",
              "    .dataframe thead th {\n",
              "        text-align: right;\n",
              "    }\n",
              "</style>\n",
              "<table border=\"1\" class=\"dataframe\">\n",
              "  <thead>\n",
              "    <tr style=\"text-align: right;\">\n",
              "      <th></th>\n",
              "      <th>Pclass</th>\n",
              "      <th>Sex</th>\n",
              "      <th>Age</th>\n",
              "      <th>Fare</th>\n",
              "      <th>Embarked</th>\n",
              "      <th>FamilySize</th>\n",
              "      <th>IsAlone</th>\n",
              "      <th>Title</th>\n",
              "    </tr>\n",
              "  </thead>\n",
              "  <tbody>\n",
              "    <tr>\n",
              "      <th>0</th>\n",
              "      <td>3</td>\n",
              "      <td>1</td>\n",
              "      <td>3</td>\n",
              "      <td>0</td>\n",
              "      <td>2</td>\n",
              "      <td>1</td>\n",
              "      <td>1</td>\n",
              "      <td>1</td>\n",
              "    </tr>\n",
              "    <tr>\n",
              "      <th>1</th>\n",
              "      <td>3</td>\n",
              "      <td>0</td>\n",
              "      <td>4</td>\n",
              "      <td>0</td>\n",
              "      <td>0</td>\n",
              "      <td>2</td>\n",
              "      <td>0</td>\n",
              "      <td>3</td>\n",
              "    </tr>\n",
              "    <tr>\n",
              "      <th>2</th>\n",
              "      <td>2</td>\n",
              "      <td>1</td>\n",
              "      <td>4</td>\n",
              "      <td>1</td>\n",
              "      <td>2</td>\n",
              "      <td>1</td>\n",
              "      <td>1</td>\n",
              "      <td>1</td>\n",
              "    </tr>\n",
              "    <tr>\n",
              "      <th>3</th>\n",
              "      <td>3</td>\n",
              "      <td>1</td>\n",
              "      <td>2</td>\n",
              "      <td>1</td>\n",
              "      <td>0</td>\n",
              "      <td>1</td>\n",
              "      <td>1</td>\n",
              "      <td>1</td>\n",
              "    </tr>\n",
              "    <tr>\n",
              "      <th>4</th>\n",
              "      <td>3</td>\n",
              "      <td>0</td>\n",
              "      <td>1</td>\n",
              "      <td>1</td>\n",
              "      <td>0</td>\n",
              "      <td>3</td>\n",
              "      <td>0</td>\n",
              "      <td>3</td>\n",
              "    </tr>\n",
              "  </tbody>\n",
              "</table>\n",
              "</div>"
            ],
            "text/plain": [
              "   Pclass  Sex  Age  Fare  Embarked  FamilySize  IsAlone  Title\n",
              "0       3    1    3     0         2           1        1      1\n",
              "1       3    0    4     0         0           2        0      3\n",
              "2       2    1    4     1         2           1        1      1\n",
              "3       3    1    2     1         0           1        1      1\n",
              "4       3    0    1     1         0           3        0      3"
            ]
          },
          "metadata": {
            "tags": []
          },
          "execution_count": 71
        }
      ]
    },
    {
      "metadata": {
        "id": "2xsGPO1d6ayj",
        "colab_type": "text"
      },
      "cell_type": "markdown",
      "source": [
        "**Correlation between final features**"
      ]
    },
    {
      "metadata": {
        "id": "TKUStm_A6W0O",
        "colab_type": "code",
        "outputId": "8808d0c4-9ff4-407e-b9cb-298842aeb1ec",
        "colab": {
          "base_uri": "https://localhost:8080/",
          "height": 738
        }
      },
      "cell_type": "code",
      "source": [
        "colormap = plt.cm.RdBu\n",
        "plt.figure(figsize=(14,12))\n",
        "plt.title('Pearson Correlation of Features', y=1.05, size=15)\n",
        "sns.heatmap(newtrain.astype(float).corr(),linewidths=0.1,vmax=1.0, \n",
        "            square=True, cmap=colormap, linecolor='white', annot=True)"
      ],
      "execution_count": 0,
      "outputs": [
        {
          "output_type": "execute_result",
          "data": {
            "text/plain": [
              "<matplotlib.axes._subplots.AxesSubplot at 0x7f519da0bc88>"
            ]
          },
          "metadata": {
            "tags": []
          },
          "execution_count": 72
        },
        {
          "output_type": "display_data",
          "data": {
            "image/png": "[encoded data removed]",
            "text/plain": [
              "<Figure size 1008x864 with 2 Axes>"
            ]
          },
          "metadata": {
            "tags": []
          }
        }
      ]
    },
    {
      "metadata": {
        "id": "BQmz8paFvMKY",
        "colab_type": "text"
      },
      "cell_type": "markdown",
      "source": [
        "##**4- Rank features using Random Forest**\n",
        "\n",
        "---\n",
        "\n"
      ]
    },
    {
      "metadata": {
        "id": "0vmHT0TRGy18",
        "colab_type": "text"
      },
      "cell_type": "markdown",
      "source": [
        "Its shown below the order of important features as follow:\n",
        "\n",
        "\n",
        "1.  Title\n",
        "2.  Sex\n",
        "3. Age\n",
        "4. Pclass\n",
        "5. FamilySize\n",
        "6. Fare\n",
        "7. Embarked\n",
        "8. IsAlone\n",
        "\n"
      ]
    },
    {
      "metadata": {
        "id": "B9uRPXtQvrZJ",
        "colab_type": "code",
        "colab": {}
      },
      "cell_type": "code",
      "source": [
        "x_train= newtrain.iloc[:,1:]\n",
        "y_train=newtrain[\"Survived\"]\n",
        "\n",
        "x_test= newtest.iloc[:,:]"
      ],
      "execution_count": 0,
      "outputs": []
    },
    {
      "metadata": {
        "id": "7VIGtOzHvd_v",
        "colab_type": "code",
        "outputId": "d6fe109e-db08-443b-bdf8-2245377cfb40",
        "colab": {
          "base_uri": "https://localhost:8080/",
          "height": 158
        }
      },
      "cell_type": "code",
      "source": [
        "features_labels=['Pclass',\t'Sex',\t'Age',\t'Fare',\t'Embarked',\t'FamilySize',\t'IsAlone',\t'Title']\n",
        "\n",
        "# Create a random forest classifier\n",
        "clf = RandomForestClassifier(n_estimators=10000, random_state=0, n_jobs=-1)\n",
        "\n",
        "# Train the classifier\n",
        "clf.fit(x_train, y_train)\n",
        "\n",
        "# Print the name and gini importance of each feature\n",
        "for feature in zip(features_labels, clf.feature_importances_):\n",
        "    print(feature)"
      ],
      "execution_count": 0,
      "outputs": [
        {
          "output_type": "stream",
          "text": [
            "('Pclass', 0.13169392670104582)\n",
            "('Sex', 0.19335361133126153)\n",
            "('Age', 0.13820824166120257)\n",
            "('Fare', 0.10922161639994217)\n",
            "('Embarked', 0.058161045565464795)\n",
            "('FamilySize', 0.11416589308190532)\n",
            "('IsAlone', 0.019753763005065456)\n",
            "('Title', 0.23544190225411357)\n"
          ],
          "name": "stdout"
        }
      ]
    },
    {
      "metadata": {
        "id": "J7oBhXfN8pkG",
        "colab_type": "text"
      },
      "cell_type": "markdown",
      "source": [
        "\n",
        "\n",
        "---\n",
        "\n",
        "> > >>**The End of Drop non-useful features & Rank features **\n",
        ">>>>** (Point 3 & 4 From  Assignment 3)**\n",
        "\n",
        "\n",
        "---\n",
        "\n"
      ]
    },
    {
      "metadata": {
        "id": "NS1EjtLayNEq",
        "colab_type": "text"
      },
      "cell_type": "markdown",
      "source": [
        "##**5- Classifications using Scikit-learn**\n",
        "\n",
        "---\n",
        "\n"
      ]
    },
    {
      "metadata": {
        "id": "C1fHiLTB1-oX",
        "colab_type": "text"
      },
      "cell_type": "markdown",
      "source": [
        "###** a- SVM**"
      ]
    },
    {
      "metadata": {
        "id": "gj2cSxFD7hIy",
        "colab_type": "text"
      },
      "cell_type": "markdown",
      "source": [
        "First step is to apply data scaling before use SVM\n",
        "We use standard scalar from sklearn, which is: new_value = (old_value - mean)/std"
      ]
    },
    {
      "metadata": {
        "id": "CaXz65iM87Yc",
        "colab_type": "text"
      },
      "cell_type": "markdown",
      "source": [
        "** 1- SVM with Linear Kernal **"
      ]
    },
    {
      "metadata": {
        "id": "FOiPtu0zwhs-",
        "colab_type": "code",
        "outputId": "768b8788-fd3d-4caa-af01-dbaa7a5ec676",
        "colab": {
          "base_uri": "https://localhost:8080/",
          "height": 210
        }
      },
      "cell_type": "code",
      "source": [
        "svm_a1 = Pipeline(((\"scaler\", StandardScaler()),(\"linear_svc\", LinearSVC(C=5))))\n",
        "svm_a1.fit(x_train, y_train)"
      ],
      "execution_count": 0,
      "outputs": [
        {
          "output_type": "stream",
          "text": [
            "/usr/local/lib/python3.6/dist-packages/sklearn/preprocessing/data.py:645: DataConversionWarning: Data with input dtype int64 were all converted to float64 by StandardScaler.\n",
            "  return self.partial_fit(X, y)\n",
            "/usr/local/lib/python3.6/dist-packages/sklearn/base.py:467: DataConversionWarning: Data with input dtype int64 were all converted to float64 by StandardScaler.\n",
            "  return self.fit(X, y, **fit_params).transform(X)\n",
            "/usr/local/lib/python3.6/dist-packages/sklearn/svm/base.py:931: ConvergenceWarning: Liblinear failed to converge, increase the number of iterations.\n",
            "  \"the number of iterations.\", ConvergenceWarning)\n"
          ],
          "name": "stderr"
        },
        {
          "output_type": "execute_result",
          "data": {
            "text/plain": [
              "Pipeline(memory=None,\n",
              "     steps=[('scaler', StandardScaler(copy=True, with_mean=True, with_std=True)), ('linear_svc', LinearSVC(C=5, class_weight=None, dual=True, fit_intercept=True,\n",
              "     intercept_scaling=1, loss='squared_hinge', max_iter=1000,\n",
              "     multi_class='ovr', penalty='l2', random_state=None, tol=0.0001,\n",
              "     verbose=0))])"
            ]
          },
          "metadata": {
            "tags": []
          },
          "execution_count": 104
        }
      ]
    },
    {
      "metadata": {
        "id": "gI8WN5G29Ih_",
        "colab_type": "text"
      },
      "cell_type": "markdown",
      "source": [
        "**2- SVM with polynomial kernal**"
      ]
    },
    {
      "metadata": {
        "id": "3RhItkt16Kjz",
        "colab_type": "code",
        "outputId": "2e9eb2f6-fc2e-44c1-ca00-1d4102cbd0c2",
        "colab": {
          "base_uri": "https://localhost:8080/",
          "height": 175
        }
      },
      "cell_type": "code",
      "source": [
        "svm_a2 = Pipeline(((\"scaler\", StandardScaler()),(\"svm_clf\", SVC(kernel=\"poly\", degree=5, C=5))))\n",
        "svm_a2.fit(x_train, y_train)"
      ],
      "execution_count": 0,
      "outputs": [
        {
          "output_type": "stream",
          "text": [
            "/usr/local/lib/python3.6/dist-packages/sklearn/preprocessing/data.py:645: DataConversionWarning: Data with input dtype int64 were all converted to float64 by StandardScaler.\n",
            "  return self.partial_fit(X, y)\n",
            "/usr/local/lib/python3.6/dist-packages/sklearn/base.py:467: DataConversionWarning: Data with input dtype int64 were all converted to float64 by StandardScaler.\n",
            "  return self.fit(X, y, **fit_params).transform(X)\n"
          ],
          "name": "stderr"
        },
        {
          "output_type": "execute_result",
          "data": {
            "text/plain": [
              "Pipeline(memory=None,\n",
              "     steps=[('scaler', StandardScaler(copy=True, with_mean=True, with_std=True)), ('svm_clf', SVC(C=5, cache_size=200, class_weight=None, coef0=0.0,\n",
              "  decision_function_shape='ovr', degree=5, gamma='auto_deprecated',\n",
              "  kernel='poly', max_iter=-1, probability=False, random_state=None,\n",
              "  shrinking=True, tol=0.001, verbose=False))])"
            ]
          },
          "metadata": {
            "tags": []
          },
          "execution_count": 115
        }
      ]
    },
    {
      "metadata": {
        "id": "7p_pYYdurEKX",
        "colab_type": "text"
      },
      "cell_type": "markdown",
      "source": [
        "**3- SVM with RBF kernal**"
      ]
    },
    {
      "metadata": {
        "id": "1tfVWB3bg5ef",
        "colab_type": "code",
        "outputId": "36fb4a93-207c-48e9-e1ce-b4267b427d7b",
        "colab": {
          "base_uri": "https://localhost:8080/",
          "height": 175
        }
      },
      "cell_type": "code",
      "source": [
        "svm_a3 = Pipeline(((\"scaler\", StandardScaler()), (\"svm_clf\", SVC(kernel=\"rbf\", gamma=5, C=5))))\n",
        "svm_a3.fit(x_train, y_train)"
      ],
      "execution_count": 0,
      "outputs": [
        {
          "output_type": "stream",
          "text": [
            "/usr/local/lib/python3.6/dist-packages/sklearn/preprocessing/data.py:645: DataConversionWarning: Data with input dtype int64 were all converted to float64 by StandardScaler.\n",
            "  return self.partial_fit(X, y)\n",
            "/usr/local/lib/python3.6/dist-packages/sklearn/base.py:467: DataConversionWarning: Data with input dtype int64 were all converted to float64 by StandardScaler.\n",
            "  return self.fit(X, y, **fit_params).transform(X)\n"
          ],
          "name": "stderr"
        },
        {
          "output_type": "execute_result",
          "data": {
            "text/plain": [
              "Pipeline(memory=None,\n",
              "     steps=[('scaler', StandardScaler(copy=True, with_mean=True, with_std=True)), ('svm_clf', SVC(C=5, cache_size=200, class_weight=None, coef0=0.0,\n",
              "  decision_function_shape='ovr', degree=3, gamma=5, kernel='rbf',\n",
              "  max_iter=-1, probability=False, random_state=None, shrinking=True,\n",
              "  tol=0.001, verbose=False))])"
            ]
          },
          "metadata": {
            "tags": []
          },
          "execution_count": 130
        }
      ]
    },
    {
      "metadata": {
        "id": "pJHqW3IzrJRW",
        "colab_type": "text"
      },
      "cell_type": "markdown",
      "source": [
        "\n",
        "\n",
        "---\n",
        "\n"
      ]
    },
    {
      "metadata": {
        "id": "Dqzk5yYUrKu1",
        "colab_type": "text"
      },
      "cell_type": "markdown",
      "source": [
        "###** b- NB **"
      ]
    },
    {
      "metadata": {
        "id": "24Zb81n5gs1I",
        "colab_type": "code",
        "outputId": "49ea6bde-2249-4cbd-8676-5509c86121fe",
        "colab": {
          "base_uri": "https://localhost:8080/",
          "height": 34
        }
      },
      "cell_type": "code",
      "source": [
        "# Gaussian Naive Bayes\n",
        "nb_b = GaussianNB()\n",
        "nb_b.fit(x_train, y_train)\n"
      ],
      "execution_count": 0,
      "outputs": [
        {
          "output_type": "execute_result",
          "data": {
            "text/plain": [
              "GaussianNB(priors=None, var_smoothing=1e-09)"
            ]
          },
          "metadata": {
            "tags": []
          },
          "execution_count": 78
        }
      ]
    },
    {
      "metadata": {
        "id": "XBAyRHJ1rrk3",
        "colab_type": "text"
      },
      "cell_type": "markdown",
      "source": [
        "\n",
        "\n",
        "---\n",
        "\n"
      ]
    },
    {
      "metadata": {
        "id": "HqgWM3BNrtEH",
        "colab_type": "text"
      },
      "cell_type": "markdown",
      "source": [
        "### c- Logistic regression"
      ]
    },
    {
      "metadata": {
        "id": "RtwPpCo3rwaf",
        "colab_type": "code",
        "outputId": "eff4ee99-869a-4833-8a6e-455712d3449a",
        "colab": {
          "base_uri": "https://localhost:8080/",
          "height": 142
        }
      },
      "cell_type": "code",
      "source": [
        "lr_c = LogisticRegression(C=100)\n",
        "lr_c.fit(x_train, y_train)"
      ],
      "execution_count": 0,
      "outputs": [
        {
          "output_type": "stream",
          "text": [
            "/usr/local/lib/python3.6/dist-packages/sklearn/linear_model/logistic.py:433: FutureWarning: Default solver will be changed to 'lbfgs' in 0.22. Specify a solver to silence this warning.\n",
            "  FutureWarning)\n"
          ],
          "name": "stderr"
        },
        {
          "output_type": "execute_result",
          "data": {
            "text/plain": [
              "LogisticRegression(C=100, class_weight=None, dual=False, fit_intercept=True,\n",
              "          intercept_scaling=1, max_iter=100, multi_class='warn',\n",
              "          n_jobs=None, penalty='l2', random_state=None, solver='warn',\n",
              "          tol=0.0001, verbose=0, warm_start=False)"
            ]
          },
          "metadata": {
            "tags": []
          },
          "execution_count": 138
        }
      ]
    },
    {
      "metadata": {
        "id": "u58pxYfvsGnp",
        "colab_type": "text"
      },
      "cell_type": "markdown",
      "source": [
        "\n",
        "\n",
        "---\n",
        "\n"
      ]
    },
    {
      "metadata": {
        "id": "H5n4axaxsISr",
        "colab_type": "text"
      },
      "cell_type": "markdown",
      "source": [
        "###d- Decision tree"
      ]
    },
    {
      "metadata": {
        "id": "9NvA-4CrsPsx",
        "colab_type": "text"
      },
      "cell_type": "markdown",
      "source": [
        "**Tree 1:**"
      ]
    },
    {
      "metadata": {
        "id": "zeaMafTOsAPk",
        "colab_type": "code",
        "outputId": "b8ed52ba-baf8-4e12-fc52-cebe9e3531d9",
        "colab": {
          "base_uri": "https://localhost:8080/",
          "height": 122
        }
      },
      "cell_type": "code",
      "source": [
        "# defaults: criterion= 'gini' , splitter='best' ,max_depth =None\n",
        "dt_d1 = DecisionTreeClassifier()\n",
        "dt_d1.fit(x_train, y_train)"
      ],
      "execution_count": 0,
      "outputs": [
        {
          "output_type": "execute_result",
          "data": {
            "text/plain": [
              "DecisionTreeClassifier(class_weight=None, criterion='gini', max_depth=None,\n",
              "            max_features=None, max_leaf_nodes=None,\n",
              "            min_impurity_decrease=0.0, min_impurity_split=None,\n",
              "            min_samples_leaf=1, min_samples_split=2,\n",
              "            min_weight_fraction_leaf=0.0, presort=False, random_state=None,\n",
              "            splitter='best')"
            ]
          },
          "metadata": {
            "tags": []
          },
          "execution_count": 80
        }
      ]
    },
    {
      "metadata": {
        "id": "UQhPbCrpsqHR",
        "colab_type": "text"
      },
      "cell_type": "markdown",
      "source": [
        "**Tree 2:**"
      ]
    },
    {
      "metadata": {
        "id": "3rU4V44hrgx2",
        "colab_type": "code",
        "outputId": "5b1be982-6569-48e3-fb3c-2a93b81e8402",
        "colab": {
          "base_uri": "https://localhost:8080/",
          "height": 122
        }
      },
      "cell_type": "code",
      "source": [
        "# defaults: criterion= 'gini' , splitter='best' ,max_depth =None\n",
        "dt_d2 = DecisionTreeClassifier(criterion= 'entropy')\n",
        "dt_d2.fit(x_train, y_train)\n"
      ],
      "execution_count": 0,
      "outputs": [
        {
          "output_type": "execute_result",
          "data": {
            "text/plain": [
              "DecisionTreeClassifier(class_weight=None, criterion='entropy', max_depth=None,\n",
              "            max_features=None, max_leaf_nodes=None,\n",
              "            min_impurity_decrease=0.0, min_impurity_split=None,\n",
              "            min_samples_leaf=1, min_samples_split=2,\n",
              "            min_weight_fraction_leaf=0.0, presort=False, random_state=None,\n",
              "            splitter='best')"
            ]
          },
          "metadata": {
            "tags": []
          },
          "execution_count": 81
        }
      ]
    },
    {
      "metadata": {
        "id": "HASF5wiBql9B",
        "colab_type": "text"
      },
      "cell_type": "markdown",
      "source": [
        "**Tree 3:**"
      ]
    },
    {
      "metadata": {
        "id": "tsAd-zDHqlbJ",
        "colab_type": "code",
        "outputId": "96e25d7b-1912-490a-9589-12a405a248e6",
        "colab": {
          "base_uri": "https://localhost:8080/",
          "height": 122
        }
      },
      "cell_type": "code",
      "source": [
        "\n",
        "# defaults: criterion= 'gini' , splitter='best' ,max_depth =None\n",
        "dt_d3 = DecisionTreeClassifier(splitter='random')\n",
        "dt_d3.fit(x_train, y_train)\n"
      ],
      "execution_count": 0,
      "outputs": [
        {
          "output_type": "execute_result",
          "data": {
            "text/plain": [
              "DecisionTreeClassifier(class_weight=None, criterion='gini', max_depth=None,\n",
              "            max_features=None, max_leaf_nodes=None,\n",
              "            min_impurity_decrease=0.0, min_impurity_split=None,\n",
              "            min_samples_leaf=1, min_samples_split=2,\n",
              "            min_weight_fraction_leaf=0.0, presort=False, random_state=None,\n",
              "            splitter='random')"
            ]
          },
          "metadata": {
            "tags": []
          },
          "execution_count": 82
        }
      ]
    },
    {
      "metadata": {
        "id": "wjPNeIl1stml",
        "colab_type": "text"
      },
      "cell_type": "markdown",
      "source": [
        "**Tree 4:**"
      ]
    },
    {
      "metadata": {
        "id": "FHAUuixlsvVu",
        "colab_type": "code",
        "outputId": "46d77a8e-a7d1-4c2d-a204-630c9e0bd46e",
        "colab": {
          "base_uri": "https://localhost:8080/",
          "height": 122
        }
      },
      "cell_type": "code",
      "source": [
        "# defaults: criterion= 'gini' , splitter='best' ,max_depth =None\n",
        "dt_d4 = DecisionTreeClassifier(max_depth= 2)\n",
        "dt_d4.fit(x_train, y_train)"
      ],
      "execution_count": 0,
      "outputs": [
        {
          "output_type": "execute_result",
          "data": {
            "text/plain": [
              "DecisionTreeClassifier(class_weight=None, criterion='gini', max_depth=2,\n",
              "            max_features=None, max_leaf_nodes=None,\n",
              "            min_impurity_decrease=0.0, min_impurity_split=None,\n",
              "            min_samples_leaf=1, min_samples_split=2,\n",
              "            min_weight_fraction_leaf=0.0, presort=False, random_state=None,\n",
              "            splitter='best')"
            ]
          },
          "metadata": {
            "tags": []
          },
          "execution_count": 83
        }
      ]
    },
    {
      "metadata": {
        "id": "kaBPtXGZswVD",
        "colab_type": "text"
      },
      "cell_type": "markdown",
      "source": [
        "\n",
        "\n",
        "---\n",
        "\n"
      ]
    },
    {
      "metadata": {
        "id": "vYK1ugxks10P",
        "colab_type": "text"
      },
      "cell_type": "markdown",
      "source": [
        "###e- Random Forest"
      ]
    },
    {
      "metadata": {
        "id": "YvU7K2-Osw-K",
        "colab_type": "code",
        "outputId": "62beb652-669b-496b-97ed-c4e663e1f603",
        "colab": {
          "base_uri": "https://localhost:8080/",
          "height": 228
        }
      },
      "cell_type": "code",
      "source": [
        "param_grid = [{'n_estimators': [100, 250, 500,1000],'criterion': ['gini', 'entropy'], 'max_features': [2, 4, 6, 8],'max_depth': [None, 2, 4, 6, 8]}]\n",
        "\n",
        "rf = RandomForestClassifier()\n",
        "rf_e = GridSearchCV(rf, param_grid, cv=5)\n",
        "rf_e.fit(x_train, y_train)"
      ],
      "execution_count": 0,
      "outputs": [
        {
          "output_type": "execute_result",
          "data": {
            "text/plain": [
              "GridSearchCV(cv=5, error_score='raise-deprecating',\n",
              "       estimator=RandomForestClassifier(bootstrap=True, class_weight=None, criterion='gini',\n",
              "            max_depth=None, max_features='auto', max_leaf_nodes=None,\n",
              "            min_impurity_decrease=0.0, min_impurity_split=None,\n",
              "            min_samples_leaf=1, min_samples_split=2,\n",
              "            min_weight_fraction_leaf=0.0, n_estimators='warn', n_jobs=None,\n",
              "            oob_score=False, random_state=None, verbose=0,\n",
              "            warm_start=False),\n",
              "       fit_params=None, iid='warn', n_jobs=None,\n",
              "       param_grid=[{'n_estimators': [100, 250, 500, 1000], 'criterion': ['gini', 'entropy'], 'max_features': [2, 4, 6, 8], 'max_depth': [None, 2, 4, 6, 8]}],\n",
              "       pre_dispatch='2*n_jobs', refit=True, return_train_score='warn',\n",
              "       scoring=None, verbose=0)"
            ]
          },
          "metadata": {
            "tags": []
          },
          "execution_count": 170
        }
      ]
    },
    {
      "metadata": {
        "id": "ny8FQ2ElmKVt",
        "colab_type": "code",
        "outputId": "2051e264-1e48-4bff-c03c-52a516e65050",
        "colab": {
          "base_uri": "https://localhost:8080/",
          "height": 34
        }
      },
      "cell_type": "code",
      "source": [
        "# best parameters found are \n",
        "print(rf_e.best_params_)"
      ],
      "execution_count": 0,
      "outputs": [
        {
          "output_type": "stream",
          "text": [
            "{'criterion': 'gini', 'max_depth': 4, 'max_features': 4, 'n_estimators': 500}\n"
          ],
          "name": "stdout"
        }
      ]
    },
    {
      "metadata": {
        "id": "3jIh6C3ls6pU",
        "colab_type": "text"
      },
      "cell_type": "markdown",
      "source": [
        "\n",
        "\n",
        "---\n",
        "\n"
      ]
    },
    {
      "metadata": {
        "id": "gaAwK7if9_z2",
        "colab_type": "text"
      },
      "cell_type": "markdown",
      "source": [
        "###f- Gradient Boosting Classifier"
      ]
    },
    {
      "metadata": {
        "id": "oSfBfRTZ9_KR",
        "colab_type": "code",
        "outputId": "f672a0e0-232d-4639-f84c-591e83418dbe",
        "colab": {
          "base_uri": "https://localhost:8080/",
          "height": 266
        }
      },
      "cell_type": "code",
      "source": [
        "param_grid = [{'n_estimators': [100, 250, 500, 1000],'learning_rate': [0.1 ,1.0,2.0],'max_depth': [None, 2, 4, 6, 8]}]\n",
        "\n",
        "gb = GradientBoostingClassifier()\n",
        "gb_f = GridSearchCV(gb, param_grid, cv=5)\n",
        "gb_f.fit(x_train, y_train)"
      ],
      "execution_count": 0,
      "outputs": [
        {
          "output_type": "stream",
          "text": [
            "/usr/local/lib/python3.6/dist-packages/sklearn/model_selection/_search.py:841: DeprecationWarning: The default of the `iid` parameter will change from True to False in version 0.22 and will be removed in 0.24. This will change numeric results when test-set sizes are unequal.\n",
            "  DeprecationWarning)\n"
          ],
          "name": "stderr"
        },
        {
          "output_type": "execute_result",
          "data": {
            "text/plain": [
              "GridSearchCV(cv=5, error_score='raise-deprecating',\n",
              "       estimator=GradientBoostingClassifier(criterion='friedman_mse', init=None,\n",
              "              learning_rate=0.1, loss='deviance', max_depth=3,\n",
              "              max_features=None, max_leaf_nodes=None,\n",
              "              min_impurity_decrease=0.0, min_impurity_split=None,\n",
              "              min_samples_leaf=1, min_sampl...      subsample=1.0, tol=0.0001, validation_fraction=0.1,\n",
              "              verbose=0, warm_start=False),\n",
              "       fit_params=None, iid='warn', n_jobs=None,\n",
              "       param_grid=[{'n_estimators': [100, 250, 500, 1000], 'learning_rate': [0.1, 1.0, 2.0], 'max_depth': [None, 2, 4, 6, 8]}],\n",
              "       pre_dispatch='2*n_jobs', refit=True, return_train_score='warn',\n",
              "       scoring=None, verbose=0)"
            ]
          },
          "metadata": {
            "tags": []
          },
          "execution_count": 176
        }
      ]
    },
    {
      "metadata": {
        "id": "m5E1z_konZWl",
        "colab_type": "code",
        "outputId": "08c02d85-c209-44ce-f063-ac12e0b7ae01",
        "colab": {
          "base_uri": "https://localhost:8080/",
          "height": 34
        }
      },
      "cell_type": "code",
      "source": [
        "print(gb_f.best_params_)"
      ],
      "execution_count": 0,
      "outputs": [
        {
          "output_type": "stream",
          "text": [
            "{'learning_rate': 1.0, 'max_depth': 2, 'n_estimators': 100}\n"
          ],
          "name": "stdout"
        }
      ]
    },
    {
      "metadata": {
        "id": "uXoTSE2e_0VN",
        "colab_type": "text"
      },
      "cell_type": "markdown",
      "source": [
        "\n",
        "\n",
        "---\n",
        "\n"
      ]
    },
    {
      "metadata": {
        "id": "IlqqqW9ykdba",
        "colab_type": "text"
      },
      "cell_type": "markdown",
      "source": [
        "###g- BaggingClassifier "
      ]
    },
    {
      "metadata": {
        "id": "7r2HEitZ_1zv",
        "colab_type": "text"
      },
      "cell_type": "markdown",
      "source": [
        "####BaggingClassifier_NB"
      ]
    },
    {
      "metadata": {
        "id": "BhXplQb7AHjl",
        "colab_type": "code",
        "outputId": "deea5e21-a19a-4e39-fb0d-ad6124ab22dd",
        "colab": {
          "base_uri": "https://localhost:8080/",
          "height": 87
        }
      },
      "cell_type": "code",
      "source": [
        "nbbag_g = BaggingClassifier(GaussianNB(), n_estimators=500,max_samples=100, bootstrap=True,n_jobs=-1)\n",
        "nbbag_g.fit(x_train, y_train)"
      ],
      "execution_count": 0,
      "outputs": [
        {
          "output_type": "execute_result",
          "data": {
            "text/plain": [
              "BaggingClassifier(base_estimator=GaussianNB(priors=None, var_smoothing=1e-09),\n",
              "         bootstrap=True, bootstrap_features=False, max_features=1.0,\n",
              "         max_samples=100, n_estimators=500, n_jobs=-1, oob_score=False,\n",
              "         random_state=None, verbose=0, warm_start=False)"
            ]
          },
          "metadata": {
            "tags": []
          },
          "execution_count": 208
        }
      ]
    },
    {
      "metadata": {
        "id": "xLyGc0FYCrPB",
        "colab_type": "text"
      },
      "cell_type": "markdown",
      "source": [
        "\n",
        "\n",
        "---\n",
        "\n"
      ]
    },
    {
      "metadata": {
        "id": "XsOyCS6uAiJK",
        "colab_type": "text"
      },
      "cell_type": "markdown",
      "source": [
        "####BaggingClassifier_DT"
      ]
    },
    {
      "metadata": {
        "id": "GXasPlz8s7PM",
        "colab_type": "code",
        "outputId": "f55ae5f5-f63d-49b4-ffae-b521ff12b360",
        "colab": {
          "base_uri": "https://localhost:8080/",
          "height": 175
        }
      },
      "cell_type": "code",
      "source": [
        "dtbag_g = BaggingClassifier(DecisionTreeClassifier(), n_estimators=1000, bootstrap=True, n_jobs=-1)\n",
        "dtbag_g.fit(x_train, y_train)"
      ],
      "execution_count": 0,
      "outputs": [
        {
          "output_type": "execute_result",
          "data": {
            "text/plain": [
              "BaggingClassifier(base_estimator=DecisionTreeClassifier(class_weight=None, criterion='gini', max_depth=None,\n",
              "            max_features=None, max_leaf_nodes=None,\n",
              "            min_impurity_decrease=0.0, min_impurity_split=None,\n",
              "            min_samples_leaf=1, min_samples_split=2,\n",
              "            min_weight_fraction_leaf=0.0, presort=False, random_state=None,\n",
              "            splitter='best'),\n",
              "         bootstrap=True, bootstrap_features=False, max_features=1.0,\n",
              "         max_samples=1.0, n_estimators=1000, n_jobs=-1, oob_score=False,\n",
              "         random_state=None, verbose=0, warm_start=False)"
            ]
          },
          "metadata": {
            "tags": []
          },
          "execution_count": 165
        }
      ]
    },
    {
      "metadata": {
        "id": "sBB4lyX8Csu1",
        "colab_type": "text"
      },
      "cell_type": "markdown",
      "source": [
        "\n",
        "\n",
        "---\n",
        "\n"
      ]
    },
    {
      "metadata": {
        "id": "nEUMuS16Aph8",
        "colab_type": "text"
      },
      "cell_type": "markdown",
      "source": [
        "###h- AdaBoosting"
      ]
    },
    {
      "metadata": {
        "id": "LfsEJXm7AqKm",
        "colab_type": "code",
        "outputId": "f41a966e-6379-4e79-a58b-9c98705f2467",
        "colab": {
          "base_uri": "https://localhost:8080/",
          "height": 301
        }
      },
      "cell_type": "code",
      "source": [
        "param_grid = [{'n_estimators': [100,250,500,1000],'learning_rate': [0.1 , 0.5, 1.0,2.0], 'algorithm': ['SAMME.R', 'SAMME'] }]\n",
        "\n",
        "adab = AdaBoostClassifier(DecisionTreeClassifier())\n",
        "\n",
        "adab_h = GridSearchCV(adab, param_grid, cv=5)\n",
        "adab_h.fit(x_train, y_train)\n"
      ],
      "execution_count": 0,
      "outputs": [
        {
          "output_type": "stream",
          "text": [
            "/usr/local/lib/python3.6/dist-packages/sklearn/model_selection/_search.py:841: DeprecationWarning: The default of the `iid` parameter will change from True to False in version 0.22 and will be removed in 0.24. This will change numeric results when test-set sizes are unequal.\n",
            "  DeprecationWarning)\n"
          ],
          "name": "stderr"
        },
        {
          "output_type": "execute_result",
          "data": {
            "text/plain": [
              "GridSearchCV(cv=5, error_score='raise-deprecating',\n",
              "       estimator=AdaBoostClassifier(algorithm='SAMME.R',\n",
              "          base_estimator=DecisionTreeClassifier(class_weight=None, criterion='gini', max_depth=None,\n",
              "            max_features=None, max_leaf_nodes=None,\n",
              "            min_impurity_decrease=0.0, min_impurity_split=None,\n",
              "            min_samples_leaf=1, min_samples_split=2,\n",
              "            min_weight_fraction_leaf=0.0, presort=False, random_state=None,\n",
              "            splitter='best'),\n",
              "          learning_rate=1.0, n_estimators=50, random_state=None),\n",
              "       fit_params=None, iid='warn', n_jobs=None,\n",
              "       param_grid=[{'n_estimators': [100, 250, 500, 1000], 'learning_rate': [0.1, 0.5, 1.0, 2.0], 'algorithm': ['SAMME.R', 'SAMME']}],\n",
              "       pre_dispatch='2*n_jobs', refit=True, return_train_score='warn',\n",
              "       scoring=None, verbose=0)"
            ]
          },
          "metadata": {
            "tags": []
          },
          "execution_count": 183
        }
      ]
    },
    {
      "metadata": {
        "id": "as4tQG6urmcj",
        "colab_type": "code",
        "outputId": "f2ecfe72-0011-43ff-a46c-ee22265d3f2f",
        "colab": {
          "base_uri": "https://localhost:8080/",
          "height": 34
        }
      },
      "cell_type": "code",
      "source": [
        "print(adab_h.best_params_)"
      ],
      "execution_count": 0,
      "outputs": [
        {
          "output_type": "stream",
          "text": [
            "{'algorithm': 'SAMME.R', 'learning_rate': 0.5, 'n_estimators': 500}\n"
          ],
          "name": "stdout"
        }
      ]
    },
    {
      "metadata": {
        "id": "7bLyZxaSCunb",
        "colab_type": "text"
      },
      "cell_type": "markdown",
      "source": [
        "\n",
        "\n",
        "---\n",
        "\n"
      ]
    },
    {
      "metadata": {
        "id": "f17Rcr3NCpeC",
        "colab_type": "text"
      },
      "cell_type": "markdown",
      "source": [
        "###i- Voting-Ensembling"
      ]
    },
    {
      "metadata": {
        "id": "0L1z6r8iCxW_",
        "colab_type": "code",
        "outputId": "c7e1ffe7-2654-40f6-e786-655cbcb9577a",
        "colab": {
          "base_uri": "https://localhost:8080/",
          "height": 301
        }
      },
      "cell_type": "code",
      "source": [
        "voting_i = VotingClassifier(estimators=[('decison_tree1', dt_d1) ,('gradientBoost', gb_f) ,('AdaBoost', adab_h) , ('svm_poly', svm_a2), ('Bagging DT', dtbag_g)],voting='hard')\n",
        "voting_i.fit(x_train, y_train)"
      ],
      "execution_count": 0,
      "outputs": [
        {
          "output_type": "stream",
          "text": [
            "/usr/local/lib/python3.6/dist-packages/sklearn/model_selection/_search.py:841: DeprecationWarning: The default of the `iid` parameter will change from True to False in version 0.22 and will be removed in 0.24. This will change numeric results when test-set sizes are unequal.\n",
            "  DeprecationWarning)\n",
            "/usr/local/lib/python3.6/dist-packages/sklearn/model_selection/_search.py:841: DeprecationWarning: The default of the `iid` parameter will change from True to False in version 0.22 and will be removed in 0.24. This will change numeric results when test-set sizes are unequal.\n",
            "  DeprecationWarning)\n",
            "/usr/local/lib/python3.6/dist-packages/sklearn/preprocessing/data.py:645: DataConversionWarning: Data with input dtype int64 were all converted to float64 by StandardScaler.\n",
            "  return self.partial_fit(X, y)\n",
            "/usr/local/lib/python3.6/dist-packages/sklearn/base.py:467: DataConversionWarning: Data with input dtype int64 were all converted to float64 by StandardScaler.\n",
            "  return self.fit(X, y, **fit_params).transform(X)\n"
          ],
          "name": "stderr"
        },
        {
          "output_type": "execute_result",
          "data": {
            "text/plain": [
              "VotingClassifier(estimators=[('decison_tree1', DecisionTreeClassifier(class_weight=None, criterion='gini', max_depth=None,\n",
              "            max_features=None, max_leaf_nodes=None,\n",
              "            min_impurity_decrease=0.0, min_impurity_split=None,\n",
              "            min_samples_leaf=1, min_samples_split=2,\n",
              "            min_weight_fr...imators=1000, n_jobs=-1, oob_score=False,\n",
              "         random_state=None, verbose=0, warm_start=False))],\n",
              "         flatten_transform=None, n_jobs=None, voting='hard', weights=None)"
            ]
          },
          "metadata": {
            "tags": []
          },
          "execution_count": 188
        }
      ]
    },
    {
      "metadata": {
        "id": "rbPtzRmOC3yt",
        "colab_type": "text"
      },
      "cell_type": "markdown",
      "source": [
        "\n",
        "\n",
        "---\n",
        "\n"
      ]
    },
    {
      "metadata": {
        "id": "Y8VeaDMZC461",
        "colab_type": "text"
      },
      "cell_type": "markdown",
      "source": [
        "###j- My Own Method (KNN)"
      ]
    },
    {
      "metadata": {
        "id": "JG9WDH8xEZsN",
        "colab_type": "code",
        "outputId": "3cdd6fb5-0862-4712-afc1-10c8d64fb1c5",
        "colab": {
          "base_uri": "https://localhost:8080/",
          "height": 158
        }
      },
      "cell_type": "code",
      "source": [
        "\n",
        "param_grid = [{'n_neighbors': [1,3,5,7,9,11,13,15,17,19], 'algorithm' : ['auto', 'ball_tree', 'kd_tree', 'brute']}]\n",
        "\n",
        "nbrs = KNeighborsClassifier()\n",
        "knn_j = GridSearchCV(nbrs, param_grid, cv=5)\n",
        "knn_j.fit(x_train,y_train)\n"
      ],
      "execution_count": 0,
      "outputs": [
        {
          "output_type": "execute_result",
          "data": {
            "text/plain": [
              "GridSearchCV(cv=5, error_score='raise-deprecating',\n",
              "       estimator=KNeighborsClassifier(algorithm='auto', leaf_size=30, metric='minkowski',\n",
              "           metric_params=None, n_jobs=None, n_neighbors=5, p=2,\n",
              "           weights='uniform'),\n",
              "       fit_params=None, iid='warn', n_jobs=None,\n",
              "       param_grid=[{'n_neighbors': [1, 3, 5, 7, 9, 11, 13, 15, 17, 19], 'algorithm': ['auto', 'ball_tree', 'kd_tree', 'brute']}],\n",
              "       pre_dispatch='2*n_jobs', refit=True, return_train_score='warn',\n",
              "       scoring=None, verbose=0)"
            ]
          },
          "metadata": {
            "tags": []
          },
          "execution_count": 90
        }
      ]
    },
    {
      "metadata": {
        "id": "iJBG__UG0EIG",
        "colab_type": "code",
        "outputId": "e0db1898-aa42-4591-8d2e-30a5ac6bb75e",
        "colab": {
          "base_uri": "https://localhost:8080/",
          "height": 34
        }
      },
      "cell_type": "code",
      "source": [
        "print(knn_j.best_params_)"
      ],
      "execution_count": 0,
      "outputs": [
        {
          "output_type": "stream",
          "text": [
            "{'algorithm': 'auto', 'n_neighbors': 15}\n"
          ],
          "name": "stdout"
        }
      ]
    },
    {
      "metadata": {
        "id": "AI7v9Aa8866U",
        "colab_type": "text"
      },
      "cell_type": "markdown",
      "source": [
        "###Voting from all models"
      ]
    },
    {
      "metadata": {
        "id": "RTZNwwF200CQ",
        "colab_type": "code",
        "outputId": "5f09828b-17ff-4950-b9cd-c5ae2b21b873",
        "colab": {
          "base_uri": "https://localhost:8080/",
          "height": 494
        }
      },
      "cell_type": "code",
      "source": [
        "voting_all = VotingClassifier(estimators=[('svm_linear', svm_a1),('svm_poly', svm_a2),('svm_rbf', svm_a3),\n",
        "                                          ('naive bayes', nb_b), ('logistic regression',lr_c),\n",
        "                                          ('decison_tree1', dt_d1) ,('decison_tree2', dt_d2),('decison_tree3', dt_d3), \n",
        "                                          ('random forest', rf_e), ('gradientBoost', gb_f) , ('Bagging DT', dtbag_g) , ('Bagging NB', nbbag_g),                                  \n",
        "                                          ('AdaBoost', adab_h) ,('KNN', knn_j)],voting='hard')\n",
        "voting_all.fit(x_train, y_train)"
      ],
      "execution_count": 0,
      "outputs": [
        {
          "output_type": "stream",
          "text": [
            "/usr/local/lib/python3.6/dist-packages/sklearn/preprocessing/data.py:645: DataConversionWarning: Data with input dtype int64 were all converted to float64 by StandardScaler.\n",
            "  return self.partial_fit(X, y)\n",
            "/usr/local/lib/python3.6/dist-packages/sklearn/base.py:467: DataConversionWarning: Data with input dtype int64 were all converted to float64 by StandardScaler.\n",
            "  return self.fit(X, y, **fit_params).transform(X)\n",
            "/usr/local/lib/python3.6/dist-packages/sklearn/svm/base.py:931: ConvergenceWarning: Liblinear failed to converge, increase the number of iterations.\n",
            "  \"the number of iterations.\", ConvergenceWarning)\n",
            "/usr/local/lib/python3.6/dist-packages/sklearn/preprocessing/data.py:645: DataConversionWarning: Data with input dtype int64 were all converted to float64 by StandardScaler.\n",
            "  return self.partial_fit(X, y)\n",
            "/usr/local/lib/python3.6/dist-packages/sklearn/base.py:467: DataConversionWarning: Data with input dtype int64 were all converted to float64 by StandardScaler.\n",
            "  return self.fit(X, y, **fit_params).transform(X)\n",
            "/usr/local/lib/python3.6/dist-packages/sklearn/preprocessing/data.py:645: DataConversionWarning: Data with input dtype int64 were all converted to float64 by StandardScaler.\n",
            "  return self.partial_fit(X, y)\n",
            "/usr/local/lib/python3.6/dist-packages/sklearn/base.py:467: DataConversionWarning: Data with input dtype int64 were all converted to float64 by StandardScaler.\n",
            "  return self.fit(X, y, **fit_params).transform(X)\n",
            "/usr/local/lib/python3.6/dist-packages/sklearn/linear_model/logistic.py:433: FutureWarning: Default solver will be changed to 'lbfgs' in 0.22. Specify a solver to silence this warning.\n",
            "  FutureWarning)\n",
            "/usr/local/lib/python3.6/dist-packages/sklearn/model_selection/_search.py:841: DeprecationWarning: The default of the `iid` parameter will change from True to False in version 0.22 and will be removed in 0.24. This will change numeric results when test-set sizes are unequal.\n",
            "  DeprecationWarning)\n",
            "/usr/local/lib/python3.6/dist-packages/sklearn/model_selection/_search.py:841: DeprecationWarning: The default of the `iid` parameter will change from True to False in version 0.22 and will be removed in 0.24. This will change numeric results when test-set sizes are unequal.\n",
            "  DeprecationWarning)\n"
          ],
          "name": "stderr"
        },
        {
          "output_type": "execute_result",
          "data": {
            "text/plain": [
              "VotingClassifier(estimators=[('svm_linear', Pipeline(memory=None,\n",
              "     steps=[('scaler', StandardScaler(copy=True, with_mean=True, with_std=True)), ('linear_svc', LinearSVC(C=5, class_weight=None, dual=True, fit_intercept=True,\n",
              "     intercept_scaling=1, loss='squared_hinge', max_iter=1000,\n",
              "     multi_class='ovr', pe...   pre_dispatch='2*n_jobs', refit=True, return_train_score='warn',\n",
              "       scoring=None, verbose=0))],\n",
              "         flatten_transform=None, n_jobs=None, voting='hard', weights=None)"
            ]
          },
          "metadata": {
            "tags": []
          },
          "execution_count": 214
        }
      ]
    },
    {
      "metadata": {
        "id": "vJqmPM6akthm",
        "colab_type": "text"
      },
      "cell_type": "markdown",
      "source": [
        "\n",
        "\n",
        "---\n",
        "\n",
        "\n",
        "\n",
        "---\n",
        "\n",
        "\n",
        "\n",
        "---\n",
        "\n"
      ]
    },
    {
      "metadata": {
        "id": "5tRYz9Xckw9d",
        "colab_type": "text"
      },
      "cell_type": "markdown",
      "source": [
        "##6- Comparsion (Evaluation)"
      ]
    },
    {
      "metadata": {
        "id": "0wcaPUPtz6O1",
        "colab_type": "text"
      },
      "cell_type": "markdown",
      "source": [
        "#### Training Data Prediction Evaluation"
      ]
    },
    {
      "metadata": {
        "id": "LjGcdKnLzTL-",
        "colab_type": "code",
        "outputId": "71672157-dee6-447e-ed13-bf3a36ad7a57",
        "colab": {
          "base_uri": "https://localhost:8080/",
          "height": 263
        }
      },
      "cell_type": "code",
      "source": [
        "\n",
        "\n",
        "train_pred_svm_a1= svm_a1.predict(x_train)\n",
        "train_pred_svm_a2= svm_a2.predict(x_train)\n",
        "train_pred_svm_a3= svm_a3.predict(x_train)\n",
        "\n",
        "train_pred_nb_b= nb_b.predict(x_train)\n",
        "\n",
        "train_pred_lr_c= lr_c.predict(x_train)\n",
        "\n",
        "train_pred_dt_d1= dt_d1.predict(x_train)\n",
        "train_pred_dt_d2= dt_d2.predict(x_train)\n",
        "train_pred_dt_d3= dt_d3.predict(x_train)\n",
        "train_pred_dt_d4= dt_d4.predict(x_train)\n",
        "\n",
        "train_pred_rf_e= rf_e.predict(x_train)\n",
        "\n",
        "train_pred_gb_f= gb_f.predict(x_train)\n",
        "\n",
        "\n",
        "train_pred_nbbag_g = nbbag_g.predict(x_train)\n",
        "train_pred_dtbag_g = dtbag_g.predict(x_train)\n",
        "\n",
        "train_pred_adab_h = adab_h.predict(x_train)\n",
        "\n",
        "train_pred_voting_i = voting_i.predict(x_train)\n",
        "\n",
        "train_pred_knn_j = knn_j.predict(x_train)\n",
        "\n",
        "train_pred_voting_all = voting_all.predict(x_train)\n"
      ],
      "execution_count": 0,
      "outputs": [
        {
          "output_type": "stream",
          "text": [
            "/usr/local/lib/python3.6/dist-packages/sklearn/pipeline.py:331: DataConversionWarning: Data with input dtype int64 were all converted to float64 by StandardScaler.\n",
            "  Xt = transform.transform(Xt)\n",
            "/usr/local/lib/python3.6/dist-packages/sklearn/pipeline.py:331: DataConversionWarning: Data with input dtype int64 were all converted to float64 by StandardScaler.\n",
            "  Xt = transform.transform(Xt)\n",
            "/usr/local/lib/python3.6/dist-packages/sklearn/pipeline.py:331: DataConversionWarning: Data with input dtype int64 were all converted to float64 by StandardScaler.\n",
            "  Xt = transform.transform(Xt)\n",
            "/usr/local/lib/python3.6/dist-packages/sklearn/pipeline.py:331: DataConversionWarning: Data with input dtype int64 were all converted to float64 by StandardScaler.\n",
            "  Xt = transform.transform(Xt)\n",
            "/usr/local/lib/python3.6/dist-packages/sklearn/pipeline.py:331: DataConversionWarning: Data with input dtype int64 were all converted to float64 by StandardScaler.\n",
            "  Xt = transform.transform(Xt)\n",
            "/usr/local/lib/python3.6/dist-packages/sklearn/pipeline.py:331: DataConversionWarning: Data with input dtype int64 were all converted to float64 by StandardScaler.\n",
            "  Xt = transform.transform(Xt)\n",
            "/usr/local/lib/python3.6/dist-packages/sklearn/pipeline.py:331: DataConversionWarning: Data with input dtype int64 were all converted to float64 by StandardScaler.\n",
            "  Xt = transform.transform(Xt)\n"
          ],
          "name": "stderr"
        }
      ]
    },
    {
      "metadata": {
        "id": "seR4rGw2zeLw",
        "colab_type": "code",
        "colab": {}
      },
      "cell_type": "code",
      "source": [
        "train_results =[]\n",
        "\n",
        "acc= round(accuracy_score(y_train, train_pred_svm_a1), 2)\n",
        "[p, r, f1, _]=  precision_recall_fscore_support(y_train, train_pred_svm_a1, average='micro')\n",
        "train_results.append([\"SVM_Linear\", acc, p, r, f1])\n",
        "\n",
        "acc= round(accuracy_score(y_train, train_pred_svm_a2), 2)\n",
        "[p, r, f1, _]=  precision_recall_fscore_support(y_train, train_pred_svm_a2, average='micro')\n",
        "train_results.append([\"SVM_Poly\", acc, p, r, f1])\n",
        "\n",
        "acc= round(accuracy_score(y_train, train_pred_svm_a1), 2)\n",
        "[p, r, f1, _]=  precision_recall_fscore_support(y_train, train_pred_svm_a1, average='micro')\n",
        "train_results.append([\"SVM_RBF\", acc, p, r, f1])\n",
        "\n",
        "\n",
        "\n",
        "acc= round(accuracy_score(y_train, train_pred_nb_b), 2)\n",
        "[p, r, f1, _]=  precision_recall_fscore_support(y_train, train_pred_nb_b, average='micro')\n",
        "train_results.append([\"Naive Bayes\", acc, p, r, f1])\n",
        "\n",
        "\n",
        "acc= round(accuracy_score(y_train, train_pred_lr_c), 2)\n",
        "[p, r, f1, _]=  precision_recall_fscore_support(y_train, train_pred_lr_c, average='micro')\n",
        "train_results.append([\"Logistic Regression\", acc, p, r, f1])\n",
        "\n",
        "\n",
        "acc= round(accuracy_score(y_train, train_pred_dt_d1), 2)\n",
        "[p, r, f1, _]=  precision_recall_fscore_support(y_train, train_pred_dt_d1, average='micro')\n",
        "train_results.append([\"DecisionTree -1 \", acc, p, r, f1])\n",
        "\n",
        "acc= round(accuracy_score(y_train, train_pred_dt_d2), 2)\n",
        "[p, r, f1, _]=  precision_recall_fscore_support(y_train, train_pred_dt_d2, average='micro')\n",
        "train_results.append([\"DecisionTree -2 \", acc, p, r, f1])\n",
        "\n",
        "acc= round(accuracy_score(y_train, train_pred_dt_d3), 2)\n",
        "[p, r, f1, _]=  precision_recall_fscore_support(y_train, train_pred_dt_d3, average='micro')\n",
        "train_results.append([\"DecisionTree -3 \", acc, p, r, f1])\n",
        "\n",
        "\n",
        "acc= round(accuracy_score(y_train, train_pred_dt_d4), 2)\n",
        "[p, r, f1, _]=  precision_recall_fscore_support(y_train, train_pred_dt_d4, average='micro')\n",
        "train_results.append([\"DecisionTree -4 \", acc, p, r, f1])\n",
        "\n",
        "\n",
        "\n",
        "acc= round(accuracy_score(y_train, train_pred_rf_e), 2)\n",
        "[p, r, f1, _]=  precision_recall_fscore_support(y_train, train_pred_rf_e, average='micro')\n",
        "train_results.append([\"Random Forest\", acc, p, r, f1])\n",
        "\n",
        "\n",
        "acc= round(accuracy_score(y_train, train_pred_gb_f) , 2)\n",
        "[p, r, f1, _]=  precision_recall_fscore_support(y_train, train_pred_gb_f, average='micro')\n",
        "train_results.append([\"Gradient Boost\", acc, p, r, f1])\n",
        "\n",
        "acc= round(accuracy_score(y_train, train_pred_nbbag_g), 2)\n",
        "[p, r, f1, _]=  precision_recall_fscore_support(y_train, train_pred_nbbag_g, average='micro')\n",
        "train_results.append([\"Bagging with NB\", acc, p, r, f1])\n",
        "\n",
        "\n",
        "acc= round(accuracy_score(y_train, train_pred_dtbag_g), 2)\n",
        "[p, r, f1, _]=  precision_recall_fscore_support(y_train, train_pred_dtbag_g, average='micro')\n",
        "train_results.append([\"Bagging with DT\", acc, p, r, f1])\n",
        "\n",
        "\n",
        "acc= round(accuracy_score(y_train, train_pred_adab_h), 2)\n",
        "[p, r, f1, _]=  precision_recall_fscore_support(y_train, train_pred_adab_h, average='micro')\n",
        "train_results.append([\"AdaBoost\", acc, p, r, f1])\n",
        "\n",
        "\n",
        "\n",
        "acc= round(accuracy_score(y_train, train_pred_voting_i), 2)\n",
        "[p, r, f1, _]=  precision_recall_fscore_support(y_train, train_pred_voting_i, average='micro')\n",
        "train_results.append([\"Voting\", acc, p, r, f1])\n",
        "\n",
        "\n",
        "acc= round(accuracy_score(y_train, train_pred_knn_j), 2)\n",
        "[p, r, f1, _]=  precision_recall_fscore_support(y_train, train_pred_knn_j, average='micro')\n",
        "train_results.append([\"KNN\", acc, p, r, f1])\n",
        "\n",
        "\n",
        "acc= round(accuracy_score(y_train, train_pred_voting_all), 2)\n",
        "[p, r, f1, _]=  precision_recall_fscore_support(y_train, train_pred_voting_all, average='micro')\n",
        "train_results.append([\"Voting All\", acc, p, r, f1])\n"
      ],
      "execution_count": 0,
      "outputs": []
    },
    {
      "metadata": {
        "id": "KgBRkrrgzxmm",
        "colab_type": "code",
        "outputId": "26d10b4b-30f6-4879-dce6-21b9bf1a7eb6",
        "colab": {
          "base_uri": "https://localhost:8080/",
          "height": 386
        }
      },
      "cell_type": "code",
      "source": [
        "from tabulate import tabulate\n",
        "print(\"--------------> Training Data Results <--------------\")\n",
        "print(\"Classfier           Accurcy  Precision  Recall  F1Score\")\n",
        "print(tabulate(train_results))"
      ],
      "execution_count": 0,
      "outputs": [
        {
          "output_type": "stream",
          "text": [
            "--------------> Training Data Results <--------------\n",
            "Classfier           Accurcy  Precision  Recall  F1Score\n",
            "-------------------  ----  --------  --------  --------\n",
            "SVM_Linear           0.81  0.81257   0.81257   0.81257\n",
            "SVM_Poly             0.87  0.86532   0.86532   0.86532\n",
            "SVM_RBF              0.81  0.81257   0.81257   0.81257\n",
            "Naive Bayes          0.8   0.803591  0.803591  0.803591\n",
            "Logistic Regression  0.81  0.81257   0.81257   0.81257\n",
            "DecisionTree -1      0.9   0.896745  0.896745  0.896745\n",
            "DecisionTree -2      0.9   0.896745  0.896745  0.896745\n",
            "DecisionTree -3      0.9   0.896745  0.896745  0.896745\n",
            "DecisionTree -4      0.82  0.817059  0.817059  0.817059\n",
            "Random Forest        0.84  0.835017  0.835017  0.835017\n",
            "Gradient Boost       0.87  0.867565  0.867565  0.867565\n",
            "Bagging with NB      0.8   0.800224  0.800224  0.800224\n",
            "Bagging with DT      0.9   0.896745  0.896745  0.896745\n",
            "AdaBoost             0.9   0.896745  0.896745  0.896745\n",
            "Voting               0.9   0.896745  0.896745  0.896745\n",
            "KNN                  0.82  0.821549  0.821549  0.821549\n",
            "Voting All           0.88  0.882155  0.882155  0.882155\n",
            "-------------------  ----  --------  --------  --------\n"
          ],
          "name": "stdout"
        }
      ]
    },
    {
      "metadata": {
        "id": "y6hNOWOocVwj",
        "colab_type": "code",
        "outputId": "363c5969-8144-4511-f5cd-84d7a848578d",
        "colab": {
          "base_uri": "https://localhost:8080/",
          "height": 442
        }
      },
      "cell_type": "code",
      "source": [
        "clas=[]\n",
        "acc = []\n",
        "p =[]\n",
        "r =[]\n",
        "f1=[]\n",
        "\n",
        "for res in train_results:\n",
        "  clas.append(res[0])\n",
        "  acc.append(res[1])\n",
        "  p.append(res[2])\n",
        "  r.append(res[3])\n",
        "  f1.append(res[4])\n",
        "\n",
        "\n",
        "x_pos = np.arange(1,len(clas)+1)\n",
        "plt.xticks(x_pos, clas,rotation=90)\n",
        "plt.xlabel('Classifiers')\n",
        "plt.ylim(0.75, 1)\n",
        "plt.plot(x_pos, acc,'r*')\n",
        "plt.plot(x_pos, acc, 'r', label='Accurcy')\n",
        "\n",
        "plt.plot(x_pos, p,'b*')\n",
        "plt.plot(x_pos, p, 'b', label='Precision')\n",
        "\n",
        "plt.plot(x_pos, r,'k*')\n",
        "plt.plot(x_pos, r, 'k', label='Recall')\n",
        "\n",
        "plt.plot(x_pos, f1,'*')\n",
        "plt.plot(x_pos, f1, label='F1-Score')\n",
        "\n",
        "plt.legend()\n",
        "\n",
        "plt.show()"
      ],
      "execution_count": 0,
      "outputs": [
        {
          "output_type": "display_data",
          "data": {
            "image/png": "[encoded data removed]",
            "text/plain": [
              "<Figure size 576x396 with 1 Axes>"
            ]
          },
          "metadata": {
            "tags": []
          }
        }
      ]
    },
    {
      "metadata": {
        "id": "9ny2AtJ1lAGo",
        "colab_type": "text"
      },
      "cell_type": "markdown",
      "source": [
        "##7-Summary"
      ]
    },
    {
      "metadata": {
        "id": "zxpn3SvUlEKu",
        "colab_type": "text"
      },
      "cell_type": "markdown",
      "source": [
        "\n",
        "Note: Here all evaluation are on training  data .. the evaluation for test data are from Kaggle..\n",
        "\n",
        "In general, as we increase C in the model, the accurcy increases, but it may cause overfitting. The lowest accurcy is 80% via Naive Bayes classifier, this is expected since the method in calssifying is very simple and naive, but still 80% accurcy is good! The thing I am surprised with is Bagging with Naive Bayes had the same accurcy of NB although tried differnt parameter values of estimators, bootstrap, etc.! I expected bagging will improve it!\n",
        "\n",
        "Next, for 81% accurcy which is achivied by logistic regression classifer and SVM with Linear and RBF kernels. For logistic regression tried with C = 1,5, and 100. But the accurcy remaind the same.\n",
        "\n",
        "For SVM the main parameters that affect accuracy are:\n",
        "- kernel type: here we use the linear kernel,  polynomial kernel, and  RBF kernel. The results show that poly kernel had the best results. \n",
        "- C: the parameter C controls the street wide between the two classes,   as C increases, the accuracy increases, but may cause overfitting. I'm using C=5 for the 3 SVM kernels.\n",
        "- For the poly kernel, the parameter degree..  when degree = 3, the accuracy is 85%, when increased it to 5, the accuracy increased to 87% and this is expected as we increase degree, the accuracy increases, but may cause overfitting.\n",
        "- For RBF kernel, the gamma parameter, as we increase gamma value, the accuracy increases but may cause overfitting.\n",
        "\n",
        "For the decision tree, we have many parameters to tune: the main are: criterion: Gini or Entropy .. both will result in the same tree, but Gini is faster! The Splitter, which split the features based on best or random.\n",
        "max_depth: if None may cause overfitting, we can determine it to a specific depth.\n",
        "For tree1 (use Gini) & tree2 (use Entropy), notice there is no difference in accuracy; as we mentioned previously. The accuracy for them is 90% which is the highest accuracy among all classifiers.\n",
        "But for tree4, the accuracy decreased to 82% when set the max_depth to 2. \n",
        "Bagging with decision tree had 90% accuracy, no improvement from single decision tree 1 &2.\n",
        "\n",
        "\n",
        "For random forest classifier using grid search, the best accuracy was 84%. The paramteres gave the best results are {'criterion': 'gini', 'max_depth': 4, 'max_features': 4, 'n_estimators': 500}\n",
        "\n",
        "For Gradient Boosting Classifier, the best result was 87%. The parameters gave the best results are {'learning_rate': 1.0, 'max_depth': 2, 'n_estimators': 100}\n",
        "\n",
        "For AdaBoosting,  the best result was 90%. The parameters gave the best results are  {'algorithm': 'SAMME.R', 'learning_rate': 0.5, 'n_estimators': 500}\n",
        "\n",
        "For Voting classifier, I chose the best 5 models which are (svm with poly kernel (90%), decision tree 1 (90%), bagging with decision tree  (90%), adaboost  (90%), and gardient boost (87%). \n",
        "The voting results also 90%!\n",
        "\n",
        "For my own method, I chose k-nearest neighbor  (KNN) with grid search. the best result was 82%. The parameters gave the best results are{'algorithm': 'auto', 'n_neighbors': 15}\n",
        "\n",
        "I made another try for voting classifier, which is vote from all previous models. The results accurcy is 88%."
      ]
    },
    {
      "metadata": {
        "id": "nixA6oqCOhhK",
        "colab_type": "text"
      },
      "cell_type": "markdown",
      "source": [
        "##Test data evaluation on Kaggle!"
      ]
    },
    {
      "metadata": {
        "id": "LexUR78OOpKk",
        "colab_type": "text"
      },
      "cell_type": "markdown",
      "source": [
        "I will use the best 5 models for test data predictions, which are:\n",
        "* DT 1\n",
        "* Bagging DT\n",
        "* AdaBoost\n",
        "* Voting 5 models\n",
        "* Voting All\n"
      ]
    },
    {
      "metadata": {
        "id": "5W7TYbv2DEjJ",
        "colab_type": "code",
        "colab": {}
      },
      "cell_type": "code",
      "source": [
        "# dt 1\n",
        "test_pred = dt_d1.predict(x_test)\n",
        "test_results = []\n",
        "for i in range(0,len(test)):\n",
        "  test_results.append([test[\"PassengerId\"][i], test_pred[i]])\n",
        "  \n",
        "prediction = pd.DataFrame(test_results, columns=['PassengerId', 'Survived']).to_csv('predictions/dt.csv',index =False)\n"
      ],
      "execution_count": 0,
      "outputs": []
    },
    {
      "metadata": {
        "id": "Cyv12itKO-rs",
        "colab_type": "code",
        "colab": {}
      },
      "cell_type": "code",
      "source": [
        "#bagging with dt \n",
        "test_pred = dtbag_g.predict(x_test)\n",
        "test_results = []\n",
        "for i in range(0,len(test)):\n",
        "  test_results.append([test[\"PassengerId\"][i], test_pred[i]])\n",
        "  \n",
        "prediction = pd.DataFrame(test_results, columns=['PassengerId', 'Survived']).to_csv('predictions/baggingDT.csv',index =False)\n"
      ],
      "execution_count": 0,
      "outputs": []
    },
    {
      "metadata": {
        "id": "PaPIYEEmDW0R",
        "colab_type": "code",
        "colab": {}
      },
      "cell_type": "code",
      "source": [
        "#adaboost\n",
        "test_pred = adab_h.predict(x_test)\n",
        "test_results = []\n",
        "for i in range(0,len(test)):\n",
        "  test_results.append([test[\"PassengerId\"][i], test_pred[i]])\n",
        "  \n",
        "prediction = pd.DataFrame(test_results, columns=['PassengerId', 'Survived']).to_csv('predictions/adaboost.csv',index =False)\n"
      ],
      "execution_count": 0,
      "outputs": []
    },
    {
      "metadata": {
        "id": "qwHuaGcgDjET",
        "colab_type": "code",
        "outputId": "8f4135ea-4cbb-4cf1-bba8-7b00bcec1759",
        "colab": {
          "base_uri": "https://localhost:8080/",
          "height": 52
        }
      },
      "cell_type": "code",
      "source": [
        "#voting 5\n",
        "test_pred = voting_i.predict(x_test)\n",
        "test_results = []\n",
        "for i in range(0,len(test)):\n",
        "  test_results.append([test[\"PassengerId\"][i], test_pred[i]])\n",
        "  \n",
        "prediction = pd.DataFrame(test_results, columns=['PassengerId', 'Survived']).to_csv('predictions/voting5models.csv',index =False)\n"
      ],
      "execution_count": 0,
      "outputs": [
        {
          "output_type": "stream",
          "text": [
            "/usr/local/lib/python3.6/dist-packages/sklearn/pipeline.py:331: DataConversionWarning: Data with input dtype int64 were all converted to float64 by StandardScaler.\n",
            "  Xt = transform.transform(Xt)\n"
          ],
          "name": "stderr"
        }
      ]
    },
    {
      "metadata": {
        "id": "rnIOcCTvDrqp",
        "colab_type": "code",
        "outputId": "83c0c155-3633-4089-d155-31e7cbbdf4e8",
        "colab": {
          "base_uri": "https://localhost:8080/",
          "height": 122
        }
      },
      "cell_type": "code",
      "source": [
        "#voting all\n",
        "test_pred = voting_all.predict(x_test)\n",
        "test_results = []\n",
        "for i in range(0,len(test)):\n",
        "  test_results.append([test[\"PassengerId\"][i], test_pred[i]])\n",
        "  \n",
        "prediction = pd.DataFrame(test_results, columns=['PassengerId', 'Survived']).to_csv('predictions/votingall.csv',index =False)\n"
      ],
      "execution_count": 0,
      "outputs": [
        {
          "output_type": "stream",
          "text": [
            "/usr/local/lib/python3.6/dist-packages/sklearn/pipeline.py:331: DataConversionWarning: Data with input dtype int64 were all converted to float64 by StandardScaler.\n",
            "  Xt = transform.transform(Xt)\n",
            "/usr/local/lib/python3.6/dist-packages/sklearn/pipeline.py:331: DataConversionWarning: Data with input dtype int64 were all converted to float64 by StandardScaler.\n",
            "  Xt = transform.transform(Xt)\n",
            "/usr/local/lib/python3.6/dist-packages/sklearn/pipeline.py:331: DataConversionWarning: Data with input dtype int64 were all converted to float64 by StandardScaler.\n",
            "  Xt = transform.transform(Xt)\n"
          ],
          "name": "stderr"
        }
      ]
    },
    {
      "metadata": {
        "id": "mdy7D5NdDWDV",
        "colab_type": "text"
      },
      "cell_type": "markdown",
      "source": [
        "##Kaggle Test Results\n",
        "* DT  ...  0.74162\n",
        "* Bagging DT .... 0.75598\n",
        "* AdaBoost ... 0.75598\n",
        "* Voting 5 models  ... 0.76555\n",
        "* Voting all models ... 0.79425\n",
        "\n",
        "So, voting from all models had the best score! \n"
      ]
    },
    {
      "metadata": {
        "id": "Kdu7SzFgk-hd",
        "colab_type": "text"
      },
      "cell_type": "markdown",
      "source": [
        "\n",
        "\n",
        "---\n",
        "\n"
      ]
    },
    {
      "metadata": {
        "id": "xzcbFqgP_hqp",
        "colab_type": "text"
      },
      "cell_type": "markdown",
      "source": [
        "###References:\n",
        "* https://www.kaggle.com/c/titanic\n",
        "* https://www.kaggle.com/sinakhorami/titanic-best-working-classifier\n",
        "* https://www.kaggle.com/startupsci/titanic-data-science-solutions"
      ]
    },
    {
      "metadata": {
        "id": "biA0cOlilEeQ",
        "colab_type": "text"
      },
      "cell_type": "markdown",
      "source": [
        "\n",
        "\n",
        "---\n",
        "\n",
        "#The End :)"
      ]
    }
  ]
}
