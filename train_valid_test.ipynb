{
  "nbformat": 4,
  "nbformat_minor": 0,
  "metadata": {
    "colab": {
      "name": "assignment3_train_valid_test.ipynb",
      "version": "0.3.2",
      "provenance": [],
      "collapsed_sections": []
    },
    "kernelspec": {
      "name": "python3",
      "display_name": "Python 3"
    },
    "accelerator": "GPU"
  },
  "cells": [
    {
      "metadata": {
        "id": "l2mEdMwe2slU",
        "colab_type": "code",
        "outputId": "0840230d-1dd8-4fb5-e849-cf8c2153751b",
        "colab": {
          "base_uri": "https://localhost:8080/",
          "height": 125
        }
      },
      "cell_type": "code",
      "source": [
        "from google.colab import drive\n",
        "drive.mount('/content/drive')"
      ],
      "execution_count": 0,
      "outputs": [
        {
          "output_type": "stream",
          "text": [
            "Go to this URL in a browser: https://accounts.google.com/o/oauth2/auth?client_id=947318989803-6bn6qk8qdgf4n4g3pfee6491hc0brc4i.apps.googleusercontent.com&redirect_uri=urn%3Aietf%3Awg%3Aoauth%3A2.0%3Aoob&scope=email%20https%3A%2F%2Fwww.googleapis.com%2Fauth%2Fdocs.test%20https%3A%2F%2Fwww.googleapis.com%2Fauth%2Fdrive%20https%3A%2F%2Fwww.googleapis.com%2Fauth%2Fdrive.photos.readonly%20https%3A%2F%2Fwww.googleapis.com%2Fauth%2Fpeopleapi.readonly&response_type=code\n",
            "\n",
            "Enter your authorization code:\n",
            "··········\n",
            "Mounted at /content/drive\n"
          ],
          "name": "stdout"
        }
      ]
    },
    {
      "metadata": {
        "id": "NVIS25ts3ZKM",
        "colab_type": "code",
        "colab": {}
      },
      "cell_type": "code",
      "source": [
        "import os\n",
        "path ='/content/drive/My Drive/ML Course/Assignment 3'\n",
        "os.chdir(path)"
      ],
      "execution_count": 0,
      "outputs": []
    },
    {
      "metadata": {
        "id": "KHb6OhKR3fjG",
        "colab_type": "code",
        "colab": {}
      },
      "cell_type": "code",
      "source": [
        "# import needed librarries:\n",
        "import csv\n",
        "import numpy as np\n",
        "import pandas as pd\n",
        "import re\n",
        "import seaborn as sns\n",
        "import matplotlib.pyplot as plt\n",
        "\n",
        "\n",
        "from sklearn.model_selection import train_test_split\n",
        "from sklearn.feature_selection import SelectFromModel\n",
        "from sklearn.model_selection import GridSearchCV\n",
        "\n",
        "from sklearn.svm import SVC\n",
        "from sklearn.svm import LinearSVC\n",
        "from sklearn.pipeline import Pipeline\n",
        "from sklearn.preprocessing import StandardScaler\n",
        "from sklearn.naive_bayes import GaussianNB\n",
        "from sklearn.linear_model import LogisticRegression\n",
        "from sklearn.tree import DecisionTreeClassifier\n",
        "from sklearn.ensemble import GradientBoostingClassifier\n",
        "from sklearn.ensemble import BaggingClassifier\n",
        "from sklearn.naive_bayes import GaussianNB\n",
        "from sklearn.ensemble import VotingClassifier\n",
        "from sklearn.ensemble import RandomForestClassifier\n",
        "from sklearn.ensemble import AdaBoostClassifier\n",
        "from sklearn.neighbors import KNeighborsClassifier\n",
        "\n",
        "\n",
        "from sklearn.metrics import accuracy_score\n",
        "from sklearn.metrics import precision_recall_fscore_support"
      ],
      "execution_count": 0,
      "outputs": []
    },
    {
      "metadata": {
        "id": "A2NopcqBmpcA",
        "colab_type": "text"
      },
      "cell_type": "markdown",
      "source": [
        "\n",
        "\n",
        "## ** 1 & 2- Exploring Data & Fill Empty Fields &Visualization **\n",
        "\n",
        "---\n",
        "\n",
        "\n",
        "\n"
      ]
    },
    {
      "metadata": {
        "id": "tA9E9EUAnfMI",
        "colab_type": "text"
      },
      "cell_type": "markdown",
      "source": [
        "*  Read data from  csv files  &  Store it in train and test \n",
        "*  Compine all data together under name all_data for analysis reasons.\n",
        "* Print data size information.\n",
        "\n"
      ]
    },
    {
      "metadata": {
        "id": "U668flVSPgfV",
        "colab_type": "text"
      },
      "cell_type": "markdown",
      "source": [
        "**Note:**\n",
        "* Since the test data provided from Kaggle are not labeld, we can't evaluate it outside Kaggle.. So I will use the train data provided by Kaggle as train data and validation data"
      ]
    },
    {
      "metadata": {
        "id": "oIm-imoGGYaX",
        "colab_type": "code",
        "outputId": "be698dc3-e1d7-40e1-e9c2-efced0c0f890",
        "colab": {
          "base_uri": "https://localhost:8080/",
          "height": 54
        }
      },
      "cell_type": "code",
      "source": [
        "\n",
        "from sklearn.model_selection import train_test_split\n",
        "\n",
        "kaggletrain = pd.read_csv('dataset/train.csv')\n",
        "'''\n",
        "train , valid = train_test_split(kaggletrain, test_size=0.2)\n",
        "\n",
        "export_csv = train.to_csv (r'dataset/train2.csv', index = None, header=True) \n",
        "export_csv = valid.to_csv (r'dataset/valid.csv', index = None, header=True) \n",
        "'''"
      ],
      "execution_count": 0,
      "outputs": [
        {
          "output_type": "execute_result",
          "data": {
            "text/plain": [
              "\"\\ntrain , valid = train_test_split(kaggletrain, test_size=0.2)\\n\\nexport_csv = train.to_csv (r'dataset/train2.csv', index = None, header=True) \\nexport_csv = valid.to_csv (r'dataset/valid.csv', index = None, header=True) \\n\""
            ]
          },
          "metadata": {
            "tags": []
          },
          "execution_count": 7
        }
      ]
    },
    {
      "metadata": {
        "id": "36BNdPOz3kWP",
        "colab_type": "code",
        "outputId": "4992bd89-ed49-4e98-ef3f-b5e347db99d7",
        "colab": {
          "base_uri": "https://localhost:8080/",
          "height": 283
        }
      },
      "cell_type": "code",
      "source": [
        "\n",
        "train = pd.read_csv('dataset/train2.csv')\n",
        "valid = pd.read_csv('dataset/valid.csv')\n",
        "test = pd.read_csv('dataset/test.csv')\n",
        "\n",
        "\n",
        "\n",
        "all_data = [train, valid, test]\n",
        "\n",
        "print('Train data entries number = ', train.shape[0])\n",
        "print('Valid data entries number = ', valid.shape[0])\n",
        "print('Number of features = ', train.shape[1])\n",
        "\n",
        "print(\"\\nFirst five rows of train data are: \")\n",
        "train.head(5)\n",
        "\n"
      ],
      "execution_count": 0,
      "outputs": [
        {
          "output_type": "stream",
          "text": [
            "Train data entries number =  712\n",
            "Valid data entries number =  179\n",
            "Number of features =  12\n",
            "\n",
            "First five rows of train data are: \n"
          ],
          "name": "stdout"
        },
        {
          "output_type": "execute_result",
          "data": {
            "text/html": [
              "<div>\n",
              "<style scoped>\n",
              "    .dataframe tbody tr th:only-of-type {\n",
              "        vertical-align: middle;\n",
              "    }\n",
              "\n",
              "    .dataframe tbody tr th {\n",
              "        vertical-align: top;\n",
              "    }\n",
              "\n",
              "    .dataframe thead th {\n",
              "        text-align: right;\n",
              "    }\n",
              "</style>\n",
              "<table border=\"1\" class=\"dataframe\">\n",
              "  <thead>\n",
              "    <tr style=\"text-align: right;\">\n",
              "      <th></th>\n",
              "      <th>PassengerId</th>\n",
              "      <th>Survived</th>\n",
              "      <th>Pclass</th>\n",
              "      <th>Name</th>\n",
              "      <th>Sex</th>\n",
              "      <th>Age</th>\n",
              "      <th>SibSp</th>\n",
              "      <th>Parch</th>\n",
              "      <th>Ticket</th>\n",
              "      <th>Fare</th>\n",
              "      <th>Cabin</th>\n",
              "      <th>Embarked</th>\n",
              "    </tr>\n",
              "  </thead>\n",
              "  <tbody>\n",
              "    <tr>\n",
              "      <th>0</th>\n",
              "      <td>365</td>\n",
              "      <td>0</td>\n",
              "      <td>3</td>\n",
              "      <td>O'Brien, Mr. Thomas</td>\n",
              "      <td>male</td>\n",
              "      <td>NaN</td>\n",
              "      <td>1</td>\n",
              "      <td>0</td>\n",
              "      <td>370365</td>\n",
              "      <td>15.5000</td>\n",
              "      <td>NaN</td>\n",
              "      <td>Q</td>\n",
              "    </tr>\n",
              "    <tr>\n",
              "      <th>1</th>\n",
              "      <td>427</td>\n",
              "      <td>1</td>\n",
              "      <td>2</td>\n",
              "      <td>Clarke, Mrs. Charles V (Ada Maria Winfield)</td>\n",
              "      <td>female</td>\n",
              "      <td>28.0</td>\n",
              "      <td>1</td>\n",
              "      <td>0</td>\n",
              "      <td>2003</td>\n",
              "      <td>26.0000</td>\n",
              "      <td>NaN</td>\n",
              "      <td>S</td>\n",
              "    </tr>\n",
              "    <tr>\n",
              "      <th>2</th>\n",
              "      <td>138</td>\n",
              "      <td>0</td>\n",
              "      <td>1</td>\n",
              "      <td>Futrelle, Mr. Jacques Heath</td>\n",
              "      <td>male</td>\n",
              "      <td>37.0</td>\n",
              "      <td>1</td>\n",
              "      <td>0</td>\n",
              "      <td>113803</td>\n",
              "      <td>53.1000</td>\n",
              "      <td>C123</td>\n",
              "      <td>S</td>\n",
              "    </tr>\n",
              "    <tr>\n",
              "      <th>3</th>\n",
              "      <td>206</td>\n",
              "      <td>0</td>\n",
              "      <td>3</td>\n",
              "      <td>Strom, Miss. Telma Matilda</td>\n",
              "      <td>female</td>\n",
              "      <td>2.0</td>\n",
              "      <td>0</td>\n",
              "      <td>1</td>\n",
              "      <td>347054</td>\n",
              "      <td>10.4625</td>\n",
              "      <td>G6</td>\n",
              "      <td>S</td>\n",
              "    </tr>\n",
              "    <tr>\n",
              "      <th>4</th>\n",
              "      <td>337</td>\n",
              "      <td>0</td>\n",
              "      <td>1</td>\n",
              "      <td>Pears, Mr. Thomas Clinton</td>\n",
              "      <td>male</td>\n",
              "      <td>29.0</td>\n",
              "      <td>1</td>\n",
              "      <td>0</td>\n",
              "      <td>113776</td>\n",
              "      <td>66.6000</td>\n",
              "      <td>C2</td>\n",
              "      <td>S</td>\n",
              "    </tr>\n",
              "  </tbody>\n",
              "</table>\n",
              "</div>"
            ],
            "text/plain": [
              "   PassengerId  Survived  Pclass                                         Name  \\\n",
              "0          365         0       3                          O'Brien, Mr. Thomas   \n",
              "1          427         1       2  Clarke, Mrs. Charles V (Ada Maria Winfield)   \n",
              "2          138         0       1                  Futrelle, Mr. Jacques Heath   \n",
              "3          206         0       3                   Strom, Miss. Telma Matilda   \n",
              "4          337         0       1                    Pears, Mr. Thomas Clinton   \n",
              "\n",
              "      Sex   Age  SibSp  Parch  Ticket     Fare Cabin Embarked  \n",
              "0    male   NaN      1      0  370365  15.5000   NaN        Q  \n",
              "1  female  28.0      1      0    2003  26.0000   NaN        S  \n",
              "2    male  37.0      1      0  113803  53.1000  C123        S  \n",
              "3  female   2.0      0      1  347054  10.4625    G6        S  \n",
              "4    male  29.0      1      0  113776  66.6000    C2        S  "
            ]
          },
          "metadata": {
            "tags": []
          },
          "execution_count": 8
        }
      ]
    },
    {
      "metadata": {
        "id": "XvQSHf0ZpA4j",
        "colab_type": "text"
      },
      "cell_type": "markdown",
      "source": [
        "** Explore the  train and valida data features **\n",
        "* It shows the data type of each feature.\n",
        "* It's also show thw number of values for each feature .. we have missing values for Age, Cabin, and Embarked features "
      ]
    },
    {
      "metadata": {
        "id": "f9grphzB4e5B",
        "colab_type": "code",
        "outputId": "096efc96-2f1d-43ca-de51-a2049eba36a0",
        "colab": {
          "base_uri": "https://localhost:8080/",
          "height": 334
        }
      },
      "cell_type": "code",
      "source": [
        "print (kaggletrain.info())"
      ],
      "execution_count": 0,
      "outputs": [
        {
          "output_type": "stream",
          "text": [
            "<class 'pandas.core.frame.DataFrame'>\n",
            "RangeIndex: 891 entries, 0 to 890\n",
            "Data columns (total 12 columns):\n",
            "PassengerId    891 non-null int64\n",
            "Survived       891 non-null int64\n",
            "Pclass         891 non-null int64\n",
            "Name           891 non-null object\n",
            "Sex            891 non-null object\n",
            "Age            714 non-null float64\n",
            "SibSp          891 non-null int64\n",
            "Parch          891 non-null int64\n",
            "Ticket         891 non-null object\n",
            "Fare           891 non-null float64\n",
            "Cabin          204 non-null object\n",
            "Embarked       889 non-null object\n",
            "dtypes: float64(2), int64(5), object(5)\n",
            "memory usage: 83.6+ KB\n",
            "None\n"
          ],
          "name": "stdout"
        }
      ]
    },
    {
      "metadata": {
        "id": "OBtk_FtxecSV",
        "colab_type": "text"
      },
      "cell_type": "markdown",
      "source": [
        "**More details about each attribute using describe**\n",
        "* count, mean, std, min, and max are clear fro sure.\n",
        "* The 25%, 50%, and 75% rows show the corresponding percentiles\n",
        "* The percentile indicates the value below which a given percentage of observations in a group of observations falls.\n"
      ]
    },
    {
      "metadata": {
        "id": "Rh89Ohg0aejX",
        "colab_type": "code",
        "outputId": "1b26a3e4-28bc-423f-f5ea-216fed373445",
        "colab": {
          "base_uri": "https://localhost:8080/",
          "height": 284
        }
      },
      "cell_type": "code",
      "source": [
        "kaggletrain.describe()\n"
      ],
      "execution_count": 0,
      "outputs": [
        {
          "output_type": "execute_result",
          "data": {
            "text/html": [
              "<div>\n",
              "<style scoped>\n",
              "    .dataframe tbody tr th:only-of-type {\n",
              "        vertical-align: middle;\n",
              "    }\n",
              "\n",
              "    .dataframe tbody tr th {\n",
              "        vertical-align: top;\n",
              "    }\n",
              "\n",
              "    .dataframe thead th {\n",
              "        text-align: right;\n",
              "    }\n",
              "</style>\n",
              "<table border=\"1\" class=\"dataframe\">\n",
              "  <thead>\n",
              "    <tr style=\"text-align: right;\">\n",
              "      <th></th>\n",
              "      <th>PassengerId</th>\n",
              "      <th>Survived</th>\n",
              "      <th>Pclass</th>\n",
              "      <th>Age</th>\n",
              "      <th>SibSp</th>\n",
              "      <th>Parch</th>\n",
              "      <th>Fare</th>\n",
              "    </tr>\n",
              "  </thead>\n",
              "  <tbody>\n",
              "    <tr>\n",
              "      <th>count</th>\n",
              "      <td>891.000000</td>\n",
              "      <td>891.000000</td>\n",
              "      <td>891.000000</td>\n",
              "      <td>714.000000</td>\n",
              "      <td>891.000000</td>\n",
              "      <td>891.000000</td>\n",
              "      <td>891.000000</td>\n",
              "    </tr>\n",
              "    <tr>\n",
              "      <th>mean</th>\n",
              "      <td>446.000000</td>\n",
              "      <td>0.383838</td>\n",
              "      <td>2.308642</td>\n",
              "      <td>29.699118</td>\n",
              "      <td>0.523008</td>\n",
              "      <td>0.381594</td>\n",
              "      <td>32.204208</td>\n",
              "    </tr>\n",
              "    <tr>\n",
              "      <th>std</th>\n",
              "      <td>257.353842</td>\n",
              "      <td>0.486592</td>\n",
              "      <td>0.836071</td>\n",
              "      <td>14.526497</td>\n",
              "      <td>1.102743</td>\n",
              "      <td>0.806057</td>\n",
              "      <td>49.693429</td>\n",
              "    </tr>\n",
              "    <tr>\n",
              "      <th>min</th>\n",
              "      <td>1.000000</td>\n",
              "      <td>0.000000</td>\n",
              "      <td>1.000000</td>\n",
              "      <td>0.420000</td>\n",
              "      <td>0.000000</td>\n",
              "      <td>0.000000</td>\n",
              "      <td>0.000000</td>\n",
              "    </tr>\n",
              "    <tr>\n",
              "      <th>25%</th>\n",
              "      <td>223.500000</td>\n",
              "      <td>0.000000</td>\n",
              "      <td>2.000000</td>\n",
              "      <td>20.125000</td>\n",
              "      <td>0.000000</td>\n",
              "      <td>0.000000</td>\n",
              "      <td>7.910400</td>\n",
              "    </tr>\n",
              "    <tr>\n",
              "      <th>50%</th>\n",
              "      <td>446.000000</td>\n",
              "      <td>0.000000</td>\n",
              "      <td>3.000000</td>\n",
              "      <td>28.000000</td>\n",
              "      <td>0.000000</td>\n",
              "      <td>0.000000</td>\n",
              "      <td>14.454200</td>\n",
              "    </tr>\n",
              "    <tr>\n",
              "      <th>75%</th>\n",
              "      <td>668.500000</td>\n",
              "      <td>1.000000</td>\n",
              "      <td>3.000000</td>\n",
              "      <td>38.000000</td>\n",
              "      <td>1.000000</td>\n",
              "      <td>0.000000</td>\n",
              "      <td>31.000000</td>\n",
              "    </tr>\n",
              "    <tr>\n",
              "      <th>max</th>\n",
              "      <td>891.000000</td>\n",
              "      <td>1.000000</td>\n",
              "      <td>3.000000</td>\n",
              "      <td>80.000000</td>\n",
              "      <td>8.000000</td>\n",
              "      <td>6.000000</td>\n",
              "      <td>512.329200</td>\n",
              "    </tr>\n",
              "  </tbody>\n",
              "</table>\n",
              "</div>"
            ],
            "text/plain": [
              "       PassengerId    Survived      Pclass         Age       SibSp  \\\n",
              "count   891.000000  891.000000  891.000000  714.000000  891.000000   \n",
              "mean    446.000000    0.383838    2.308642   29.699118    0.523008   \n",
              "std     257.353842    0.486592    0.836071   14.526497    1.102743   \n",
              "min       1.000000    0.000000    1.000000    0.420000    0.000000   \n",
              "25%     223.500000    0.000000    2.000000   20.125000    0.000000   \n",
              "50%     446.000000    0.000000    3.000000   28.000000    0.000000   \n",
              "75%     668.500000    1.000000    3.000000   38.000000    1.000000   \n",
              "max     891.000000    1.000000    3.000000   80.000000    8.000000   \n",
              "\n",
              "            Parch        Fare  \n",
              "count  891.000000  891.000000  \n",
              "mean     0.381594   32.204208  \n",
              "std      0.806057   49.693429  \n",
              "min      0.000000    0.000000  \n",
              "25%      0.000000    7.910400  \n",
              "50%      0.000000   14.454200  \n",
              "75%      0.000000   31.000000  \n",
              "max      6.000000  512.329200  "
            ]
          },
          "metadata": {
            "tags": []
          },
          "execution_count": 10
        }
      ]
    },
    {
      "metadata": {
        "id": "wTspZPmRqLQY",
        "colab_type": "text"
      },
      "cell_type": "markdown",
      "source": [
        " ** To know how many missing values for each feature in the train data **\n",
        " "
      ]
    },
    {
      "metadata": {
        "id": "3XWdMh5ogmyM",
        "colab_type": "code",
        "outputId": "b37b00f0-c0ae-43d3-ba97-101d2dfafa9d",
        "colab": {
          "base_uri": "https://localhost:8080/",
          "height": 246
        }
      },
      "cell_type": "code",
      "source": [
        "nullvalue = kaggletrain.isnull().sum() \n",
        "print(nullvalue)"
      ],
      "execution_count": 0,
      "outputs": [
        {
          "output_type": "stream",
          "text": [
            "PassengerId      0\n",
            "Survived         0\n",
            "Pclass           0\n",
            "Name             0\n",
            "Sex              0\n",
            "Age            177\n",
            "SibSp            0\n",
            "Parch            0\n",
            "Ticket           0\n",
            "Fare             0\n",
            "Cabin          687\n",
            "Embarked         2\n",
            "dtype: int64\n"
          ],
          "name": "stdout"
        }
      ]
    },
    {
      "metadata": {
        "id": "f0Xl1_sAp-wn",
        "colab_type": "text"
      },
      "cell_type": "markdown",
      "source": [
        "**Explore the test data features**\n",
        "\n",
        "* It shows the data type of each feature.\n",
        "* It's also show thw number of values for each feature .. we have missing values for Age and Cabin features"
      ]
    },
    {
      "metadata": {
        "id": "R0MEgQ3yUu9C",
        "colab_type": "code",
        "outputId": "8c3cdd76-afb6-480a-8fdb-4a68d96a4972",
        "colab": {
          "base_uri": "https://localhost:8080/",
          "height": 316
        }
      },
      "cell_type": "code",
      "source": [
        "print (test.info())"
      ],
      "execution_count": 0,
      "outputs": [
        {
          "output_type": "stream",
          "text": [
            "<class 'pandas.core.frame.DataFrame'>\n",
            "RangeIndex: 418 entries, 0 to 417\n",
            "Data columns (total 11 columns):\n",
            "PassengerId    418 non-null int64\n",
            "Pclass         418 non-null int64\n",
            "Name           418 non-null object\n",
            "Sex            418 non-null object\n",
            "Age            332 non-null float64\n",
            "SibSp          418 non-null int64\n",
            "Parch          418 non-null int64\n",
            "Ticket         418 non-null object\n",
            "Fare           417 non-null float64\n",
            "Cabin          91 non-null object\n",
            "Embarked       418 non-null object\n",
            "dtypes: float64(2), int64(4), object(5)\n",
            "memory usage: 36.0+ KB\n",
            "None\n"
          ],
          "name": "stdout"
        }
      ]
    },
    {
      "metadata": {
        "id": "Q-GdayI3alIJ",
        "colab_type": "code",
        "outputId": "c7a1f18b-8403-4602-ad7f-cbb15fca058a",
        "colab": {
          "base_uri": "https://localhost:8080/",
          "height": 284
        }
      },
      "cell_type": "code",
      "source": [
        "test.describe()"
      ],
      "execution_count": 0,
      "outputs": [
        {
          "output_type": "execute_result",
          "data": {
            "text/html": [
              "<div>\n",
              "<style scoped>\n",
              "    .dataframe tbody tr th:only-of-type {\n",
              "        vertical-align: middle;\n",
              "    }\n",
              "\n",
              "    .dataframe tbody tr th {\n",
              "        vertical-align: top;\n",
              "    }\n",
              "\n",
              "    .dataframe thead th {\n",
              "        text-align: right;\n",
              "    }\n",
              "</style>\n",
              "<table border=\"1\" class=\"dataframe\">\n",
              "  <thead>\n",
              "    <tr style=\"text-align: right;\">\n",
              "      <th></th>\n",
              "      <th>PassengerId</th>\n",
              "      <th>Pclass</th>\n",
              "      <th>Age</th>\n",
              "      <th>SibSp</th>\n",
              "      <th>Parch</th>\n",
              "      <th>Fare</th>\n",
              "    </tr>\n",
              "  </thead>\n",
              "  <tbody>\n",
              "    <tr>\n",
              "      <th>count</th>\n",
              "      <td>418.000000</td>\n",
              "      <td>418.000000</td>\n",
              "      <td>332.000000</td>\n",
              "      <td>418.000000</td>\n",
              "      <td>418.000000</td>\n",
              "      <td>417.000000</td>\n",
              "    </tr>\n",
              "    <tr>\n",
              "      <th>mean</th>\n",
              "      <td>1100.500000</td>\n",
              "      <td>2.265550</td>\n",
              "      <td>30.272590</td>\n",
              "      <td>0.447368</td>\n",
              "      <td>0.392344</td>\n",
              "      <td>35.627188</td>\n",
              "    </tr>\n",
              "    <tr>\n",
              "      <th>std</th>\n",
              "      <td>120.810458</td>\n",
              "      <td>0.841838</td>\n",
              "      <td>14.181209</td>\n",
              "      <td>0.896760</td>\n",
              "      <td>0.981429</td>\n",
              "      <td>55.907576</td>\n",
              "    </tr>\n",
              "    <tr>\n",
              "      <th>min</th>\n",
              "      <td>892.000000</td>\n",
              "      <td>1.000000</td>\n",
              "      <td>0.170000</td>\n",
              "      <td>0.000000</td>\n",
              "      <td>0.000000</td>\n",
              "      <td>0.000000</td>\n",
              "    </tr>\n",
              "    <tr>\n",
              "      <th>25%</th>\n",
              "      <td>996.250000</td>\n",
              "      <td>1.000000</td>\n",
              "      <td>21.000000</td>\n",
              "      <td>0.000000</td>\n",
              "      <td>0.000000</td>\n",
              "      <td>7.895800</td>\n",
              "    </tr>\n",
              "    <tr>\n",
              "      <th>50%</th>\n",
              "      <td>1100.500000</td>\n",
              "      <td>3.000000</td>\n",
              "      <td>27.000000</td>\n",
              "      <td>0.000000</td>\n",
              "      <td>0.000000</td>\n",
              "      <td>14.454200</td>\n",
              "    </tr>\n",
              "    <tr>\n",
              "      <th>75%</th>\n",
              "      <td>1204.750000</td>\n",
              "      <td>3.000000</td>\n",
              "      <td>39.000000</td>\n",
              "      <td>1.000000</td>\n",
              "      <td>0.000000</td>\n",
              "      <td>31.500000</td>\n",
              "    </tr>\n",
              "    <tr>\n",
              "      <th>max</th>\n",
              "      <td>1309.000000</td>\n",
              "      <td>3.000000</td>\n",
              "      <td>76.000000</td>\n",
              "      <td>8.000000</td>\n",
              "      <td>9.000000</td>\n",
              "      <td>512.329200</td>\n",
              "    </tr>\n",
              "  </tbody>\n",
              "</table>\n",
              "</div>"
            ],
            "text/plain": [
              "       PassengerId      Pclass         Age       SibSp       Parch        Fare\n",
              "count   418.000000  418.000000  332.000000  418.000000  418.000000  417.000000\n",
              "mean   1100.500000    2.265550   30.272590    0.447368    0.392344   35.627188\n",
              "std     120.810458    0.841838   14.181209    0.896760    0.981429   55.907576\n",
              "min     892.000000    1.000000    0.170000    0.000000    0.000000    0.000000\n",
              "25%     996.250000    1.000000   21.000000    0.000000    0.000000    7.895800\n",
              "50%    1100.500000    3.000000   27.000000    0.000000    0.000000   14.454200\n",
              "75%    1204.750000    3.000000   39.000000    1.000000    0.000000   31.500000\n",
              "max    1309.000000    3.000000   76.000000    8.000000    9.000000  512.329200"
            ]
          },
          "metadata": {
            "tags": []
          },
          "execution_count": 13
        }
      ]
    },
    {
      "metadata": {
        "id": "JV5ghOvaqvJO",
        "colab_type": "text"
      },
      "cell_type": "markdown",
      "source": [
        " ** To know how many missing values for each feature in the test data **\n",
        "\n",
        " "
      ]
    },
    {
      "metadata": {
        "id": "sAyXKkvPhK2q",
        "colab_type": "code",
        "outputId": "a646d040-efcd-4350-bbc5-62bd6debf3c4",
        "colab": {
          "base_uri": "https://localhost:8080/",
          "height": 228
        }
      },
      "cell_type": "code",
      "source": [
        "testnullvalue = test.isnull().sum()\n",
        "print(testnullvalue)"
      ],
      "execution_count": 0,
      "outputs": [
        {
          "output_type": "stream",
          "text": [
            "PassengerId      0\n",
            "Pclass           0\n",
            "Name             0\n",
            "Sex              0\n",
            "Age             86\n",
            "SibSp            0\n",
            "Parch            0\n",
            "Ticket           0\n",
            "Fare             1\n",
            "Cabin          327\n",
            "Embarked         0\n",
            "dtype: int64\n"
          ],
          "name": "stdout"
        }
      ]
    },
    {
      "metadata": {
        "id": "cczq1eaCrzYD",
        "colab_type": "text"
      },
      "cell_type": "markdown",
      "source": [
        "** Understand features and relations in train data **\n",
        "\n",
        "\n",
        "\n",
        "---\n",
        "\n"
      ]
    },
    {
      "metadata": {
        "id": "geq6hcTrsAiY",
        "colab_type": "text"
      },
      "cell_type": "markdown",
      "source": [
        "** Survived Class **\n",
        "* 0 = No, 1 = Yes\n",
        "* Number of survived & unsurvived  (died) in train data \n",
        "\n"
      ]
    },
    {
      "metadata": {
        "id": "5cMK19P1aynu",
        "colab_type": "code",
        "outputId": "530a0d18-5c85-46f5-b870-c846dccb5b9b",
        "colab": {
          "base_uri": "https://localhost:8080/",
          "height": 435
        }
      },
      "cell_type": "code",
      "source": [
        "survived_values_count = train['Survived'].value_counts()\n",
        "print(survived_values_count)\n",
        "print()\n",
        "\n",
        "\n",
        "x = ('Died','Survived')\n",
        "x_pos = np.arange(len(x))\n",
        "survived_values_count =survived_values_count.iloc[:].values\n",
        "\n",
        "barlist = plt.bar(x_pos, survived_values_count, align='center')\n",
        "plt.xticks(x_pos, x)\n",
        "plt.xlabel('Passengers')\n",
        "plt.ylabel('Count')\n",
        "plt.xlim(-1, 2)\n",
        "plt.ylim(0, 700)\n",
        "barlist[0].set_color('r')\n",
        "barlist[1].set_color('g')\n",
        "\n",
        "plt.text(-(0.25/4), survived_values_count[0]+15, str(survived_values_count[0]))\n",
        "plt.text(1-(0.25/4), survived_values_count[1]+15, str(survived_values_count[1]))\n",
        "\n",
        "plt.show()\n",
        "\n"
      ],
      "execution_count": 0,
      "outputs": [
        {
          "output_type": "stream",
          "text": [
            "0    433\n",
            "1    279\n",
            "Name: Survived, dtype: int64\n",
            "\n"
          ],
          "name": "stdout"
        },
        {
          "output_type": "display_data",
          "data": {
            "image/png": "[encoded data removed]",
            "text/plain": [
              "<Figure size 576x396 with 1 Axes>"
            ]
          },
          "metadata": {
            "tags": []
          }
        }
      ]
    },
    {
      "metadata": {
        "id": "Lo0RRQzWdS6y",
        "colab_type": "text"
      },
      "cell_type": "markdown",
      "source": [
        "**Lets start with features with no missing values**"
      ]
    },
    {
      "metadata": {
        "id": "iqEUDulHsqvn",
        "colab_type": "text"
      },
      "cell_type": "markdown",
      "source": [
        "**Pclass Feature**\n",
        "* i.e. Ticket class\t\n",
        "* 1 = 1st, 2 = 2nd, 3 = 3rd\n",
        "* Notice that number of passengers of each class is not equal, 3rd class has the more passengers and more died!\n",
        "* From the plots below, it's clear that as the Pclass increases (1st is the heighest) the percentage of survive is increased! Thats logical since higher class have better places in the ship I think! \n"
      ]
    },
    {
      "metadata": {
        "id": "yxzTSbVR5mAO",
        "colab_type": "code",
        "outputId": "fed7ef51-6697-4e82-eeed-6cd83daccf0c",
        "colab": {
          "base_uri": "https://localhost:8080/",
          "height": 576
        }
      },
      "cell_type": "code",
      "source": [
        "# pclass feature\n",
        "pclass_values_count = train['Pclass'].value_counts()\n",
        "print(\"Each class count:\")\n",
        "print(pclass_values_count)\n",
        "print()\n",
        "\n",
        "# percentage of survived of each class\n",
        "survived_values_Percent= train[['Pclass', 'Survived']].groupby(['Pclass'], as_index=False).mean()\n",
        "print(\"Percenatge of Survived for each class:\")\n",
        "print(survived_values_Percent)\n",
        "\n",
        "print()\n",
        "\n",
        "pclass = ('1st', '2nd', '3rd')\n",
        "x_pos = np.arange(len(pclass))\n",
        "survicedPercent =survived_values_Percent.iloc[:,1].values\n",
        " \n",
        "barlist = plt.bar(x_pos, survicedPercent, align='center')\n",
        "plt.xticks(x_pos, pclass)\n",
        "plt.xlabel('Pclass')\n",
        "plt.ylabel('Survived Percentage')\n",
        "plt.xlim(-1, 3)\n",
        "plt.ylim(0, 1)\n",
        "barlist[0].set_color('r')\n",
        "barlist[1].set_color('g')\n",
        "\n",
        "text1 = str(\"%.2f\" % (survicedPercent[0]*100))\n",
        "text2 = str(\"%.2f\" % (survicedPercent[1]*100))\n",
        "text3 = str(\"%.2f\" % (survicedPercent[2]*100))\n",
        "\n",
        "plt.text(-(0.25/4), survicedPercent[0]+0.025,text1+\"%\" )\n",
        "plt.text(1-(0.25/4), survicedPercent[1]+0.025,text2+\"%\" )\n",
        "plt.text(2-(0.25/4), survicedPercent[2]+0.025,text3+\"%\" )\n",
        "\n",
        "plt.show()\n",
        "\n"
      ],
      "execution_count": 0,
      "outputs": [
        {
          "output_type": "stream",
          "text": [
            "Each class count:\n",
            "3    390\n",
            "1    169\n",
            "2    153\n",
            "Name: Pclass, dtype: int64\n",
            "\n",
            "Percenatge of Survived for each class:\n",
            "   Pclass  Survived\n",
            "0       1  0.644970\n",
            "1       2  0.450980\n",
            "2       3  0.258974\n",
            "\n"
          ],
          "name": "stdout"
        },
        {
          "output_type": "display_data",
          "data": {
            "image/png": "[encoded data removed]",
            "text/plain": [
              "<Figure size 576x396 with 1 Axes>"
            ]
          },
          "metadata": {
            "tags": []
          }
        }
      ]
    },
    {
      "metadata": {
        "id": "l0KEElBQeVBz",
        "colab_type": "text"
      },
      "cell_type": "markdown",
      "source": [
        "**Sex Feature**\n",
        "* Female\n",
        "* Male\n",
        "* Number of males passnegers is more than female passengers.\n",
        "* From the plots below, the survived females more than survived males."
      ]
    },
    {
      "metadata": {
        "id": "_XpvC0c25npy",
        "colab_type": "code",
        "outputId": "0fe84ffe-9f9d-4f1e-860a-f385e198efb6",
        "colab": {
          "base_uri": "https://localhost:8080/",
          "height": 523
        }
      },
      "cell_type": "code",
      "source": [
        "sex_values_count = train['Sex'].value_counts()\n",
        "print(\"Each Sex count:\")\n",
        "print(sex_values_count)\n",
        "print()\n",
        "\n",
        "survived_values_Percent = train[['Sex', 'Survived']].groupby(['Sex'], as_index=False).mean()\n",
        "print(survived_values_Percent)\n",
        "print()\n",
        "\n",
        "sex = ('Female','Male')\n",
        "x_pos = np.arange(len(sex))\n",
        "survicedPercent =survived_values_Percent.iloc[:,1].values\n",
        " \n",
        "barlist = plt.bar(x_pos, survicedPercent, align='center')\n",
        "plt.xticks(x_pos, sex)\n",
        "plt.xlabel('Sex')\n",
        "plt.ylabel('Survived Percentage')\n",
        "plt.xlim(-1, 2)\n",
        "plt.ylim(0, 1)\n",
        "barlist[0].set_color('r')\n",
        "barlist[1].set_color('g')\n",
        "\n",
        "text1 = str(\"%.2f\" % (survicedPercent[0]*100))\n",
        "text2 = str(\"%.2f\" % (survicedPercent[1]*100))\n",
        "\n",
        "plt.text(-(0.25/4), survicedPercent[0]+0.025,text1+\"%\" )\n",
        "plt.text(1-(0.25/4), survicedPercent[1]+0.025,text2+\"%\" )\n",
        "\n",
        "plt.show()"
      ],
      "execution_count": 0,
      "outputs": [
        {
          "output_type": "stream",
          "text": [
            "Each Sex count:\n",
            "male      455\n",
            "female    257\n",
            "Name: Sex, dtype: int64\n",
            "\n",
            "      Sex  Survived\n",
            "0  female  0.743191\n",
            "1    male  0.193407\n",
            "\n"
          ],
          "name": "stdout"
        },
        {
          "output_type": "display_data",
          "data": {
            "image/png": "[encoded data removed]",
            "text/plain": [
              "<Figure size 576x396 with 1 Axes>"
            ]
          },
          "metadata": {
            "tags": []
          }
        }
      ]
    },
    {
      "metadata": {
        "id": "ZCVEPMA4fkSV",
        "colab_type": "text"
      },
      "cell_type": "markdown",
      "source": [
        "**sibsp Feature**\n",
        "* Num of siblings / spouses aboard the Titanic\n",
        "* range from 0 to 4 and few values of 5 & 8 so percent of them nearly zero\n",
        "* most of the passengers has no sibsp, and some of them has 1 sibsp.\n",
        "* The plots below shows the percentage of each sibsp and survived \n"
      ]
    },
    {
      "metadata": {
        "id": "dsAJZ_Lk5nzk",
        "colab_type": "code",
        "outputId": "ffffbbb6-d5e8-449e-f808-ebec6d0d039e",
        "colab": {
          "base_uri": "https://localhost:8080/",
          "height": 699
        }
      },
      "cell_type": "code",
      "source": [
        "sibsp_values_count = train['SibSp'].value_counts()\n",
        "print(\"Each SibSp count:\")\n",
        "print(sibsp_values_count)\n",
        "print()\n",
        "\n",
        "survived_values_Percent = train[['SibSp', 'Survived']].groupby(['SibSp'], as_index=False).mean()\n",
        "print(survived_values_Percent)\n",
        "print()\n",
        "\n",
        "sibsp = ('0', '1','2','3','4')\n",
        "x_pos = np.arange(len(sibsp))\n",
        "survicedPercent =survived_values_Percent.iloc[:,1].values[0:len(sibsp)]\n",
        " \n",
        "barlist = plt.bar(x_pos, survicedPercent, align='center')\n",
        "plt.xticks(x_pos, sibsp)\n",
        "plt.xlabel('number of sibsp')\n",
        "plt.ylabel('Survived Percentage')\n",
        "plt.xlim(-1,len(sibsp) )\n",
        "plt.ylim(0, 1)\n",
        "\n",
        "plt.show()"
      ],
      "execution_count": 0,
      "outputs": [
        {
          "output_type": "stream",
          "text": [
            "Each SibSp count:\n",
            "0    479\n",
            "1    168\n",
            "2     23\n",
            "4     16\n",
            "3     15\n",
            "8      6\n",
            "5      5\n",
            "Name: SibSp, dtype: int64\n",
            "\n",
            "   SibSp  Survived\n",
            "0      0  0.354906\n",
            "1      1  0.547619\n",
            "2      2  0.434783\n",
            "3      3  0.266667\n",
            "4      4  0.187500\n",
            "5      5  0.000000\n",
            "6      8  0.000000\n",
            "\n"
          ],
          "name": "stdout"
        },
        {
          "output_type": "display_data",
          "data": {
            "image/png": "[encoded data removed]",
            "text/plain": [
              "<Figure size 576x396 with 1 Axes>"
            ]
          },
          "metadata": {
            "tags": []
          }
        }
      ]
    },
    {
      "metadata": {
        "id": "LacTsc9ahHpM",
        "colab_type": "text"
      },
      "cell_type": "markdown",
      "source": [
        "**Parch Feature**\n",
        "* Num of parents / children aboard the Titanic\n",
        "* range from 0 to 5, few values of 3-5 so percent of them nearly zero\n",
        "* most of the passengers has no Parch, and some of them has 1 Parch.\n",
        "* The plots below shows the percentage of each Parch and survived \n"
      ]
    },
    {
      "metadata": {
        "id": "b49HSPqq5n4j",
        "colab_type": "code",
        "outputId": "20270bdf-82b0-4bd0-b8ff-eb89fba8c2ff",
        "colab": {
          "base_uri": "https://localhost:8080/",
          "height": 699
        }
      },
      "cell_type": "code",
      "source": [
        "parch_values_count = train['Parch'].value_counts()\n",
        "print(\"Each Parch count:\")\n",
        "print(parch_values_count)\n",
        "print()\n",
        "\n",
        "survived_values_Percent = train[['Parch', 'Survived']].groupby(['Parch'], as_index=False).mean()\n",
        "print(survived_values_Percent)\n",
        "print()\n",
        "\n",
        "parch = ('0', '1','2','3','4' ,'5','6')\n",
        "x_pos = np.arange(len(parch))\n",
        "survicedPercent =survived_values_Percent.iloc[:,1].values\n",
        " \n",
        "barlist = plt.bar(x_pos, survicedPercent, align='center')\n",
        "plt.xticks(x_pos, parch)\n",
        "plt.xlabel('number of parch')\n",
        "plt.ylabel('Survived Percentage')\n",
        "plt.xlim(-1,len(parch) )\n",
        "plt.ylim(0, 1)\n",
        "\n",
        "plt.show()"
      ],
      "execution_count": 0,
      "outputs": [
        {
          "output_type": "stream",
          "text": [
            "Each Parch count:\n",
            "0    537\n",
            "1     99\n",
            "2     65\n",
            "5      4\n",
            "3      4\n",
            "4      2\n",
            "6      1\n",
            "Name: Parch, dtype: int64\n",
            "\n",
            "   Parch  Survived\n",
            "0      0  0.355680\n",
            "1      1  0.555556\n",
            "2      2  0.461538\n",
            "3      3  0.500000\n",
            "4      4  0.000000\n",
            "5      5  0.250000\n",
            "6      6  0.000000\n",
            "\n"
          ],
          "name": "stdout"
        },
        {
          "output_type": "display_data",
          "data": {
            "image/png": "[encoded data removed]",
            "text/plain": [
              "<Figure size 576x396 with 1 Axes>"
            ]
          },
          "metadata": {
            "tags": []
          }
        }
      ]
    },
    {
      "metadata": {
        "id": "gsiqCplxh1Hg",
        "colab_type": "text"
      },
      "cell_type": "markdown",
      "source": [
        "**Before continue in other features, lets stop here for a while**\n",
        "* ** From the previos two features sibsp & parch .. we can introcude a new feature with name \"Family size\"!**"
      ]
    },
    {
      "metadata": {
        "id": "2aWLTyQz7FkZ",
        "colab_type": "code",
        "outputId": "263d5323-8981-4594-b136-b23928935d7f",
        "colab": {
          "base_uri": "https://localhost:8080/",
          "height": 558
        }
      },
      "cell_type": "code",
      "source": [
        "for dataset in all_data:\n",
        "    dataset['FamilySize'] = dataset['SibSp'] + dataset['Parch'] + 1  # +1 the passenger self\n",
        "    \n",
        "family_values_Percent = train[['FamilySize', 'Survived']].groupby(['FamilySize'], as_index=False).mean()\n",
        "print(family_values_Percent)\n",
        "print()\n",
        "\n",
        "family= [1,2,3,4,5,6]\n",
        "family = [str(i) for i in family]\n",
        "\n",
        "x_pos = np.arange(len(family))\n",
        "survicedPercent =survived_values_Percent.iloc[:,1].values[0:len(family)]\n",
        " \n",
        "barlist = plt.bar(x_pos, survicedPercent, align='center')\n",
        "plt.xticks(x_pos, family)\n",
        "plt.xlabel('Family Size')\n",
        "plt.ylabel('Survived Percentage')\n",
        "plt.xlim(-1,len(family) )\n",
        "plt.ylim(0, 1)\n",
        "\n",
        "plt.show()"
      ],
      "execution_count": 0,
      "outputs": [
        {
          "output_type": "stream",
          "text": [
            "   FamilySize  Survived\n",
            "0           1  0.317647\n",
            "1           2  0.558140\n",
            "2           3  0.569620\n",
            "3           4  0.720000\n",
            "4           5  0.214286\n",
            "5           6  0.117647\n",
            "6           7  0.363636\n",
            "7           8  0.000000\n",
            "8          11  0.000000\n",
            "\n"
          ],
          "name": "stdout"
        },
        {
          "output_type": "display_data",
          "data": {
            "image/png": "[encoded data removed]",
            "text/plain": [
              "<Figure size 576x396 with 1 Axes>"
            ]
          },
          "metadata": {
            "tags": []
          }
        }
      ]
    },
    {
      "metadata": {
        "id": "HIRIlm-LmYOy",
        "colab_type": "text"
      },
      "cell_type": "markdown",
      "source": [
        "**We can add a new feature also from Family size featire , which is \"isAlone\" **\n",
        "* isAlone is  a boolean feature, it true (i.e. 1) when the family size = 1 (the passenger himself only)\n",
        "* Num of alone passnegers is more than not alone passengers, but the percenetge of survived of alone passngers is the less, this is maybe an indicate  for a help between families rather than others!"
      ]
    },
    {
      "metadata": {
        "id": "g2Bkb-x173Jr",
        "colab_type": "code",
        "outputId": "adda602c-1ccd-4257-be82-9712f76b2e36",
        "colab": {
          "base_uri": "https://localhost:8080/",
          "height": 523
        }
      },
      "cell_type": "code",
      "source": [
        "for dataset in all_data:\n",
        "    dataset['IsAlone'] = 0\n",
        "    dataset.loc[dataset['FamilySize'] == 1, 'IsAlone'] = 1\n",
        "    \n",
        "\n",
        "isalaone_values_count = train['IsAlone'].value_counts()\n",
        "print(\"Each IsAlone count:\")\n",
        "print(isalaone_values_count)\n",
        "print()\n",
        "   \n",
        "survived_values_Percent = train[['IsAlone', 'Survived']].groupby(['IsAlone'], as_index=False).mean()\n",
        "print(survived_values_Percent)\n",
        "print()\n",
        "\n",
        "x = ['NO', 'YES']\n",
        "\n",
        "x_pos = np.arange(len(x))\n",
        "survicedPercent =survived_values_Percent.iloc[:,1].values\n",
        " \n",
        "barlist = plt.bar(x_pos, survicedPercent, align='center')\n",
        "plt.xticks(x_pos, x)\n",
        "plt.xlabel('Is Alone')\n",
        "plt.ylabel('Survived Percentage')\n",
        "plt.xlim(-1,len(x) )\n",
        "plt.ylim(0, 1)\n",
        "\n",
        "plt.show()"
      ],
      "execution_count": 0,
      "outputs": [
        {
          "output_type": "stream",
          "text": [
            "Each IsAlone count:\n",
            "1    425\n",
            "0    287\n",
            "Name: IsAlone, dtype: int64\n",
            "\n",
            "   IsAlone  Survived\n",
            "0        0  0.501742\n",
            "1        1  0.317647\n",
            "\n"
          ],
          "name": "stdout"
        },
        {
          "output_type": "display_data",
          "data": {
            "image/png": "[encoded data removed]",
            "text/plain": [
              "<Figure size 576x396 with 1 Axes>"
            ]
          },
          "metadata": {
            "tags": []
          }
        }
      ]
    },
    {
      "metadata": {
        "id": "Z_mV71JUsNW9",
        "colab_type": "text"
      },
      "cell_type": "markdown",
      "source": [
        "**Embarked Feature**"
      ]
    },
    {
      "metadata": {
        "id": "hzIfMYSJBoW8",
        "colab_type": "code",
        "outputId": "e1500fbd-a79b-4844-c471-fbf3f2bfbb8c",
        "colab": {
          "base_uri": "https://localhost:8080/",
          "height": 558
        }
      },
      "cell_type": "code",
      "source": [
        "embark_values_count = train['Embarked'].value_counts()\n",
        "print(\"Each Embark count:\")\n",
        "print(embark_values_count)\n",
        "print()\n",
        "   \n",
        "survived_values_Percent = train[['Embarked', 'Survived']].groupby(['Embarked'], as_index=False).mean()\n",
        "print(survived_values_Percent)\n",
        "print()\n",
        "\n",
        "em = ['C','Q','S']\n",
        "\n",
        "x_pos = np.arange(len(em))\n",
        "survicedPercent =survived_values_Percent.iloc[:,1].values\n",
        " \n",
        "barlist = plt.bar(x_pos, survicedPercent, align='center')\n",
        "plt.xticks(x_pos, em)\n",
        "plt.xlabel('Embark')\n",
        "plt.ylabel('Survived Percentage')\n",
        "plt.xlim(-1,len(em) )\n",
        "plt.ylim(0, 1)\n",
        "\n",
        "plt.show()"
      ],
      "execution_count": 0,
      "outputs": [
        {
          "output_type": "stream",
          "text": [
            "Each Embark count:\n",
            "S    507\n",
            "C    137\n",
            "Q     67\n",
            "Name: Embarked, dtype: int64\n",
            "\n",
            "  Embarked  Survived\n",
            "0        C  0.540146\n",
            "1        Q  0.388060\n",
            "2        S  0.351085\n",
            "\n"
          ],
          "name": "stdout"
        },
        {
          "output_type": "display_data",
          "data": {
            "image/png": "[encoded data removed]",
            "text/plain": [
              "<Figure size 576x396 with 1 Axes>"
            ]
          },
          "metadata": {
            "tags": []
          }
        }
      ]
    },
    {
      "metadata": {
        "id": "CfR1BgOvtlBq",
        "colab_type": "text"
      },
      "cell_type": "markdown",
      "source": [
        "** But there is 2 missing values in the Embarked train data, lets fill it with S since its the most repeated( based on count not survived) and again get the results and plots**"
      ]
    },
    {
      "metadata": {
        "id": "beVlKhLOCKtr",
        "colab_type": "code",
        "outputId": "190110a8-c7f1-4553-ec50-6cbc1c063861",
        "colab": {
          "base_uri": "https://localhost:8080/",
          "height": 558
        }
      },
      "cell_type": "code",
      "source": [
        "for dataset in all_data:\n",
        "    dataset['Embarked'] = dataset['Embarked'].fillna('S')\n",
        "\n",
        "embark_values_count = train['Embarked'].value_counts()\n",
        "print(\"Each Embark count:\")\n",
        "print(embark_values_count)\n",
        "print()\n",
        "   \n",
        "survived_values_Percent = train[['Embarked', 'Survived']].groupby(['Embarked'], as_index=False).mean()\n",
        "print(survived_values_Percent)\n",
        "print()\n",
        "\n",
        "em = ['C','Q','S']\n",
        "\n",
        "x_pos = np.arange(len(em))\n",
        "survicedPercent =survived_values_Percent.iloc[:,1].values\n",
        " \n",
        "barlist = plt.bar(x_pos, survicedPercent, align='center')\n",
        "plt.xticks(x_pos, em)\n",
        "plt.xlabel('Embark')\n",
        "plt.ylabel('Survived Percentage')\n",
        "plt.xlim(-1,len(em) )\n",
        "plt.ylim(0, 1)\n",
        "\n",
        "plt.show()"
      ],
      "execution_count": 0,
      "outputs": [
        {
          "output_type": "stream",
          "text": [
            "Each Embark count:\n",
            "S    508\n",
            "C    137\n",
            "Q     67\n",
            "Name: Embarked, dtype: int64\n",
            "\n",
            "  Embarked  Survived\n",
            "0        C  0.540146\n",
            "1        Q  0.388060\n",
            "2        S  0.352362\n",
            "\n"
          ],
          "name": "stdout"
        },
        {
          "output_type": "display_data",
          "data": {
            "image/png": "[encoded data removed]",
            "text/plain": [
              "<Figure size 576x396 with 1 Axes>"
            ]
          },
          "metadata": {
            "tags": []
          }
        }
      ]
    },
    {
      "metadata": {
        "id": "eAtn66JMuHcu",
        "colab_type": "text"
      },
      "cell_type": "markdown",
      "source": [
        "**Cabin Feature**\n",
        "* There are many cabin values (148 value), max cabin passengers are 4 and 3 .. so there is no  big difference between cabins.\n",
        "* There are big number of missing cabin values (687 in train data and 327 in test data)\n",
        "* Fill missing values randomly from all avilabale cabin values\n",
        "* Will not plot it as aplot for a148 value will not be clear.\n",
        "* We can't categorize here, its not  numbers."
      ]
    },
    {
      "metadata": {
        "id": "elh6W14_Rd0v",
        "colab_type": "code",
        "outputId": "25c8e721-2b46-479e-a824-5da03bc6de7c",
        "colab": {
          "base_uri": "https://localhost:8080/",
          "height": 34
        }
      },
      "cell_type": "code",
      "source": [
        "#fill missings\n",
        "for dataset in all_data:\n",
        "    dataset['Cabin'] = dataset['Cabin'].fillna(lambda x: random.choice(df[df[column] != np.nan]['Cabin']))\n",
        "    \n",
        "cabin_values_count = train['Cabin'].value_counts()\n",
        "\n",
        "print(\" Number of unique values of Cabin feature: \", len(cabin_values_count))"
      ],
      "execution_count": 0,
      "outputs": [
        {
          "output_type": "stream",
          "text": [
            " Number of unique values of Cabin feature:  129\n"
          ],
          "name": "stdout"
        }
      ]
    },
    {
      "metadata": {
        "id": "aRE6yZmownKN",
        "colab_type": "text"
      },
      "cell_type": "markdown",
      "source": [
        "**Fare Feature**\n",
        "* There are 222 value for fare features in train data\n",
        "* No missing values in train data, just one missing value in test data,  fill it with median value \n",
        "* Categorize Fare feature, for example for 4 categories, nearly equal number of entries in each category\n",
        "* The plots below shows that higher fare categories have a higher survived percentage!"
      ]
    },
    {
      "metadata": {
        "id": "ayKS_9fUUYX8",
        "colab_type": "code",
        "outputId": "86da6172-a77a-4b11-bfa7-35a323d91426",
        "colab": {
          "base_uri": "https://localhost:8080/",
          "height": 642
        }
      },
      "cell_type": "code",
      "source": [
        "fair_values_count = train['Fare'].value_counts()\n",
        "print(\" Number of unique values of Fare feature: \",len(fair_values_count))\n",
        "print()\n",
        "\n",
        "# fill missings\n",
        "for dataset in all_data:\n",
        "    dataset['Fare'] = dataset['Fare'].fillna(train['Fare'].median())\n",
        "\n",
        "\n",
        "# categorize fare into 4 categories (equal number of entries in each category)\n",
        "train['CategoricalFare'] = pd.qcut(train['Fare'], 4)\n",
        "\n",
        "fare_values_count = train['CategoricalFare'].value_counts()\n",
        "print(\"Each Fare Category count:\")\n",
        "print()\n",
        "print(fare_values_count)\n",
        "print()\n",
        "   \n",
        "survived_values_Percent = train[['CategoricalFare', 'Survived']].groupby(['CategoricalFare'], as_index=False).mean()\n",
        "print(survived_values_Percent)\n",
        "print()\n",
        "\n",
        "survived_values_Percent.plot(kind='bar')\n",
        "\n",
        "\n",
        "plt.xlabel('Fare Category')\n",
        "plt.ylabel('Survived Percentage')\n",
        "plt.xlim(-1, 4 )\n",
        "plt.ylim(0, 1)\n",
        "\n",
        "plt.show()\n",
        "    "
      ],
      "execution_count": 0,
      "outputs": [
        {
          "output_type": "stream",
          "text": [
            " Number of unique values of Fare feature:  228\n",
            "\n",
            "Each Fare Category count:\n",
            "\n",
            "(-0.001, 7.925]      188\n",
            "(14.454, 31.275]     180\n",
            "(31.275, 512.329]    174\n",
            "(7.925, 14.454]      170\n",
            "Name: CategoricalFare, dtype: int64\n",
            "\n",
            "     CategoricalFare  Survived\n",
            "0    (-0.001, 7.925]  0.228723\n",
            "1    (7.925, 14.454]  0.300000\n",
            "2   (14.454, 31.275]  0.444444\n",
            "3  (31.275, 512.329]  0.603448\n",
            "\n"
          ],
          "name": "stdout"
        },
        {
          "output_type": "display_data",
          "data": {
            "image/png": "[encoded data removed]",
            "text/plain": [
              "<Figure size 576x396 with 1 Axes>"
            ]
          },
          "metadata": {
            "tags": []
          }
        }
      ]
    },
    {
      "metadata": {
        "id": "6pXpOb6b7dgO",
        "colab_type": "text"
      },
      "cell_type": "markdown",
      "source": [
        "**Age Feature**\n",
        "* Age has 88 unique value.\n",
        "* There area 177 missing value in train data, and 86 value in test data.\n"
      ]
    },
    {
      "metadata": {
        "id": "pC29mPtRXBOa",
        "colab_type": "code",
        "outputId": "a70c3e4d-7529-479d-d101-d2b9c3520a09",
        "colab": {
          "base_uri": "https://localhost:8080/",
          "height": 379
        }
      },
      "cell_type": "code",
      "source": [
        "# count of each age value \n",
        "age_values_count = train['Age'].value_counts()\n",
        "print(\" Number of unique values of Age feature: \",len(age_values_count))\n",
        "print()\n",
        "\n",
        "print(\"don't worry about this warrning\")\n",
        "# generate random numbers between (mean - std) and (mean + std).\n",
        "for dataset in all_data:\n",
        "    age_avg \t   = dataset['Age'].mean()\n",
        "    age_std \t   = dataset['Age'].std()\n",
        "    age_null_count = dataset['Age'].isnull().sum() # num of missing values in all data (train+test)\n",
        "\n",
        "    age_null_random_list = np.random.randint(age_avg - age_std, age_avg + age_std, size=age_null_count)\n",
        "    dataset['Age'][np.isnan(dataset['Age'])] = age_null_random_list\n",
        "    dataset['Age'] = dataset['Age'].astype(int)\n",
        "\n",
        "    \n",
        "g = sns.FacetGrid(train, col='Survived')\n",
        "g.map(plt.hist, 'Age', bins=20)    "
      ],
      "execution_count": 0,
      "outputs": [
        {
          "output_type": "stream",
          "text": [
            " Number of unique values of Age feature:  81\n",
            "\n",
            "don't worry about this warrning\n"
          ],
          "name": "stdout"
        },
        {
          "output_type": "stream",
          "text": [
            "/usr/local/lib/python3.6/dist-packages/ipykernel_launcher.py:13: SettingWithCopyWarning: \n",
            "A value is trying to be set on a copy of a slice from a DataFrame\n",
            "\n",
            "See the caveats in the documentation: http://pandas.pydata.org/pandas-docs/stable/indexing.html#indexing-view-versus-copy\n",
            "  del sys.path[0]\n"
          ],
          "name": "stderr"
        },
        {
          "output_type": "execute_result",
          "data": {
            "text/plain": [
              "<seaborn.axisgrid.FacetGrid at 0x7f67bd532438>"
            ]
          },
          "metadata": {
            "tags": []
          },
          "execution_count": 26
        },
        {
          "output_type": "display_data",
          "data": {
            "image/png": "[encoded data removed]",
            "text/plain": [
              "<Figure size 432x216 with 2 Axes>"
            ]
          },
          "metadata": {
            "tags": []
          }
        }
      ]
    },
    {
      "metadata": {
        "id": "5Q-khPCk9prb",
        "colab_type": "text"
      },
      "cell_type": "markdown",
      "source": [
        "** Categorize Age feature values into 5 categories for example **"
      ]
    },
    {
      "metadata": {
        "id": "RwKRy1d65nui",
        "colab_type": "code",
        "outputId": "30a7b64a-4b7e-4f73-e584-7c17dbd9fa44",
        "colab": {
          "base_uri": "https://localhost:8080/",
          "height": 642
        }
      },
      "cell_type": "code",
      "source": [
        "#categorize age into 5 range\n",
        "\n",
        "train['CategoricalAge'] = pd.qcut(train['Age'], 5)\n",
        "\n",
        "age_values_count = train['CategoricalAge'].value_counts()\n",
        "print(\"Each Age Category count:\")\n",
        "print()\n",
        "\n",
        "print(age_values_count)\n",
        "print()\n",
        "   \n",
        "survived_values_Percent = train[['CategoricalAge', 'Survived']].groupby(['CategoricalAge'], as_index=False).mean()\n",
        "print(survived_values_Percent)\n",
        "print()\n",
        "\n",
        "survived_values_Percent.plot(kind='bar')\n",
        "\n",
        "\n",
        "plt.xlabel('Age Category')\n",
        "plt.ylabel('Survived Percentage')\n",
        "plt.xlim(-1, 5 )\n",
        "plt.ylim(0, 1)\n",
        "\n",
        "plt.show()\n",
        "    "
      ],
      "execution_count": 0,
      "outputs": [
        {
          "output_type": "stream",
          "text": [
            "Each Age Category count:\n",
            "\n",
            "(-0.001, 18.0]    155\n",
            "(24.0, 32.0]      153\n",
            "(32.0, 40.0]      141\n",
            "(18.0, 24.0]      135\n",
            "(40.0, 80.0]      128\n",
            "Name: CategoricalAge, dtype: int64\n",
            "\n",
            "   CategoricalAge  Survived\n",
            "0  (-0.001, 18.0]  0.419355\n",
            "1    (18.0, 24.0]  0.348148\n",
            "2    (24.0, 32.0]  0.385621\n",
            "3    (32.0, 40.0]  0.418440\n",
            "4    (40.0, 80.0]  0.382812\n",
            "\n"
          ],
          "name": "stdout"
        },
        {
          "output_type": "display_data",
          "data": {
            "image/png": "[encoded data removed]",
            "text/plain": [
              "<Figure size 576x396 with 1 Axes>"
            ]
          },
          "metadata": {
            "tags": []
          }
        }
      ]
    },
    {
      "metadata": {
        "id": "DEk0tmdQAQb-",
        "colab_type": "text"
      },
      "cell_type": "markdown",
      "source": [
        "**Name Feature**\n",
        " * We can  benifit from the name by extract the title (nickname) ; mr , ms, etc\n"
      ]
    },
    {
      "metadata": {
        "id": "CRSA-ITt5nyp",
        "colab_type": "code",
        "outputId": "d1f28957-048d-4564-eeef-f3c383b9baab",
        "colab": {
          "base_uri": "https://localhost:8080/",
          "height": 334
        }
      },
      "cell_type": "code",
      "source": [
        "def get_title(name):\n",
        "\ttitle_search = re.search(' ([A-Za-z]+)\\.', name)\n",
        "\t# If the title exists, extract and return it.\n",
        "\tif title_search:\n",
        "\t\treturn title_search.group(1)\n",
        "\treturn \"\"\n",
        "\n",
        "for dataset in all_data:\n",
        "    dataset['Title'] = dataset['Name'].apply(get_title)\n",
        "\n",
        "print(pd.crosstab(train['Title'], train['Sex']))"
      ],
      "execution_count": 0,
      "outputs": [
        {
          "output_type": "stream",
          "text": [
            "Sex       female  male\n",
            "Title                 \n",
            "Capt           0     1\n",
            "Col            0     2\n",
            "Countess       1     0\n",
            "Don            0     1\n",
            "Dr             1     5\n",
            "Jonkheer       0     1\n",
            "Lady           1     0\n",
            "Major          0     2\n",
            "Master         0    33\n",
            "Miss         149     0\n",
            "Mlle           2     0\n",
            "Mme            1     0\n",
            "Mr             0   403\n",
            "Mrs          102     0\n",
            "Rev            0     6\n",
            "Sir            0     1\n"
          ],
          "name": "stdout"
        }
      ]
    },
    {
      "metadata": {
        "id": "7uIxzX29ApJG",
        "colab_type": "text"
      },
      "cell_type": "markdown",
      "source": [
        "** We group it as female and male to make sure that its a correct information **\n",
        "* Mr, Mrs, Miss, and Master have the most repeted values.\n",
        "* Mme and Mlle in French are same as Mrs and Ms in English .. so convet them.\n",
        "* Group the rest of titles in one title 'Rare'"
      ]
    },
    {
      "metadata": {
        "id": "Va1_pq-U5noz",
        "colab_type": "code",
        "outputId": "2d0600b6-0ad2-4d6e-b502-4886ef300a5c",
        "colab": {
          "base_uri": "https://localhost:8080/",
          "height": 509
        }
      },
      "cell_type": "code",
      "source": [
        "for dataset in all_data:\n",
        "    dataset['Title'] = dataset['Title'].replace(['Lady', 'Countess','Capt', 'Col',\\\n",
        " \t'Don', 'Dr', 'Major', 'Rev', 'Sir', 'Jonkheer', 'Dona'], 'Rare')\n",
        "\n",
        "    dataset['Title'] = dataset['Title'].replace('Mlle', 'Miss')\n",
        "    dataset['Title'] = dataset['Title'].replace('Ms', 'Miss')\n",
        "    dataset['Title'] = dataset['Title'].replace('Mme', 'Mrs')\n",
        "\n",
        "\n",
        "survived_values_Percent = train[['Title', 'Survived']].groupby(['Title'], as_index=False).mean()\n",
        "print(survived_values_Percent)\n",
        "print()\n",
        "\n",
        "survived_values_Percent.plot(kind='bar')\n",
        "titles = [ 'Master', 'Miss', 'Mr', 'Mrs', 'Rare' ]\n",
        "\n",
        "x_pos = np.arange(len(titles))\n",
        "plt.xticks(x_pos, titles)\n",
        "\n",
        "\n",
        "plt.xlabel('Title')\n",
        "plt.ylabel('Survived Percentage')\n",
        "plt.xlim(-1, 5 )\n",
        "plt.ylim(0, 1)\n",
        "\n",
        "plt.show()"
      ],
      "execution_count": 0,
      "outputs": [
        {
          "output_type": "stream",
          "text": [
            "    Title  Survived\n",
            "0  Master  0.515152\n",
            "1    Miss  0.701987\n",
            "2      Mr  0.163772\n",
            "3     Mrs  0.796117\n",
            "4    Rare  0.363636\n",
            "\n"
          ],
          "name": "stdout"
        },
        {
          "output_type": "display_data",
          "data": {
            "image/png": "[encoded data removed]",
            "text/plain": [
              "<Figure size 576x396 with 1 Axes>"
            ]
          },
          "metadata": {
            "tags": []
          }
        }
      ]
    },
    {
      "metadata": {
        "id": "WYXcVACSCY2X",
        "colab_type": "text"
      },
      "cell_type": "markdown",
      "source": [
        "** Note: Passenger Id & Tickets are not useful to study .. there are just numbers **"
      ]
    },
    {
      "metadata": {
        "id": "Lcw14aF0Ck2C",
        "colab_type": "text"
      },
      "cell_type": "markdown",
      "source": [
        "\n",
        "\n",
        "---\n",
        "\n",
        "---\n",
        "\n",
        "\n",
        "\n",
        "---\n",
        "\n",
        "\n",
        "\n"
      ]
    },
    {
      "metadata": {
        "id": "YatAt9K7eJsj",
        "colab_type": "text"
      },
      "cell_type": "markdown",
      "source": [
        "**Corelation**\n",
        "* The correlation coefficient ranges from –1 to 1\n",
        "* When it is close to 1, it means that there is a strong positive correlation.\n",
        "* When the coefficient is close to –1, it means that there is a strong negative correlation.\n",
        "* zero mean that there is no linear correlation\n",
        "* From the results below its shown:\n",
        " * High positive correlation between SibSp with FamilySize & Parch with Family Size .. thats logical since Family Size produced from them\n",
        "  * Negative correlation between FamilySize with IsAlone\n",
        "  * Negative correlation between Pclass with Fare\n"
      ]
    },
    {
      "metadata": {
        "id": "5Jqy-gvCcE2C",
        "colab_type": "code",
        "outputId": "4eba052b-8a9d-43f2-91b5-1ca4e57b3247",
        "colab": {
          "base_uri": "https://localhost:8080/",
          "height": 386
        }
      },
      "cell_type": "code",
      "source": [
        "corr_matrix = train.corr()\n",
        "print(corr_matrix)"
      ],
      "execution_count": 0,
      "outputs": [
        {
          "output_type": "stream",
          "text": [
            "             PassengerId  Survived    Pclass       Age     SibSp     Parch  \\\n",
            "PassengerId     1.000000 -0.023992 -0.021641  0.038051 -0.076137  0.016032   \n",
            "Survived       -0.023992  1.000000 -0.327950 -0.028511 -0.048018  0.065519   \n",
            "Pclass         -0.021641 -0.327950  1.000000 -0.281380  0.103237  0.030936   \n",
            "Age             0.038051 -0.028511 -0.281380  1.000000 -0.251994 -0.177716   \n",
            "SibSp          -0.076137 -0.048018  0.103237 -0.251994  1.000000  0.442701   \n",
            "Parch           0.016032  0.065519  0.030936 -0.177716  0.442701  1.000000   \n",
            "Fare            0.020500  0.253014 -0.555050  0.047360  0.170167  0.225222   \n",
            "FamilySize     -0.044791 -0.001613  0.086055 -0.259185  0.902330  0.785969   \n",
            "IsAlone         0.065609 -0.184983  0.127939  0.183713 -0.589117 -0.586800   \n",
            "\n",
            "                 Fare  FamilySize   IsAlone  \n",
            "PassengerId  0.020500   -0.044791  0.065609  \n",
            "Survived     0.253014   -0.001613 -0.184983  \n",
            "Pclass      -0.555050    0.086055  0.127939  \n",
            "Age          0.047360   -0.259185  0.183713  \n",
            "SibSp        0.170167    0.902330 -0.589117  \n",
            "Parch        0.225222    0.785969 -0.586800  \n",
            "Fare         1.000000    0.225601 -0.289061  \n",
            "FamilySize   0.225601    1.000000 -0.688291  \n",
            "IsAlone     -0.289061   -0.688291  1.000000  \n"
          ],
          "name": "stdout"
        }
      ]
    },
    {
      "metadata": {
        "id": "vRdCtue1CtJ3",
        "colab_type": "text"
      },
      "cell_type": "markdown",
      "source": [
        "** The following figures are a scate plots that show the relations between features **\n",
        "* If you look on each plot of each feature with itself (diagonla figures) It shows the relation with Survived Class"
      ]
    },
    {
      "metadata": {
        "id": "hZLks9-IOfQn",
        "colab_type": "code",
        "outputId": "0ab59641-a0ba-4e03-8927-7ade6b2bc529",
        "colab": {
          "base_uri": "https://localhost:8080/",
          "height": 1105
        }
      },
      "cell_type": "code",
      "source": [
        "temp = train.copy()\n",
        "temp[\"Survived\"][temp[\"Survived\"]==1] = \"Survived\"\n",
        "temp[\"Survived\"][temp[\"Survived\"]==0] = \"Died\"\n",
        "\n",
        "g = sns.pairplot(temp[[ u'Sex', u'Title',  u'Age',  u'SibSp', u'Parch', u'FamilySize', u'IsAlone' , u'Pclass', u'Fare', u'Embarked',  u'Survived']], hue='Survived', palette = 'seismic',size=2,diag_kind = 'kde',diag_kws=dict(shade=True),plot_kws=dict(s=10) )\n",
        "g.set(xticklabels=[])"
      ],
      "execution_count": 0,
      "outputs": [
        {
          "output_type": "stream",
          "text": [
            "/usr/local/lib/python3.6/dist-packages/ipykernel_launcher.py:2: SettingWithCopyWarning: \n",
            "A value is trying to be set on a copy of a slice from a DataFrame\n",
            "\n",
            "See the caveats in the documentation: http://pandas.pydata.org/pandas-docs/stable/indexing.html#indexing-view-versus-copy\n",
            "  \n"
          ],
          "name": "stderr"
        },
        {
          "output_type": "execute_result",
          "data": {
            "text/plain": [
              "<seaborn.axisgrid.PairGrid at 0x7f67b9eec390>"
            ]
          },
          "metadata": {
            "tags": []
          },
          "execution_count": 31
        },
        {
          "output_type": "display_data",
          "data": {
            "image/png": "[encoded data removed]",
            "text/plain": [
              "<Figure size 1082.75x1008 with 56 Axes>"
            ]
          },
          "metadata": {
            "tags": []
          }
        }
      ]
    },
    {
      "metadata": {
        "id": "hYJwVJiiFTqP",
        "colab_type": "text"
      },
      "cell_type": "markdown",
      "source": [
        "\n",
        "\n",
        "---\n",
        "\n",
        "> > >>**The End of Exploring Features, Filling Missing Values and Plotting**\n",
        ">>>>** (Point 1 & 2 From  Assignment 3)**\n",
        "\n",
        "\n",
        "---\n",
        "\n"
      ]
    },
    {
      "metadata": {
        "id": "WtDTW5R-oiqE",
        "colab_type": "text"
      },
      "cell_type": "markdown",
      "source": [
        "**  Map  features into numerical values**"
      ]
    },
    {
      "metadata": {
        "id": "sXIcAHYCojyN",
        "colab_type": "code",
        "colab": {}
      },
      "cell_type": "code",
      "source": [
        "for dataset in all_data:\n",
        "    # Mapping Sex\n",
        "    dataset['Sex'] = dataset['Sex'].map( {'female': 0, 'male': 1} ).astype(int)\n",
        "    \n",
        "    # Mapping titles\n",
        "    title_mapping = {\"Mr\": 1, \"Miss\": 2, \"Mrs\": 3, \"Master\": 4, \"Rare\": 5}\n",
        "    dataset['Title'] = dataset['Title'].map(title_mapping)\n",
        "    dataset['Title'] = dataset['Title'].fillna(0)\n",
        "    \n",
        "    # Mapping Embarked\n",
        "    dataset['Embarked'] = dataset['Embarked'].map( {'S': 0, 'C': 1, 'Q': 2} ).astype(int)\n",
        "    \n",
        "    # Mapping Fare\n",
        "    dataset.loc[ dataset['Fare'] <= 7.91, 'Fare'] = 0\n",
        "    dataset.loc[(dataset['Fare'] > 7.91) & (dataset['Fare'] <= 14.454), 'Fare'] = 1\n",
        "    dataset.loc[(dataset['Fare'] > 14.454) & (dataset['Fare'] <= 31), 'Fare']   = 2\n",
        "    dataset.loc[ dataset['Fare'] > 31, 'Fare']= 3\n",
        "    dataset['Fare'] = dataset['Fare'].astype(int)\n",
        "    \n",
        "    # Mapping Age\n",
        "    dataset.loc[ dataset['Age'] <= 19, 'Age']= 0\n",
        "    dataset.loc[(dataset['Age'] > 19) & (dataset['Age'] <= 25), 'Age'] = 1\n",
        "    dataset.loc[(dataset['Age'] > 25) & (dataset['Age'] <= 31), 'Age'] = 2\n",
        "    dataset.loc[(dataset['Age'] > 31) & (dataset['Age'] <= 40), 'Age'] = 3\n",
        "    dataset.loc[dataset['Age'] > 40, 'Age']= 4\n",
        "    dataset['Age'] = dataset['Age'].astype(int)\n"
      ],
      "execution_count": 0,
      "outputs": []
    },
    {
      "metadata": {
        "id": "FVZ6uSr2giL2",
        "colab_type": "code",
        "colab": {}
      },
      "cell_type": "code",
      "source": [
        "newtrain = train.copy()\n",
        "newvalid = valid.copy()\n",
        "newtest = test.copy()"
      ],
      "execution_count": 0,
      "outputs": []
    },
    {
      "metadata": {
        "id": "zlNgLELGmE4d",
        "colab_type": "code",
        "outputId": "a75cbba0-4bbe-4bf4-edc7-3d1ef431ab30",
        "colab": {
          "base_uri": "https://localhost:8080/",
          "height": 422
        }
      },
      "cell_type": "code",
      "source": [
        "print(newtrain.info())"
      ],
      "execution_count": 0,
      "outputs": [
        {
          "output_type": "stream",
          "text": [
            "<class 'pandas.core.frame.DataFrame'>\n",
            "RangeIndex: 712 entries, 0 to 711\n",
            "Data columns (total 17 columns):\n",
            "PassengerId        712 non-null int64\n",
            "Survived           712 non-null int64\n",
            "Pclass             712 non-null int64\n",
            "Name               712 non-null object\n",
            "Sex                712 non-null int64\n",
            "Age                712 non-null int64\n",
            "SibSp              712 non-null int64\n",
            "Parch              712 non-null int64\n",
            "Ticket             712 non-null object\n",
            "Fare               712 non-null int64\n",
            "Cabin              712 non-null object\n",
            "Embarked           712 non-null int64\n",
            "FamilySize         712 non-null int64\n",
            "IsAlone            712 non-null int64\n",
            "CategoricalFare    712 non-null category\n",
            "CategoricalAge     712 non-null category\n",
            "Title              712 non-null int64\n",
            "dtypes: category(2), int64(12), object(3)\n",
            "memory usage: 85.0+ KB\n",
            "None\n"
          ],
          "name": "stdout"
        }
      ]
    },
    {
      "metadata": {
        "id": "GrUi1uSagfIX",
        "colab_type": "text"
      },
      "cell_type": "markdown",
      "source": [
        "##**3-Drop non-useful Features**\n",
        "\n",
        "---\n",
        "\n",
        "\n",
        "* Features with no  importance (here passenger IDs, Tickets, Name)\n",
        "* Collinear (highly correlated) features (here SibSp, Parch)\n",
        "* Features with low importance (here Cabin)\n",
        "* Note: Drop Categorical  Age & Fare since replaced with numbers in original features in the previous step\n",
        "\n",
        "\n",
        "\n"
      ]
    },
    {
      "metadata": {
        "id": "2pwo9l83jAoB",
        "colab_type": "code",
        "colab": {}
      },
      "cell_type": "code",
      "source": [
        "# Feature selection\n",
        "drop_elements = ['PassengerId', 'Name', 'SibSp', 'Parch', 'Ticket', 'Cabin']\n",
        "newtrain = newtrain.drop(drop_elements, axis = 1)\n",
        "newtrain = newtrain.drop(['CategoricalAge', 'CategoricalFare'], axis = 1)\n",
        "\n",
        "newvalid = newvalid.drop(drop_elements, axis = 1)\n",
        "\n",
        "newtest  = newtest.drop(drop_elements, axis = 1)"
      ],
      "execution_count": 0,
      "outputs": []
    },
    {
      "metadata": {
        "id": "9jyZBJBbm092",
        "colab_type": "code",
        "outputId": "fe845bcc-79f4-4fe3-df16-eabd63468180",
        "colab": {
          "base_uri": "https://localhost:8080/",
          "height": 281
        }
      },
      "cell_type": "code",
      "source": [
        "print(newtrain.info())"
      ],
      "execution_count": 0,
      "outputs": [
        {
          "output_type": "stream",
          "text": [
            "<class 'pandas.core.frame.DataFrame'>\n",
            "RangeIndex: 712 entries, 0 to 711\n",
            "Data columns (total 9 columns):\n",
            "Survived      712 non-null int64\n",
            "Pclass        712 non-null int64\n",
            "Sex           712 non-null int64\n",
            "Age           712 non-null int64\n",
            "Fare          712 non-null int64\n",
            "Embarked      712 non-null int64\n",
            "FamilySize    712 non-null int64\n",
            "IsAlone       712 non-null int64\n",
            "Title         712 non-null int64\n",
            "dtypes: int64(9)\n",
            "memory usage: 50.1 KB\n",
            "None\n"
          ],
          "name": "stdout"
        }
      ]
    },
    {
      "metadata": {
        "id": "M9tFZVmdm6Bi",
        "colab_type": "code",
        "outputId": "3c2136fa-20e6-4b17-df97-9ed488e49494",
        "colab": {
          "base_uri": "https://localhost:8080/",
          "height": 195
        }
      },
      "cell_type": "code",
      "source": [
        "newtrain.head()"
      ],
      "execution_count": 0,
      "outputs": [
        {
          "output_type": "execute_result",
          "data": {
            "text/html": [
              "<div>\n",
              "<style scoped>\n",
              "    .dataframe tbody tr th:only-of-type {\n",
              "        vertical-align: middle;\n",
              "    }\n",
              "\n",
              "    .dataframe tbody tr th {\n",
              "        vertical-align: top;\n",
              "    }\n",
              "\n",
              "    .dataframe thead th {\n",
              "        text-align: right;\n",
              "    }\n",
              "</style>\n",
              "<table border=\"1\" class=\"dataframe\">\n",
              "  <thead>\n",
              "    <tr style=\"text-align: right;\">\n",
              "      <th></th>\n",
              "      <th>Survived</th>\n",
              "      <th>Pclass</th>\n",
              "      <th>Sex</th>\n",
              "      <th>Age</th>\n",
              "      <th>Fare</th>\n",
              "      <th>Embarked</th>\n",
              "      <th>FamilySize</th>\n",
              "      <th>IsAlone</th>\n",
              "      <th>Title</th>\n",
              "    </tr>\n",
              "  </thead>\n",
              "  <tbody>\n",
              "    <tr>\n",
              "      <th>0</th>\n",
              "      <td>0</td>\n",
              "      <td>3</td>\n",
              "      <td>1</td>\n",
              "      <td>2</td>\n",
              "      <td>2</td>\n",
              "      <td>2</td>\n",
              "      <td>2</td>\n",
              "      <td>0</td>\n",
              "      <td>1</td>\n",
              "    </tr>\n",
              "    <tr>\n",
              "      <th>1</th>\n",
              "      <td>1</td>\n",
              "      <td>2</td>\n",
              "      <td>0</td>\n",
              "      <td>2</td>\n",
              "      <td>2</td>\n",
              "      <td>0</td>\n",
              "      <td>2</td>\n",
              "      <td>0</td>\n",
              "      <td>3</td>\n",
              "    </tr>\n",
              "    <tr>\n",
              "      <th>2</th>\n",
              "      <td>0</td>\n",
              "      <td>1</td>\n",
              "      <td>1</td>\n",
              "      <td>3</td>\n",
              "      <td>3</td>\n",
              "      <td>0</td>\n",
              "      <td>2</td>\n",
              "      <td>0</td>\n",
              "      <td>1</td>\n",
              "    </tr>\n",
              "    <tr>\n",
              "      <th>3</th>\n",
              "      <td>0</td>\n",
              "      <td>3</td>\n",
              "      <td>0</td>\n",
              "      <td>0</td>\n",
              "      <td>1</td>\n",
              "      <td>0</td>\n",
              "      <td>2</td>\n",
              "      <td>0</td>\n",
              "      <td>2</td>\n",
              "    </tr>\n",
              "    <tr>\n",
              "      <th>4</th>\n",
              "      <td>0</td>\n",
              "      <td>1</td>\n",
              "      <td>1</td>\n",
              "      <td>2</td>\n",
              "      <td>3</td>\n",
              "      <td>0</td>\n",
              "      <td>2</td>\n",
              "      <td>0</td>\n",
              "      <td>1</td>\n",
              "    </tr>\n",
              "  </tbody>\n",
              "</table>\n",
              "</div>"
            ],
            "text/plain": [
              "   Survived  Pclass  Sex  Age  Fare  Embarked  FamilySize  IsAlone  Title\n",
              "0         0       3    1    2     2         2           2        0      1\n",
              "1         1       2    0    2     2         0           2        0      3\n",
              "2         0       1    1    3     3         0           2        0      1\n",
              "3         0       3    0    0     1         0           2        0      2\n",
              "4         0       1    1    2     3         0           2        0      1"
            ]
          },
          "metadata": {
            "tags": []
          },
          "execution_count": 37
        }
      ]
    },
    {
      "metadata": {
        "id": "lvtLPYBoULy9",
        "colab_type": "code",
        "outputId": "005ad415-f70f-4ea5-c08a-fd5e3c05bfcb",
        "colab": {
          "base_uri": "https://localhost:8080/",
          "height": 195
        }
      },
      "cell_type": "code",
      "source": [
        "newvalid.head()"
      ],
      "execution_count": 0,
      "outputs": [
        {
          "output_type": "execute_result",
          "data": {
            "text/html": [
              "<div>\n",
              "<style scoped>\n",
              "    .dataframe tbody tr th:only-of-type {\n",
              "        vertical-align: middle;\n",
              "    }\n",
              "\n",
              "    .dataframe tbody tr th {\n",
              "        vertical-align: top;\n",
              "    }\n",
              "\n",
              "    .dataframe thead th {\n",
              "        text-align: right;\n",
              "    }\n",
              "</style>\n",
              "<table border=\"1\" class=\"dataframe\">\n",
              "  <thead>\n",
              "    <tr style=\"text-align: right;\">\n",
              "      <th></th>\n",
              "      <th>Survived</th>\n",
              "      <th>Pclass</th>\n",
              "      <th>Sex</th>\n",
              "      <th>Age</th>\n",
              "      <th>Fare</th>\n",
              "      <th>Embarked</th>\n",
              "      <th>FamilySize</th>\n",
              "      <th>IsAlone</th>\n",
              "      <th>Title</th>\n",
              "    </tr>\n",
              "  </thead>\n",
              "  <tbody>\n",
              "    <tr>\n",
              "      <th>0</th>\n",
              "      <td>0</td>\n",
              "      <td>2</td>\n",
              "      <td>1</td>\n",
              "      <td>1</td>\n",
              "      <td>3</td>\n",
              "      <td>0</td>\n",
              "      <td>1</td>\n",
              "      <td>1</td>\n",
              "      <td>1</td>\n",
              "    </tr>\n",
              "    <tr>\n",
              "      <th>1</th>\n",
              "      <td>0</td>\n",
              "      <td>1</td>\n",
              "      <td>1</td>\n",
              "      <td>1</td>\n",
              "      <td>3</td>\n",
              "      <td>1</td>\n",
              "      <td>1</td>\n",
              "      <td>1</td>\n",
              "      <td>1</td>\n",
              "    </tr>\n",
              "    <tr>\n",
              "      <th>2</th>\n",
              "      <td>1</td>\n",
              "      <td>3</td>\n",
              "      <td>0</td>\n",
              "      <td>2</td>\n",
              "      <td>2</td>\n",
              "      <td>1</td>\n",
              "      <td>3</td>\n",
              "      <td>0</td>\n",
              "      <td>3</td>\n",
              "    </tr>\n",
              "    <tr>\n",
              "      <th>3</th>\n",
              "      <td>1</td>\n",
              "      <td>2</td>\n",
              "      <td>0</td>\n",
              "      <td>0</td>\n",
              "      <td>2</td>\n",
              "      <td>0</td>\n",
              "      <td>3</td>\n",
              "      <td>0</td>\n",
              "      <td>2</td>\n",
              "    </tr>\n",
              "    <tr>\n",
              "      <th>4</th>\n",
              "      <td>0</td>\n",
              "      <td>3</td>\n",
              "      <td>1</td>\n",
              "      <td>2</td>\n",
              "      <td>0</td>\n",
              "      <td>1</td>\n",
              "      <td>1</td>\n",
              "      <td>1</td>\n",
              "      <td>1</td>\n",
              "    </tr>\n",
              "  </tbody>\n",
              "</table>\n",
              "</div>"
            ],
            "text/plain": [
              "   Survived  Pclass  Sex  Age  Fare  Embarked  FamilySize  IsAlone  Title\n",
              "0         0       2    1    1     3         0           1        1      1\n",
              "1         0       1    1    1     3         1           1        1      1\n",
              "2         1       3    0    2     2         1           3        0      3\n",
              "3         1       2    0    0     2         0           3        0      2\n",
              "4         0       3    1    2     0         1           1        1      1"
            ]
          },
          "metadata": {
            "tags": []
          },
          "execution_count": 38
        }
      ]
    },
    {
      "metadata": {
        "id": "0zg7AGNv6d1L",
        "colab_type": "code",
        "outputId": "2ee0bad5-f906-460e-89cb-ce94878003c3",
        "colab": {
          "base_uri": "https://localhost:8080/",
          "height": 195
        }
      },
      "cell_type": "code",
      "source": [
        "newtest.head()"
      ],
      "execution_count": 0,
      "outputs": [
        {
          "output_type": "execute_result",
          "data": {
            "text/html": [
              "<div>\n",
              "<style scoped>\n",
              "    .dataframe tbody tr th:only-of-type {\n",
              "        vertical-align: middle;\n",
              "    }\n",
              "\n",
              "    .dataframe tbody tr th {\n",
              "        vertical-align: top;\n",
              "    }\n",
              "\n",
              "    .dataframe thead th {\n",
              "        text-align: right;\n",
              "    }\n",
              "</style>\n",
              "<table border=\"1\" class=\"dataframe\">\n",
              "  <thead>\n",
              "    <tr style=\"text-align: right;\">\n",
              "      <th></th>\n",
              "      <th>Pclass</th>\n",
              "      <th>Sex</th>\n",
              "      <th>Age</th>\n",
              "      <th>Fare</th>\n",
              "      <th>Embarked</th>\n",
              "      <th>FamilySize</th>\n",
              "      <th>IsAlone</th>\n",
              "      <th>Title</th>\n",
              "    </tr>\n",
              "  </thead>\n",
              "  <tbody>\n",
              "    <tr>\n",
              "      <th>0</th>\n",
              "      <td>3</td>\n",
              "      <td>1</td>\n",
              "      <td>3</td>\n",
              "      <td>0</td>\n",
              "      <td>2</td>\n",
              "      <td>1</td>\n",
              "      <td>1</td>\n",
              "      <td>1</td>\n",
              "    </tr>\n",
              "    <tr>\n",
              "      <th>1</th>\n",
              "      <td>3</td>\n",
              "      <td>0</td>\n",
              "      <td>4</td>\n",
              "      <td>0</td>\n",
              "      <td>0</td>\n",
              "      <td>2</td>\n",
              "      <td>0</td>\n",
              "      <td>3</td>\n",
              "    </tr>\n",
              "    <tr>\n",
              "      <th>2</th>\n",
              "      <td>2</td>\n",
              "      <td>1</td>\n",
              "      <td>4</td>\n",
              "      <td>1</td>\n",
              "      <td>2</td>\n",
              "      <td>1</td>\n",
              "      <td>1</td>\n",
              "      <td>1</td>\n",
              "    </tr>\n",
              "    <tr>\n",
              "      <th>3</th>\n",
              "      <td>3</td>\n",
              "      <td>1</td>\n",
              "      <td>2</td>\n",
              "      <td>1</td>\n",
              "      <td>0</td>\n",
              "      <td>1</td>\n",
              "      <td>1</td>\n",
              "      <td>1</td>\n",
              "    </tr>\n",
              "    <tr>\n",
              "      <th>4</th>\n",
              "      <td>3</td>\n",
              "      <td>0</td>\n",
              "      <td>1</td>\n",
              "      <td>1</td>\n",
              "      <td>0</td>\n",
              "      <td>3</td>\n",
              "      <td>0</td>\n",
              "      <td>3</td>\n",
              "    </tr>\n",
              "  </tbody>\n",
              "</table>\n",
              "</div>"
            ],
            "text/plain": [
              "   Pclass  Sex  Age  Fare  Embarked  FamilySize  IsAlone  Title\n",
              "0       3    1    3     0         2           1        1      1\n",
              "1       3    0    4     0         0           2        0      3\n",
              "2       2    1    4     1         2           1        1      1\n",
              "3       3    1    2     1         0           1        1      1\n",
              "4       3    0    1     1         0           3        0      3"
            ]
          },
          "metadata": {
            "tags": []
          },
          "execution_count": 39
        }
      ]
    },
    {
      "metadata": {
        "id": "2xsGPO1d6ayj",
        "colab_type": "text"
      },
      "cell_type": "markdown",
      "source": [
        "**Correlation between final features**"
      ]
    },
    {
      "metadata": {
        "id": "TKUStm_A6W0O",
        "colab_type": "code",
        "outputId": "5001b639-c91f-4530-8e45-16e7c220239f",
        "colab": {
          "base_uri": "https://localhost:8080/",
          "height": 738
        }
      },
      "cell_type": "code",
      "source": [
        "colormap = plt.cm.RdBu\n",
        "plt.figure(figsize=(14,12))\n",
        "plt.title('Pearson Correlation of Features', y=1.05, size=15)\n",
        "sns.heatmap(newtrain.astype(float).corr(),linewidths=0.1,vmax=1.0, \n",
        "            square=True, cmap=colormap, linecolor='white', annot=True)"
      ],
      "execution_count": 0,
      "outputs": [
        {
          "output_type": "execute_result",
          "data": {
            "text/plain": [
              "<matplotlib.axes._subplots.AxesSubplot at 0x7f67b9e91d68>"
            ]
          },
          "metadata": {
            "tags": []
          },
          "execution_count": 40
        },
        {
          "output_type": "display_data",
          "data": {
            "image/png": "[encoded data removed]",
            "text/plain": [
              "<Figure size 1008x864 with 2 Axes>"
            ]
          },
          "metadata": {
            "tags": []
          }
        }
      ]
    },
    {
      "metadata": {
        "id": "BQmz8paFvMKY",
        "colab_type": "text"
      },
      "cell_type": "markdown",
      "source": [
        "##**4- Rank features using Random Forest**\n",
        "\n",
        "---\n",
        "\n"
      ]
    },
    {
      "metadata": {
        "id": "0vmHT0TRGy18",
        "colab_type": "text"
      },
      "cell_type": "markdown",
      "source": [
        "Its shown below the order of important features as follow:\n",
        "\n",
        "\n",
        "1.  Title\n",
        "2.  Sex\n",
        "3. Age\n",
        "4. Pclass\n",
        "5. FamilySize\n",
        "6. Fare\n",
        "7. Embarked\n",
        "8. IsAlone\n",
        "\n"
      ]
    },
    {
      "metadata": {
        "id": "B9uRPXtQvrZJ",
        "colab_type": "code",
        "colab": {}
      },
      "cell_type": "code",
      "source": [
        "x_train= newtrain.iloc[:,1:]\n",
        "y_train=newtrain[\"Survived\"]\n",
        "\n",
        "x_valid= newvalid.iloc[:,1:]\n",
        "y_valid= newvalid[\"Survived\"]\n",
        "\n",
        "\n",
        "x_test= newtest.iloc[:,:]"
      ],
      "execution_count": 0,
      "outputs": []
    },
    {
      "metadata": {
        "id": "7VIGtOzHvd_v",
        "colab_type": "code",
        "outputId": "efb265af-61fe-405b-f240-1e7455e81656",
        "colab": {
          "base_uri": "https://localhost:8080/",
          "height": 158
        }
      },
      "cell_type": "code",
      "source": [
        "features_labels=['Pclass',\t'Sex',\t'Age',\t'Fare',\t'Embarked',\t'FamilySize',\t'IsAlone',\t'Title']\n",
        "\n",
        "# Create a random forest classifier\n",
        "clf = RandomForestClassifier(n_estimators=10000, random_state=0, n_jobs=-1)\n",
        "\n",
        "# Train the classifier\n",
        "clf.fit(x_train, y_train)\n",
        "\n",
        "# Print the name and gini importance of each feature\n",
        "for feature in zip(features_labels, clf.feature_importances_):\n",
        "    print(feature)"
      ],
      "execution_count": 0,
      "outputs": [
        {
          "output_type": "stream",
          "text": [
            "('Pclass', 0.1273796709129032)\n",
            "('Sex', 0.19265805247122747)\n",
            "('Age', 0.1531402157130543)\n",
            "('Fare', 0.11713742986802013)\n",
            "('Embarked', 0.0526442630897014)\n",
            "('FamilySize', 0.11653961849298335)\n",
            "('IsAlone', 0.01980910728498231)\n",
            "('Title', 0.2206916421671278)\n"
          ],
          "name": "stdout"
        }
      ]
    },
    {
      "metadata": {
        "id": "J7oBhXfN8pkG",
        "colab_type": "text"
      },
      "cell_type": "markdown",
      "source": [
        "\n",
        "\n",
        "---\n",
        "\n",
        "> > >>**The End of Drop non-useful features & Rank features **\n",
        ">>>>** (Point 3 & 4 From  Assignment 3)**\n",
        "\n",
        "\n",
        "---\n",
        "\n"
      ]
    },
    {
      "metadata": {
        "colab_type": "text",
        "id": "KTT4JE7EX2iV"
      },
      "cell_type": "markdown",
      "source": [
        "##**5- Classifications using Scikit-learn**\n",
        "\n",
        "---\n",
        "\n"
      ]
    },
    {
      "metadata": {
        "colab_type": "text",
        "id": "pgVJStNmX2id"
      },
      "cell_type": "markdown",
      "source": [
        "###** a- SVM**"
      ]
    },
    {
      "metadata": {
        "id": "gj2cSxFD7hIy",
        "colab_type": "text"
      },
      "cell_type": "markdown",
      "source": [
        "First step is to apply data scaling before use SVM\n",
        "We use standard scalar from sklearn, which is: new_value = (old_value - mean)/std"
      ]
    },
    {
      "metadata": {
        "colab_type": "text",
        "id": "NNzJopZEX2ii"
      },
      "cell_type": "markdown",
      "source": [
        "** 1- SVM with Linear Kernal **"
      ]
    },
    {
      "metadata": {
        "colab_type": "code",
        "outputId": "70bac4d5-5a48-43e5-c396-7eb4326c19e4",
        "id": "fE6lCpT0X2ij",
        "colab": {
          "base_uri": "https://localhost:8080/",
          "height": 210
        }
      },
      "cell_type": "code",
      "source": [
        "svm_a1 = Pipeline(((\"scaler\", StandardScaler()),(\"linear_svc\", LinearSVC(C=5))))\n",
        "svm_a1.fit(x_train, y_train)"
      ],
      "execution_count": 0,
      "outputs": [
        {
          "output_type": "stream",
          "text": [
            "/usr/local/lib/python3.6/dist-packages/sklearn/preprocessing/data.py:645: DataConversionWarning: Data with input dtype int64 were all converted to float64 by StandardScaler.\n",
            "  return self.partial_fit(X, y)\n",
            "/usr/local/lib/python3.6/dist-packages/sklearn/base.py:467: DataConversionWarning: Data with input dtype int64 were all converted to float64 by StandardScaler.\n",
            "  return self.fit(X, y, **fit_params).transform(X)\n",
            "/usr/local/lib/python3.6/dist-packages/sklearn/svm/base.py:931: ConvergenceWarning: Liblinear failed to converge, increase the number of iterations.\n",
            "  \"the number of iterations.\", ConvergenceWarning)\n"
          ],
          "name": "stderr"
        },
        {
          "output_type": "execute_result",
          "data": {
            "text/plain": [
              "Pipeline(memory=None,\n",
              "     steps=[('scaler', StandardScaler(copy=True, with_mean=True, with_std=True)), ('linear_svc', LinearSVC(C=5, class_weight=None, dual=True, fit_intercept=True,\n",
              "     intercept_scaling=1, loss='squared_hinge', max_iter=1000,\n",
              "     multi_class='ovr', penalty='l2', random_state=None, tol=0.0001,\n",
              "     verbose=0))])"
            ]
          },
          "metadata": {
            "tags": []
          },
          "execution_count": 43
        }
      ]
    },
    {
      "metadata": {
        "colab_type": "text",
        "id": "LHQqdLc-X2iq"
      },
      "cell_type": "markdown",
      "source": [
        "**2- SVM with polynomial kernal**"
      ]
    },
    {
      "metadata": {
        "colab_type": "code",
        "outputId": "c999f355-e5ce-4791-a634-eb31a7a32b67",
        "id": "7MogwV29X2ir",
        "colab": {
          "base_uri": "https://localhost:8080/",
          "height": 175
        }
      },
      "cell_type": "code",
      "source": [
        "svm_a2 = Pipeline(((\"scaler\", StandardScaler()),(\"svm_clf\", SVC(kernel=\"poly\", degree=5, C=5))))\n",
        "svm_a2.fit(x_train, y_train)"
      ],
      "execution_count": 0,
      "outputs": [
        {
          "output_type": "stream",
          "text": [
            "/usr/local/lib/python3.6/dist-packages/sklearn/preprocessing/data.py:645: DataConversionWarning: Data with input dtype int64 were all converted to float64 by StandardScaler.\n",
            "  return self.partial_fit(X, y)\n",
            "/usr/local/lib/python3.6/dist-packages/sklearn/base.py:467: DataConversionWarning: Data with input dtype int64 were all converted to float64 by StandardScaler.\n",
            "  return self.fit(X, y, **fit_params).transform(X)\n"
          ],
          "name": "stderr"
        },
        {
          "output_type": "execute_result",
          "data": {
            "text/plain": [
              "Pipeline(memory=None,\n",
              "     steps=[('scaler', StandardScaler(copy=True, with_mean=True, with_std=True)), ('svm_clf', SVC(C=5, cache_size=200, class_weight=None, coef0=0.0,\n",
              "  decision_function_shape='ovr', degree=5, gamma='auto_deprecated',\n",
              "  kernel='poly', max_iter=-1, probability=False, random_state=None,\n",
              "  shrinking=True, tol=0.001, verbose=False))])"
            ]
          },
          "metadata": {
            "tags": []
          },
          "execution_count": 44
        }
      ]
    },
    {
      "metadata": {
        "colab_type": "text",
        "id": "u-f_6EXfX2ix"
      },
      "cell_type": "markdown",
      "source": [
        "**3- SVM with RBF kernal**"
      ]
    },
    {
      "metadata": {
        "colab_type": "code",
        "outputId": "f89953b0-298a-462f-ee84-608f7b43f5f4",
        "id": "-inrdfbOX2iy",
        "colab": {
          "base_uri": "https://localhost:8080/",
          "height": 175
        }
      },
      "cell_type": "code",
      "source": [
        "svm_a3 = Pipeline(((\"scaler\", StandardScaler()), (\"svm_clf\", SVC(kernel=\"rbf\", gamma=5, C=5))))\n",
        "svm_a3.fit(x_train, y_train)"
      ],
      "execution_count": 0,
      "outputs": [
        {
          "output_type": "stream",
          "text": [
            "/usr/local/lib/python3.6/dist-packages/sklearn/preprocessing/data.py:645: DataConversionWarning: Data with input dtype int64 were all converted to float64 by StandardScaler.\n",
            "  return self.partial_fit(X, y)\n",
            "/usr/local/lib/python3.6/dist-packages/sklearn/base.py:467: DataConversionWarning: Data with input dtype int64 were all converted to float64 by StandardScaler.\n",
            "  return self.fit(X, y, **fit_params).transform(X)\n"
          ],
          "name": "stderr"
        },
        {
          "output_type": "execute_result",
          "data": {
            "text/plain": [
              "Pipeline(memory=None,\n",
              "     steps=[('scaler', StandardScaler(copy=True, with_mean=True, with_std=True)), ('svm_clf', SVC(C=5, cache_size=200, class_weight=None, coef0=0.0,\n",
              "  decision_function_shape='ovr', degree=3, gamma=5, kernel='rbf',\n",
              "  max_iter=-1, probability=False, random_state=None, shrinking=True,\n",
              "  tol=0.001, verbose=False))])"
            ]
          },
          "metadata": {
            "tags": []
          },
          "execution_count": 45
        }
      ]
    },
    {
      "metadata": {
        "colab_type": "text",
        "id": "iuiZ71pgX2i5"
      },
      "cell_type": "markdown",
      "source": [
        "\n",
        "\n",
        "---\n",
        "\n"
      ]
    },
    {
      "metadata": {
        "colab_type": "text",
        "id": "-V5yMU_EX2i6"
      },
      "cell_type": "markdown",
      "source": [
        "###** b- NB **"
      ]
    },
    {
      "metadata": {
        "colab_type": "code",
        "outputId": "58568d3d-e2a9-48b1-8fef-6af9825e1bbe",
        "id": "-cq2tN2MX2i9",
        "colab": {
          "base_uri": "https://localhost:8080/",
          "height": 34
        }
      },
      "cell_type": "code",
      "source": [
        "# Gaussian Naive Bayes\n",
        "nb_b = GaussianNB()\n",
        "nb_b.fit(x_train, y_train)\n"
      ],
      "execution_count": 0,
      "outputs": [
        {
          "output_type": "execute_result",
          "data": {
            "text/plain": [
              "GaussianNB(priors=None, var_smoothing=1e-09)"
            ]
          },
          "metadata": {
            "tags": []
          },
          "execution_count": 46
        }
      ]
    },
    {
      "metadata": {
        "colab_type": "text",
        "id": "r7-dVjZfX2jK"
      },
      "cell_type": "markdown",
      "source": [
        "\n",
        "\n",
        "---\n",
        "\n"
      ]
    },
    {
      "metadata": {
        "colab_type": "text",
        "id": "srbQrjQ8X2jK"
      },
      "cell_type": "markdown",
      "source": [
        "### c- Logistic regression"
      ]
    },
    {
      "metadata": {
        "colab_type": "code",
        "outputId": "c41d3db0-f1c3-4188-901a-10bc2f693277",
        "id": "Zsu6iIb8X2jL",
        "colab": {
          "base_uri": "https://localhost:8080/",
          "height": 142
        }
      },
      "cell_type": "code",
      "source": [
        "lr_c = LogisticRegression(C=100)\n",
        "lr_c.fit(x_train, y_train)"
      ],
      "execution_count": 0,
      "outputs": [
        {
          "output_type": "stream",
          "text": [
            "/usr/local/lib/python3.6/dist-packages/sklearn/linear_model/logistic.py:433: FutureWarning: Default solver will be changed to 'lbfgs' in 0.22. Specify a solver to silence this warning.\n",
            "  FutureWarning)\n"
          ],
          "name": "stderr"
        },
        {
          "output_type": "execute_result",
          "data": {
            "text/plain": [
              "LogisticRegression(C=100, class_weight=None, dual=False, fit_intercept=True,\n",
              "          intercept_scaling=1, max_iter=100, multi_class='warn',\n",
              "          n_jobs=None, penalty='l2', random_state=None, solver='warn',\n",
              "          tol=0.0001, verbose=0, warm_start=False)"
            ]
          },
          "metadata": {
            "tags": []
          },
          "execution_count": 47
        }
      ]
    },
    {
      "metadata": {
        "colab_type": "text",
        "id": "ESmSws7BX2jO"
      },
      "cell_type": "markdown",
      "source": [
        "\n",
        "\n",
        "---\n",
        "\n"
      ]
    },
    {
      "metadata": {
        "colab_type": "text",
        "id": "6vypM_Q4X2jQ"
      },
      "cell_type": "markdown",
      "source": [
        "###d- Decision tree"
      ]
    },
    {
      "metadata": {
        "colab_type": "text",
        "id": "Qb-ceu0QX2jQ"
      },
      "cell_type": "markdown",
      "source": [
        "**Tree 1:**"
      ]
    },
    {
      "metadata": {
        "colab_type": "code",
        "outputId": "2dd907a5-4b81-4d1e-9d29-a104ef88348b",
        "id": "wM8XYf1BX2jR",
        "colab": {
          "base_uri": "https://localhost:8080/",
          "height": 122
        }
      },
      "cell_type": "code",
      "source": [
        "# defaults: criterion= 'gini' , splitter='best' ,max_depth =None\n",
        "dt_d1 = DecisionTreeClassifier()\n",
        "dt_d1.fit(x_train, y_train)"
      ],
      "execution_count": 0,
      "outputs": [
        {
          "output_type": "execute_result",
          "data": {
            "text/plain": [
              "DecisionTreeClassifier(class_weight=None, criterion='gini', max_depth=None,\n",
              "            max_features=None, max_leaf_nodes=None,\n",
              "            min_impurity_decrease=0.0, min_impurity_split=None,\n",
              "            min_samples_leaf=1, min_samples_split=2,\n",
              "            min_weight_fraction_leaf=0.0, presort=False, random_state=None,\n",
              "            splitter='best')"
            ]
          },
          "metadata": {
            "tags": []
          },
          "execution_count": 48
        }
      ]
    },
    {
      "metadata": {
        "colab_type": "text",
        "id": "b2KuXI6bX2jZ"
      },
      "cell_type": "markdown",
      "source": [
        "**Tree 2:**"
      ]
    },
    {
      "metadata": {
        "colab_type": "code",
        "outputId": "550a79a7-d2f0-4931-c372-e34157d88f25",
        "id": "WSYu0egYX2jZ",
        "colab": {
          "base_uri": "https://localhost:8080/",
          "height": 122
        }
      },
      "cell_type": "code",
      "source": [
        "# defaults: criterion= 'gini' , splitter='best' ,max_depth =None\n",
        "dt_d2 = DecisionTreeClassifier(criterion= 'entropy')\n",
        "dt_d2.fit(x_train, y_train)\n"
      ],
      "execution_count": 0,
      "outputs": [
        {
          "output_type": "execute_result",
          "data": {
            "text/plain": [
              "DecisionTreeClassifier(class_weight=None, criterion='entropy', max_depth=None,\n",
              "            max_features=None, max_leaf_nodes=None,\n",
              "            min_impurity_decrease=0.0, min_impurity_split=None,\n",
              "            min_samples_leaf=1, min_samples_split=2,\n",
              "            min_weight_fraction_leaf=0.0, presort=False, random_state=None,\n",
              "            splitter='best')"
            ]
          },
          "metadata": {
            "tags": []
          },
          "execution_count": 49
        }
      ]
    },
    {
      "metadata": {
        "colab_type": "text",
        "id": "6s2Z9XL-X2jb"
      },
      "cell_type": "markdown",
      "source": [
        "**Tree 3:**"
      ]
    },
    {
      "metadata": {
        "colab_type": "code",
        "outputId": "b5e6653d-f2b2-4fb6-91f2-c854c9c5953a",
        "id": "Y4WJKGnfX2jc",
        "colab": {
          "base_uri": "https://localhost:8080/",
          "height": 122
        }
      },
      "cell_type": "code",
      "source": [
        "\n",
        "# defaults: criterion= 'gini' , splitter='best' ,max_depth =None\n",
        "dt_d3 = DecisionTreeClassifier(splitter='random')\n",
        "dt_d3.fit(x_train, y_train)\n"
      ],
      "execution_count": 0,
      "outputs": [
        {
          "output_type": "execute_result",
          "data": {
            "text/plain": [
              "DecisionTreeClassifier(class_weight=None, criterion='gini', max_depth=None,\n",
              "            max_features=None, max_leaf_nodes=None,\n",
              "            min_impurity_decrease=0.0, min_impurity_split=None,\n",
              "            min_samples_leaf=1, min_samples_split=2,\n",
              "            min_weight_fraction_leaf=0.0, presort=False, random_state=None,\n",
              "            splitter='random')"
            ]
          },
          "metadata": {
            "tags": []
          },
          "execution_count": 50
        }
      ]
    },
    {
      "metadata": {
        "colab_type": "text",
        "id": "CVffPzS6X2jh"
      },
      "cell_type": "markdown",
      "source": [
        "**Tree 4:**"
      ]
    },
    {
      "metadata": {
        "colab_type": "code",
        "outputId": "065e4df7-4272-4ad1-fc9f-cca8bd5d2dc4",
        "id": "jfRiKmfbX2jh",
        "colab": {
          "base_uri": "https://localhost:8080/",
          "height": 122
        }
      },
      "cell_type": "code",
      "source": [
        "# defaults: criterion= 'gini' , splitter='best' ,max_depth =None\n",
        "dt_d4 = DecisionTreeClassifier(max_depth= 2)\n",
        "dt_d4.fit(x_train, y_train)"
      ],
      "execution_count": 0,
      "outputs": [
        {
          "output_type": "execute_result",
          "data": {
            "text/plain": [
              "DecisionTreeClassifier(class_weight=None, criterion='gini', max_depth=2,\n",
              "            max_features=None, max_leaf_nodes=None,\n",
              "            min_impurity_decrease=0.0, min_impurity_split=None,\n",
              "            min_samples_leaf=1, min_samples_split=2,\n",
              "            min_weight_fraction_leaf=0.0, presort=False, random_state=None,\n",
              "            splitter='best')"
            ]
          },
          "metadata": {
            "tags": []
          },
          "execution_count": 51
        }
      ]
    },
    {
      "metadata": {
        "colab_type": "text",
        "id": "zWFw6Z00X2jj"
      },
      "cell_type": "markdown",
      "source": [
        "\n",
        "\n",
        "---\n",
        "\n"
      ]
    },
    {
      "metadata": {
        "colab_type": "text",
        "id": "DMx_3ByRX2jk"
      },
      "cell_type": "markdown",
      "source": [
        "###e- Random Forest"
      ]
    },
    {
      "metadata": {
        "colab_type": "code",
        "outputId": "bdb42206-762d-4f6b-de5b-3dfb3a1f1191",
        "id": "LSzqATWvX2jk",
        "colab": {
          "base_uri": "https://localhost:8080/",
          "height": 228
        }
      },
      "cell_type": "code",
      "source": [
        "param_grid = [{'n_estimators': [100, 250, 500,1000],'criterion': ['gini', 'entropy'], 'max_features': [2, 4, 6, 8],'max_depth': [None, 2, 4, 6, 8]}]\n",
        "\n",
        "rf = RandomForestClassifier()\n",
        "rf_e = GridSearchCV(rf, param_grid, cv=5)\n",
        "rf_e.fit(x_train, y_train)"
      ],
      "execution_count": 0,
      "outputs": [
        {
          "output_type": "execute_result",
          "data": {
            "text/plain": [
              "GridSearchCV(cv=5, error_score='raise-deprecating',\n",
              "       estimator=RandomForestClassifier(bootstrap=True, class_weight=None, criterion='gini',\n",
              "            max_depth=None, max_features='auto', max_leaf_nodes=None,\n",
              "            min_impurity_decrease=0.0, min_impurity_split=None,\n",
              "            min_samples_leaf=1, min_samples_split=2,\n",
              "            min_weight_fraction_leaf=0.0, n_estimators='warn', n_jobs=None,\n",
              "            oob_score=False, random_state=None, verbose=0,\n",
              "            warm_start=False),\n",
              "       fit_params=None, iid='warn', n_jobs=None,\n",
              "       param_grid=[{'n_estimators': [100, 250, 500, 1000], 'criterion': ['gini', 'entropy'], 'max_features': [2, 4, 6, 8], 'max_depth': [None, 2, 4, 6, 8]}],\n",
              "       pre_dispatch='2*n_jobs', refit=True, return_train_score='warn',\n",
              "       scoring=None, verbose=0)"
            ]
          },
          "metadata": {
            "tags": []
          },
          "execution_count": 52
        }
      ]
    },
    {
      "metadata": {
        "id": "ny8FQ2ElmKVt",
        "colab_type": "code",
        "outputId": "3e88c054-1d9f-4197-f272-e86021ce517b",
        "colab": {
          "base_uri": "https://localhost:8080/",
          "height": 34
        }
      },
      "cell_type": "code",
      "source": [
        "# best parameters found are \n",
        "print(rf_e.best_params_)"
      ],
      "execution_count": 0,
      "outputs": [
        {
          "output_type": "stream",
          "text": [
            "{'criterion': 'entropy', 'max_depth': 6, 'max_features': 2, 'n_estimators': 100}\n"
          ],
          "name": "stdout"
        }
      ]
    },
    {
      "metadata": {
        "colab_type": "text",
        "id": "Lsap2FGZX2jq"
      },
      "cell_type": "markdown",
      "source": [
        "\n",
        "\n",
        "---\n",
        "\n"
      ]
    },
    {
      "metadata": {
        "colab_type": "text",
        "id": "ifK6KTImX2jr"
      },
      "cell_type": "markdown",
      "source": [
        "###f- Gradient Boosting Classifier"
      ]
    },
    {
      "metadata": {
        "colab_type": "code",
        "outputId": "17ffb2d8-1b89-4085-a6f4-00031d2e90a0",
        "id": "Od8Y85OaX2jr",
        "colab": {
          "base_uri": "https://localhost:8080/",
          "height": 266
        }
      },
      "cell_type": "code",
      "source": [
        "param_grid = [{'n_estimators': [100, 250, 500, 1000],'learning_rate': [0.1 ,1.0,2.0],'max_depth': [None, 2, 4, 6, 8]}]\n",
        "\n",
        "gb = GradientBoostingClassifier()\n",
        "gb_f = GridSearchCV(gb, param_grid, cv=5)\n",
        "gb_f.fit(x_train, y_train)"
      ],
      "execution_count": 0,
      "outputs": [
        {
          "output_type": "stream",
          "text": [
            "/usr/local/lib/python3.6/dist-packages/sklearn/model_selection/_search.py:841: DeprecationWarning: The default of the `iid` parameter will change from True to False in version 0.22 and will be removed in 0.24. This will change numeric results when test-set sizes are unequal.\n",
            "  DeprecationWarning)\n"
          ],
          "name": "stderr"
        },
        {
          "output_type": "execute_result",
          "data": {
            "text/plain": [
              "GridSearchCV(cv=5, error_score='raise-deprecating',\n",
              "       estimator=GradientBoostingClassifier(criterion='friedman_mse', init=None,\n",
              "              learning_rate=0.1, loss='deviance', max_depth=3,\n",
              "              max_features=None, max_leaf_nodes=None,\n",
              "              min_impurity_decrease=0.0, min_impurity_split=None,\n",
              "              min_samples_leaf=1, min_sampl...      subsample=1.0, tol=0.0001, validation_fraction=0.1,\n",
              "              verbose=0, warm_start=False),\n",
              "       fit_params=None, iid='warn', n_jobs=None,\n",
              "       param_grid=[{'n_estimators': [100, 250, 500, 1000], 'learning_rate': [0.1, 1.0, 2.0], 'max_depth': [None, 2, 4, 6, 8]}],\n",
              "       pre_dispatch='2*n_jobs', refit=True, return_train_score='warn',\n",
              "       scoring=None, verbose=0)"
            ]
          },
          "metadata": {
            "tags": []
          },
          "execution_count": 54
        }
      ]
    },
    {
      "metadata": {
        "id": "m5E1z_konZWl",
        "colab_type": "code",
        "outputId": "729dd55c-bd6e-4610-f1f8-7938749b4e7e",
        "colab": {
          "base_uri": "https://localhost:8080/",
          "height": 34
        }
      },
      "cell_type": "code",
      "source": [
        "print(gb_f.best_params_)"
      ],
      "execution_count": 0,
      "outputs": [
        {
          "output_type": "stream",
          "text": [
            "{'learning_rate': 0.1, 'max_depth': 2, 'n_estimators': 250}\n"
          ],
          "name": "stdout"
        }
      ]
    },
    {
      "metadata": {
        "colab_type": "text",
        "id": "TjAmt9VlX2jy"
      },
      "cell_type": "markdown",
      "source": [
        "\n",
        "\n",
        "---\n",
        "\n"
      ]
    },
    {
      "metadata": {
        "colab_type": "text",
        "id": "kscjLaJwX2jy"
      },
      "cell_type": "markdown",
      "source": [
        "###g- BaggingClassifier "
      ]
    },
    {
      "metadata": {
        "colab_type": "text",
        "id": "Y2mnjTWOX2jz"
      },
      "cell_type": "markdown",
      "source": [
        "####BaggingClassifier_NB"
      ]
    },
    {
      "metadata": {
        "colab_type": "code",
        "outputId": "a25dd329-b6af-4467-debe-49e7230ec86d",
        "id": "6ZNa_frJX2j0",
        "colab": {
          "base_uri": "https://localhost:8080/",
          "height": 87
        }
      },
      "cell_type": "code",
      "source": [
        "nbbag_g = BaggingClassifier(GaussianNB(), n_estimators=500,max_samples=100, bootstrap=True,n_jobs=-1)\n",
        "nbbag_g.fit(x_train, y_train)"
      ],
      "execution_count": 0,
      "outputs": [
        {
          "output_type": "execute_result",
          "data": {
            "text/plain": [
              "BaggingClassifier(base_estimator=GaussianNB(priors=None, var_smoothing=1e-09),\n",
              "         bootstrap=True, bootstrap_features=False, max_features=1.0,\n",
              "         max_samples=100, n_estimators=500, n_jobs=-1, oob_score=False,\n",
              "         random_state=None, verbose=0, warm_start=False)"
            ]
          },
          "metadata": {
            "tags": []
          },
          "execution_count": 56
        }
      ]
    },
    {
      "metadata": {
        "colab_type": "text",
        "id": "2ZTI92o-X2j1"
      },
      "cell_type": "markdown",
      "source": [
        "\n",
        "\n",
        "---\n",
        "\n"
      ]
    },
    {
      "metadata": {
        "colab_type": "text",
        "id": "WB0hxzGaX2j2"
      },
      "cell_type": "markdown",
      "source": [
        "####BaggingClassifier_DT"
      ]
    },
    {
      "metadata": {
        "colab_type": "code",
        "outputId": "81e967a0-6e98-4067-b67f-638227fe730f",
        "id": "oKZs-kotX2j4",
        "colab": {
          "base_uri": "https://localhost:8080/",
          "height": 175
        }
      },
      "cell_type": "code",
      "source": [
        "dtbag_g = BaggingClassifier(DecisionTreeClassifier(), n_estimators=1000, bootstrap=True, n_jobs=-1)\n",
        "dtbag_g.fit(x_train, y_train)"
      ],
      "execution_count": 0,
      "outputs": [
        {
          "output_type": "execute_result",
          "data": {
            "text/plain": [
              "BaggingClassifier(base_estimator=DecisionTreeClassifier(class_weight=None, criterion='gini', max_depth=None,\n",
              "            max_features=None, max_leaf_nodes=None,\n",
              "            min_impurity_decrease=0.0, min_impurity_split=None,\n",
              "            min_samples_leaf=1, min_samples_split=2,\n",
              "            min_weight_fraction_leaf=0.0, presort=False, random_state=None,\n",
              "            splitter='best'),\n",
              "         bootstrap=True, bootstrap_features=False, max_features=1.0,\n",
              "         max_samples=1.0, n_estimators=1000, n_jobs=-1, oob_score=False,\n",
              "         random_state=None, verbose=0, warm_start=False)"
            ]
          },
          "metadata": {
            "tags": []
          },
          "execution_count": 57
        }
      ]
    },
    {
      "metadata": {
        "colab_type": "text",
        "id": "0m9mGqFzX2j5"
      },
      "cell_type": "markdown",
      "source": [
        "\n",
        "\n",
        "---\n",
        "\n"
      ]
    },
    {
      "metadata": {
        "colab_type": "text",
        "id": "U2NJkDbOX2j6"
      },
      "cell_type": "markdown",
      "source": [
        "###h- AdaBoosting"
      ]
    },
    {
      "metadata": {
        "colab_type": "code",
        "outputId": "d7034056-cb13-440c-904d-56fb17f89d93",
        "id": "fYGOiqnaX2j6",
        "colab": {
          "base_uri": "https://localhost:8080/",
          "height": 246
        }
      },
      "cell_type": "code",
      "source": [
        "param_grid = [{'n_estimators': [100,250,500,1000],'learning_rate': [0.1 , 0.5, 1.0,2.0], 'algorithm': ['SAMME.R', 'SAMME'] }]\n",
        "\n",
        "adab = AdaBoostClassifier(DecisionTreeClassifier())\n",
        "\n",
        "adab_h = GridSearchCV(adab, param_grid, cv=5)\n",
        "adab_h.fit(x_train, y_train)\n"
      ],
      "execution_count": 0,
      "outputs": [
        {
          "output_type": "execute_result",
          "data": {
            "text/plain": [
              "GridSearchCV(cv=5, error_score='raise-deprecating',\n",
              "       estimator=AdaBoostClassifier(algorithm='SAMME.R',\n",
              "          base_estimator=DecisionTreeClassifier(class_weight=None, criterion='gini', max_depth=None,\n",
              "            max_features=None, max_leaf_nodes=None,\n",
              "            min_impurity_decrease=0.0, min_impurity_split=None,\n",
              "            min_samples_leaf=1, min_samples_split=2,\n",
              "            min_weight_fraction_leaf=0.0, presort=False, random_state=None,\n",
              "            splitter='best'),\n",
              "          learning_rate=1.0, n_estimators=50, random_state=None),\n",
              "       fit_params=None, iid='warn', n_jobs=None,\n",
              "       param_grid=[{'n_estimators': [100, 250, 500, 1000], 'learning_rate': [0.1, 0.5, 1.0, 2.0], 'algorithm': ['SAMME.R', 'SAMME']}],\n",
              "       pre_dispatch='2*n_jobs', refit=True, return_train_score='warn',\n",
              "       scoring=None, verbose=0)"
            ]
          },
          "metadata": {
            "tags": []
          },
          "execution_count": 58
        }
      ]
    },
    {
      "metadata": {
        "id": "as4tQG6urmcj",
        "colab_type": "code",
        "outputId": "145b3510-b61f-47d7-9b2e-6a04f98ae185",
        "colab": {
          "base_uri": "https://localhost:8080/",
          "height": 34
        }
      },
      "cell_type": "code",
      "source": [
        "print(adab_h.best_params_)"
      ],
      "execution_count": 0,
      "outputs": [
        {
          "output_type": "stream",
          "text": [
            "{'algorithm': 'SAMME.R', 'learning_rate': 0.1, 'n_estimators': 100}\n"
          ],
          "name": "stdout"
        }
      ]
    },
    {
      "metadata": {
        "colab_type": "text",
        "id": "RO85Mu18X2kA"
      },
      "cell_type": "markdown",
      "source": [
        "\n",
        "\n",
        "---\n",
        "\n"
      ]
    },
    {
      "metadata": {
        "colab_type": "text",
        "id": "91iS5iMQX2kB"
      },
      "cell_type": "markdown",
      "source": [
        "###i- Voting-Ensembling"
      ]
    },
    {
      "metadata": {
        "colab_type": "code",
        "outputId": "c1d3704d-f93c-4047-8764-76863c73529d",
        "id": "zFUia5zwX2kB",
        "colab": {
          "base_uri": "https://localhost:8080/",
          "height": 266
        }
      },
      "cell_type": "code",
      "source": [
        "voting_i = VotingClassifier(estimators=[('decison_tree1', dt_d1) ,('gradientBoost', gb_f) ,('AdaBoost', adab_h) , ('svm_poly', svm_a2), ('Bagging DT', dtbag_g)],voting='hard')\n",
        "voting_i.fit(x_train, y_train)"
      ],
      "execution_count": 0,
      "outputs": [
        {
          "output_type": "stream",
          "text": [
            "/usr/local/lib/python3.6/dist-packages/sklearn/model_selection/_search.py:841: DeprecationWarning: The default of the `iid` parameter will change from True to False in version 0.22 and will be removed in 0.24. This will change numeric results when test-set sizes are unequal.\n",
            "  DeprecationWarning)\n",
            "/usr/local/lib/python3.6/dist-packages/sklearn/preprocessing/data.py:645: DataConversionWarning: Data with input dtype int64 were all converted to float64 by StandardScaler.\n",
            "  return self.partial_fit(X, y)\n",
            "/usr/local/lib/python3.6/dist-packages/sklearn/base.py:467: DataConversionWarning: Data with input dtype int64 were all converted to float64 by StandardScaler.\n",
            "  return self.fit(X, y, **fit_params).transform(X)\n"
          ],
          "name": "stderr"
        },
        {
          "output_type": "execute_result",
          "data": {
            "text/plain": [
              "VotingClassifier(estimators=[('decison_tree1', DecisionTreeClassifier(class_weight=None, criterion='gini', max_depth=None,\n",
              "            max_features=None, max_leaf_nodes=None,\n",
              "            min_impurity_decrease=0.0, min_impurity_split=None,\n",
              "            min_samples_leaf=1, min_samples_split=2,\n",
              "            min_weight_fr...imators=1000, n_jobs=-1, oob_score=False,\n",
              "         random_state=None, verbose=0, warm_start=False))],\n",
              "         flatten_transform=None, n_jobs=None, voting='hard', weights=None)"
            ]
          },
          "metadata": {
            "tags": []
          },
          "execution_count": 60
        }
      ]
    },
    {
      "metadata": {
        "colab_type": "text",
        "id": "UJ7q0uiSX2kH"
      },
      "cell_type": "markdown",
      "source": [
        "\n",
        "\n",
        "---\n",
        "\n"
      ]
    },
    {
      "metadata": {
        "colab_type": "text",
        "id": "nDilcJ1OX2kH"
      },
      "cell_type": "markdown",
      "source": [
        "###j- My Own Method (KNN)"
      ]
    },
    {
      "metadata": {
        "colab_type": "code",
        "outputId": "ef63a47e-8d2a-4a59-c2b0-37513238ddbf",
        "id": "uP8n4zXGX2kI",
        "colab": {
          "base_uri": "https://localhost:8080/",
          "height": 158
        }
      },
      "cell_type": "code",
      "source": [
        "\n",
        "param_grid = [{'n_neighbors': [1,3,5,7,9,11,13,15,17,19], 'algorithm' : ['auto', 'ball_tree', 'kd_tree', 'brute']}]\n",
        "\n",
        "nbrs = KNeighborsClassifier()\n",
        "knn_j = GridSearchCV(nbrs, param_grid, cv=5)\n",
        "knn_j.fit(x_train,y_train)\n"
      ],
      "execution_count": 0,
      "outputs": [
        {
          "output_type": "execute_result",
          "data": {
            "text/plain": [
              "GridSearchCV(cv=5, error_score='raise-deprecating',\n",
              "       estimator=KNeighborsClassifier(algorithm='auto', leaf_size=30, metric='minkowski',\n",
              "           metric_params=None, n_jobs=None, n_neighbors=5, p=2,\n",
              "           weights='uniform'),\n",
              "       fit_params=None, iid='warn', n_jobs=None,\n",
              "       param_grid=[{'n_neighbors': [1, 3, 5, 7, 9, 11, 13, 15, 17, 19], 'algorithm': ['auto', 'ball_tree', 'kd_tree', 'brute']}],\n",
              "       pre_dispatch='2*n_jobs', refit=True, return_train_score='warn',\n",
              "       scoring=None, verbose=0)"
            ]
          },
          "metadata": {
            "tags": []
          },
          "execution_count": 61
        }
      ]
    },
    {
      "metadata": {
        "id": "iJBG__UG0EIG",
        "colab_type": "code",
        "outputId": "8b19148a-2319-4251-9cb1-551b43d0645f",
        "colab": {
          "base_uri": "https://localhost:8080/",
          "height": 34
        }
      },
      "cell_type": "code",
      "source": [
        "print(knn_j.best_params_)"
      ],
      "execution_count": 0,
      "outputs": [
        {
          "output_type": "stream",
          "text": [
            "{'algorithm': 'brute', 'n_neighbors': 5}\n"
          ],
          "name": "stdout"
        }
      ]
    },
    {
      "metadata": {
        "id": "AI7v9Aa8866U",
        "colab_type": "text"
      },
      "cell_type": "markdown",
      "source": [
        "###Voting from all models"
      ]
    },
    {
      "metadata": {
        "id": "RTZNwwF200CQ",
        "colab_type": "code",
        "outputId": "1dc8a03a-5ade-4b29-8757-2053b23259df",
        "colab": {
          "base_uri": "https://localhost:8080/",
          "height": 459
        }
      },
      "cell_type": "code",
      "source": [
        "voting_all = VotingClassifier(estimators=[('svm_linear', svm_a1),('svm_poly', svm_a2),('svm_rbf', svm_a3),\n",
        "                                          ('naive bayes', nb_b), ('logistic regression',lr_c),\n",
        "                                          ('decison_tree1', dt_d1) ,('decison_tree2', dt_d2),('decison_tree3', dt_d3), \n",
        "                                          ('random forest', rf_e), ('gradientBoost', gb_f) , ('Bagging DT', dtbag_g) , ('Bagging NB', nbbag_g),                                  \n",
        "                                          ('AdaBoost', adab_h) ,('KNN', knn_j)],voting='hard')\n",
        "voting_all.fit(x_train, y_train)"
      ],
      "execution_count": 0,
      "outputs": [
        {
          "output_type": "stream",
          "text": [
            "/usr/local/lib/python3.6/dist-packages/sklearn/preprocessing/data.py:645: DataConversionWarning: Data with input dtype int64 were all converted to float64 by StandardScaler.\n",
            "  return self.partial_fit(X, y)\n",
            "/usr/local/lib/python3.6/dist-packages/sklearn/base.py:467: DataConversionWarning: Data with input dtype int64 were all converted to float64 by StandardScaler.\n",
            "  return self.fit(X, y, **fit_params).transform(X)\n",
            "/usr/local/lib/python3.6/dist-packages/sklearn/svm/base.py:931: ConvergenceWarning: Liblinear failed to converge, increase the number of iterations.\n",
            "  \"the number of iterations.\", ConvergenceWarning)\n",
            "/usr/local/lib/python3.6/dist-packages/sklearn/preprocessing/data.py:645: DataConversionWarning: Data with input dtype int64 were all converted to float64 by StandardScaler.\n",
            "  return self.partial_fit(X, y)\n",
            "/usr/local/lib/python3.6/dist-packages/sklearn/base.py:467: DataConversionWarning: Data with input dtype int64 were all converted to float64 by StandardScaler.\n",
            "  return self.fit(X, y, **fit_params).transform(X)\n",
            "/usr/local/lib/python3.6/dist-packages/sklearn/preprocessing/data.py:645: DataConversionWarning: Data with input dtype int64 were all converted to float64 by StandardScaler.\n",
            "  return self.partial_fit(X, y)\n",
            "/usr/local/lib/python3.6/dist-packages/sklearn/base.py:467: DataConversionWarning: Data with input dtype int64 were all converted to float64 by StandardScaler.\n",
            "  return self.fit(X, y, **fit_params).transform(X)\n",
            "/usr/local/lib/python3.6/dist-packages/sklearn/linear_model/logistic.py:433: FutureWarning: Default solver will be changed to 'lbfgs' in 0.22. Specify a solver to silence this warning.\n",
            "  FutureWarning)\n",
            "/usr/local/lib/python3.6/dist-packages/sklearn/model_selection/_search.py:841: DeprecationWarning: The default of the `iid` parameter will change from True to False in version 0.22 and will be removed in 0.24. This will change numeric results when test-set sizes are unequal.\n",
            "  DeprecationWarning)\n"
          ],
          "name": "stderr"
        },
        {
          "output_type": "execute_result",
          "data": {
            "text/plain": [
              "VotingClassifier(estimators=[('svm_linear', Pipeline(memory=None,\n",
              "     steps=[('scaler', StandardScaler(copy=True, with_mean=True, with_std=True)), ('linear_svc', LinearSVC(C=5, class_weight=None, dual=True, fit_intercept=True,\n",
              "     intercept_scaling=1, loss='squared_hinge', max_iter=1000,\n",
              "     multi_class='ovr', pe...   pre_dispatch='2*n_jobs', refit=True, return_train_score='warn',\n",
              "       scoring=None, verbose=0))],\n",
              "         flatten_transform=None, n_jobs=None, voting='hard', weights=None)"
            ]
          },
          "metadata": {
            "tags": []
          },
          "execution_count": 63
        }
      ]
    },
    {
      "metadata": {
        "colab_type": "text",
        "id": "txOEr8PYX2kO"
      },
      "cell_type": "markdown",
      "source": [
        "\n",
        "\n",
        "---\n",
        "\n",
        "\n",
        "\n",
        "---\n",
        "\n",
        "\n",
        "\n",
        "---\n",
        "\n"
      ]
    },
    {
      "metadata": {
        "id": "vJqmPM6akthm",
        "colab_type": "text"
      },
      "cell_type": "markdown",
      "source": [
        "\n",
        "\n",
        "---\n",
        "\n",
        "\n",
        "\n",
        "---\n",
        "\n",
        "\n",
        "\n",
        "---\n",
        "\n"
      ]
    },
    {
      "metadata": {
        "id": "5tRYz9Xckw9d",
        "colab_type": "text"
      },
      "cell_type": "markdown",
      "source": [
        "##6- Comparsion (Evaluation)"
      ]
    },
    {
      "metadata": {
        "id": "0wcaPUPtz6O1",
        "colab_type": "text"
      },
      "cell_type": "markdown",
      "source": [
        "#### Training Data Prediction Evaluation"
      ]
    },
    {
      "metadata": {
        "id": "LjGcdKnLzTL-",
        "colab_type": "code",
        "outputId": "994f1c16-4564-4d24-bfb0-ef6eb5651731",
        "colab": {
          "base_uri": "https://localhost:8080/",
          "height": 263
        }
      },
      "cell_type": "code",
      "source": [
        "\n",
        "\n",
        "train_pred_svm_a1= svm_a1.predict(x_train)\n",
        "train_pred_svm_a2= svm_a2.predict(x_train)\n",
        "train_pred_svm_a3= svm_a3.predict(x_train)\n",
        "\n",
        "train_pred_nb_b= nb_b.predict(x_train)\n",
        "\n",
        "train_pred_lr_c= lr_c.predict(x_train)\n",
        "\n",
        "train_pred_dt_d1= dt_d1.predict(x_train)\n",
        "train_pred_dt_d2= dt_d2.predict(x_train)\n",
        "train_pred_dt_d3= dt_d3.predict(x_train)\n",
        "train_pred_dt_d4= dt_d4.predict(x_train)\n",
        "\n",
        "train_pred_rf_e= rf_e.predict(x_train)\n",
        "\n",
        "train_pred_gb_f= gb_f.predict(x_train)\n",
        "\n",
        "\n",
        "train_pred_nbbag_g = nbbag_g.predict(x_train)\n",
        "train_pred_dtbag_g = dtbag_g.predict(x_train)\n",
        "\n",
        "train_pred_adab_h = adab_h.predict(x_train)\n",
        "\n",
        "train_pred_voting_i = voting_i.predict(x_train)\n",
        "\n",
        "train_pred_knn_j = knn_j.predict(x_train)\n",
        "\n",
        "train_pred_voting_all = voting_all.predict(x_train)\n"
      ],
      "execution_count": 0,
      "outputs": [
        {
          "output_type": "stream",
          "text": [
            "/usr/local/lib/python3.6/dist-packages/sklearn/pipeline.py:331: DataConversionWarning: Data with input dtype int64 were all converted to float64 by StandardScaler.\n",
            "  Xt = transform.transform(Xt)\n",
            "/usr/local/lib/python3.6/dist-packages/sklearn/pipeline.py:331: DataConversionWarning: Data with input dtype int64 were all converted to float64 by StandardScaler.\n",
            "  Xt = transform.transform(Xt)\n",
            "/usr/local/lib/python3.6/dist-packages/sklearn/pipeline.py:331: DataConversionWarning: Data with input dtype int64 were all converted to float64 by StandardScaler.\n",
            "  Xt = transform.transform(Xt)\n",
            "/usr/local/lib/python3.6/dist-packages/sklearn/pipeline.py:331: DataConversionWarning: Data with input dtype int64 were all converted to float64 by StandardScaler.\n",
            "  Xt = transform.transform(Xt)\n",
            "/usr/local/lib/python3.6/dist-packages/sklearn/pipeline.py:331: DataConversionWarning: Data with input dtype int64 were all converted to float64 by StandardScaler.\n",
            "  Xt = transform.transform(Xt)\n",
            "/usr/local/lib/python3.6/dist-packages/sklearn/pipeline.py:331: DataConversionWarning: Data with input dtype int64 were all converted to float64 by StandardScaler.\n",
            "  Xt = transform.transform(Xt)\n",
            "/usr/local/lib/python3.6/dist-packages/sklearn/pipeline.py:331: DataConversionWarning: Data with input dtype int64 were all converted to float64 by StandardScaler.\n",
            "  Xt = transform.transform(Xt)\n"
          ],
          "name": "stderr"
        }
      ]
    },
    {
      "metadata": {
        "id": "seR4rGw2zeLw",
        "colab_type": "code",
        "colab": {}
      },
      "cell_type": "code",
      "source": [
        "train_results =[]\n",
        "\n",
        "acc= round(accuracy_score(y_train, train_pred_svm_a1), 2)\n",
        "[p, r, f1, _]=  precision_recall_fscore_support(y_train, train_pred_svm_a1, average='micro')\n",
        "train_results.append([\"SVM_Linear\", acc, p, r, f1])\n",
        "\n",
        "acc= round(accuracy_score(y_train, train_pred_svm_a2), 2)\n",
        "[p, r, f1, _]=  precision_recall_fscore_support(y_train, train_pred_svm_a2, average='micro')\n",
        "train_results.append([\"SVM_Poly\", acc, p, r, f1])\n",
        "\n",
        "acc= round(accuracy_score(y_train, train_pred_svm_a1), 2)\n",
        "[p, r, f1, _]=  precision_recall_fscore_support(y_train, train_pred_svm_a1, average='micro')\n",
        "train_results.append([\"SVM_RBF\", acc, p, r, f1])\n",
        "\n",
        "\n",
        "\n",
        "acc= round(accuracy_score(y_train, train_pred_nb_b), 2)\n",
        "[p, r, f1, _]=  precision_recall_fscore_support(y_train, train_pred_nb_b, average='micro')\n",
        "train_results.append([\"Naive Bayes\", acc, p, r, f1])\n",
        "\n",
        "\n",
        "acc= round(accuracy_score(y_train, train_pred_lr_c), 2)\n",
        "[p, r, f1, _]=  precision_recall_fscore_support(y_train, train_pred_lr_c, average='micro')\n",
        "train_results.append([\"Logistic Regression\", acc, p, r, f1])\n",
        "\n",
        "\n",
        "acc= round(accuracy_score(y_train, train_pred_dt_d1), 2)\n",
        "[p, r, f1, _]=  precision_recall_fscore_support(y_train, train_pred_dt_d1, average='micro')\n",
        "train_results.append([\"DecisionTree -1 \", acc, p, r, f1])\n",
        "\n",
        "acc= round(accuracy_score(y_train, train_pred_dt_d2), 2)\n",
        "[p, r, f1, _]=  precision_recall_fscore_support(y_train, train_pred_dt_d2, average='micro')\n",
        "train_results.append([\"DecisionTree -2 \", acc, p, r, f1])\n",
        "\n",
        "acc= round(accuracy_score(y_train, train_pred_dt_d3), 2)\n",
        "[p, r, f1, _]=  precision_recall_fscore_support(y_train, train_pred_dt_d3, average='micro')\n",
        "train_results.append([\"DecisionTree -3 \", acc, p, r, f1])\n",
        "\n",
        "\n",
        "acc= round(accuracy_score(y_train, train_pred_dt_d4), 2)\n",
        "[p, r, f1, _]=  precision_recall_fscore_support(y_train, train_pred_dt_d4, average='micro')\n",
        "train_results.append([\"DecisionTree -4 \", acc, p, r, f1])\n",
        "\n",
        "\n",
        "\n",
        "acc= round(accuracy_score(y_train, train_pred_rf_e), 2)\n",
        "[p, r, f1, _]=  precision_recall_fscore_support(y_train, train_pred_rf_e, average='micro')\n",
        "train_results.append([\"Random Forest\", acc, p, r, f1])\n",
        "\n",
        "\n",
        "acc= round(accuracy_score(y_train, train_pred_gb_f) , 2)\n",
        "[p, r, f1, _]=  precision_recall_fscore_support(y_train, train_pred_gb_f, average='micro')\n",
        "train_results.append([\"Gradient Boost\", acc, p, r, f1])\n",
        "\n",
        "acc= round(accuracy_score(y_train, train_pred_nbbag_g), 2)\n",
        "[p, r, f1, _]=  precision_recall_fscore_support(y_train, train_pred_nbbag_g, average='micro')\n",
        "train_results.append([\"Bagging with NB\", acc, p, r, f1])\n",
        "\n",
        "\n",
        "acc= round(accuracy_score(y_train, train_pred_dtbag_g), 2)\n",
        "[p, r, f1, _]=  precision_recall_fscore_support(y_train, train_pred_dtbag_g, average='micro')\n",
        "train_results.append([\"Bagging with DT\", acc, p, r, f1])\n",
        "\n",
        "\n",
        "acc= round(accuracy_score(y_train, train_pred_adab_h), 2)\n",
        "[p, r, f1, _]=  precision_recall_fscore_support(y_train, train_pred_adab_h, average='micro')\n",
        "train_results.append([\"AdaBoost\", acc, p, r, f1])\n",
        "\n",
        "\n",
        "\n",
        "acc= round(accuracy_score(y_train, train_pred_voting_i), 2)\n",
        "[p, r, f1, _]=  precision_recall_fscore_support(y_train, train_pred_voting_i, average='micro')\n",
        "train_results.append([\"Voting\", acc, p, r, f1])\n",
        "\n",
        "\n",
        "acc= round(accuracy_score(y_train, train_pred_knn_j), 2)\n",
        "[p, r, f1, _]=  precision_recall_fscore_support(y_train, train_pred_knn_j, average='micro')\n",
        "train_results.append([\"KNN\", acc, p, r, f1])\n",
        "\n",
        "\n",
        "acc= round(accuracy_score(y_train, train_pred_voting_all), 2)\n",
        "[p, r, f1, _]=  precision_recall_fscore_support(y_train, train_pred_voting_all, average='micro')\n",
        "train_results.append([\"Voting All\", acc, p, r, f1])\n",
        "\n"
      ],
      "execution_count": 0,
      "outputs": []
    },
    {
      "metadata": {
        "id": "KgBRkrrgzxmm",
        "colab_type": "code",
        "outputId": "c0b8a084-03bd-4d43-b0a7-1bd486030d48",
        "colab": {
          "base_uri": "https://localhost:8080/",
          "height": 386
        }
      },
      "cell_type": "code",
      "source": [
        "from tabulate import tabulate\n",
        "print(\"--------------> Training Data Results <--------------\")\n",
        "print(\"Classfier           Accurcy  Precision  Recall  F1Score\")\n",
        "print(tabulate(train_results))"
      ],
      "execution_count": 0,
      "outputs": [
        {
          "output_type": "stream",
          "text": [
            "--------------> Training Data Results <--------------\n",
            "Classfier           Accurcy  Precision  Recall  F1Score\n",
            "-------------------  ----  --------  --------  --------\n",
            "SVM_Linear           0.8   0.800562  0.800562  0.800562\n",
            "SVM_Poly             0.88  0.875     0.875     0.875\n",
            "SVM_RBF              0.8   0.800562  0.800562  0.800562\n",
            "Naive Bayes          0.79  0.787921  0.787921  0.787921\n",
            "Logistic Regression  0.8   0.801966  0.801966  0.801966\n",
            "DecisionTree -1      0.9   0.901685  0.901685  0.901685\n",
            "DecisionTree -2      0.9   0.901685  0.901685  0.901685\n",
            "DecisionTree -3      0.9   0.901685  0.901685  0.901685\n",
            "DecisionTree -4      0.78  0.783708  0.783708  0.783708\n",
            "Random Forest        0.87  0.865169  0.865169  0.865169\n",
            "Gradient Boost       0.85  0.852528  0.852528  0.852528\n",
            "Bagging with NB      0.79  0.789326  0.789326  0.789326\n",
            "Bagging with DT      0.9   0.901685  0.901685  0.901685\n",
            "AdaBoost             0.9   0.901685  0.901685  0.901685\n",
            "Voting               0.9   0.901685  0.901685  0.901685\n",
            "KNN                  0.86  0.858146  0.858146  0.858146\n",
            "Voting All           0.89  0.889045  0.889045  0.889045\n",
            "-------------------  ----  --------  --------  --------\n"
          ],
          "name": "stdout"
        }
      ]
    },
    {
      "metadata": {
        "id": "cLpvtki40l6E",
        "colab_type": "code",
        "outputId": "528119a2-7f68-4311-a0d1-57122dd63a85",
        "colab": {
          "base_uri": "https://localhost:8080/",
          "height": 442
        }
      },
      "cell_type": "code",
      "source": [
        "clas=[]\n",
        "acc = []\n",
        "p =[]\n",
        "r =[]\n",
        "f1=[]\n",
        "\n",
        "for res in train_results:\n",
        "  clas.append(res[0])\n",
        "  acc.append(res[1])\n",
        "  p.append(res[2])\n",
        "  r.append(res[3])\n",
        "  f1.append(res[4])\n",
        "\n",
        "\n",
        "x_pos = np.arange(1,len(clas)+1)\n",
        "plt.xticks(x_pos, clas,rotation=90)\n",
        "plt.xlabel('Classifiers')\n",
        "plt.ylim(0.75, 1)\n",
        "plt.plot(x_pos, acc,'r*')\n",
        "plt.plot(x_pos, acc, 'r', label='Accurcy')\n",
        "\n",
        "plt.plot(x_pos, p,'b*')\n",
        "plt.plot(x_pos, p, 'b', label='Precision')\n",
        "\n",
        "plt.plot(x_pos, r,'k*')\n",
        "plt.plot(x_pos, r, 'k', label='Recall')\n",
        "\n",
        "plt.plot(x_pos, f1,'*')\n",
        "plt.plot(x_pos, f1, label='F1-Score')\n",
        "\n",
        "plt.legend()\n",
        "\n",
        "plt.show()"
      ],
      "execution_count": 0,
      "outputs": [
        {
          "output_type": "display_data",
          "data": {
            "image/png": "[encoded data removed]",
            "text/plain": [
              "<Figure size 576x396 with 1 Axes>"
            ]
          },
          "metadata": {
            "tags": []
          }
        }
      ]
    },
    {
      "metadata": {
        "id": "ivOh1EbD0P_-",
        "colab_type": "text"
      },
      "cell_type": "markdown",
      "source": [
        "#### Validation Data Prediction Evaluation"
      ]
    },
    {
      "metadata": {
        "id": "_JRGd-dDkull",
        "colab_type": "code",
        "outputId": "e3ae1cfa-3673-496a-d211-52cb7b6f0e7a",
        "colab": {
          "base_uri": "https://localhost:8080/",
          "height": 263
        }
      },
      "cell_type": "code",
      "source": [
        "from sklearn.metrics import accuracy_score\n",
        "from sklearn.metrics import precision_recall_fscore_support\n",
        "\n",
        "\n",
        "valid_pred_svm_a1= svm_a1.predict(x_valid)\n",
        "valid_pred_svm_a2= svm_a2.predict(x_valid)\n",
        "valid_pred_svm_a3= svm_a3.predict(x_valid)\n",
        "\n",
        "valid_pred_nb_b= nb_b.predict(x_valid)\n",
        "\n",
        "valid_pred_lr_c= lr_c.predict(x_valid)\n",
        "\n",
        "valid_pred_dt_d1= dt_d1.predict(x_valid)\n",
        "valid_pred_dt_d2= dt_d2.predict(x_valid)\n",
        "valid_pred_dt_d3= dt_d3.predict(x_valid)\n",
        "valid_pred_dt_d4= dt_d4.predict(x_valid)\n",
        "\n",
        "valid_pred_rf_e= rf_e.predict(x_valid)\n",
        "\n",
        "valid_pred_gb_f= gb_f.predict(x_valid)\n",
        "\n",
        "\n",
        "valid_pred_nbbag_g = nbbag_g.predict(x_valid)\n",
        "valid_pred_dtbag_g = dtbag_g.predict(x_valid)\n",
        "\n",
        "valid_pred_adab_h = adab_h.predict(x_valid)\n",
        "\n",
        "valid_pred_voting_i = voting_i.predict(x_valid)\n",
        "\n",
        "valid_pred_knn_j = knn_j.predict(x_valid)\n",
        "\n",
        "valid_pred_voting_all = voting_all.predict(x_valid)\n"
      ],
      "execution_count": 0,
      "outputs": [
        {
          "output_type": "stream",
          "text": [
            "/usr/local/lib/python3.6/dist-packages/sklearn/pipeline.py:331: DataConversionWarning: Data with input dtype int64 were all converted to float64 by StandardScaler.\n",
            "  Xt = transform.transform(Xt)\n",
            "/usr/local/lib/python3.6/dist-packages/sklearn/pipeline.py:331: DataConversionWarning: Data with input dtype int64 were all converted to float64 by StandardScaler.\n",
            "  Xt = transform.transform(Xt)\n",
            "/usr/local/lib/python3.6/dist-packages/sklearn/pipeline.py:331: DataConversionWarning: Data with input dtype int64 were all converted to float64 by StandardScaler.\n",
            "  Xt = transform.transform(Xt)\n",
            "/usr/local/lib/python3.6/dist-packages/sklearn/pipeline.py:331: DataConversionWarning: Data with input dtype int64 were all converted to float64 by StandardScaler.\n",
            "  Xt = transform.transform(Xt)\n",
            "/usr/local/lib/python3.6/dist-packages/sklearn/pipeline.py:331: DataConversionWarning: Data with input dtype int64 were all converted to float64 by StandardScaler.\n",
            "  Xt = transform.transform(Xt)\n",
            "/usr/local/lib/python3.6/dist-packages/sklearn/pipeline.py:331: DataConversionWarning: Data with input dtype int64 were all converted to float64 by StandardScaler.\n",
            "  Xt = transform.transform(Xt)\n",
            "/usr/local/lib/python3.6/dist-packages/sklearn/pipeline.py:331: DataConversionWarning: Data with input dtype int64 were all converted to float64 by StandardScaler.\n",
            "  Xt = transform.transform(Xt)\n"
          ],
          "name": "stderr"
        }
      ]
    },
    {
      "metadata": {
        "id": "-pXkJx9ehi5l",
        "colab_type": "code",
        "outputId": "4d676738-4c19-468f-ef03-7daeee53ea0a",
        "colab": {
          "base_uri": "https://localhost:8080/",
          "height": 2676
        }
      },
      "cell_type": "code",
      "source": [
        "valid_results =[]\n",
        "\n",
        "acc= round(accuracy_score(y_valid, valid_pred_svm_a1), 2)\n",
        "[p, r, f1, _]=  precision_recall_fscore_support(y_valid, valid_pred_svm_a1, average='micro')\n",
        "valid_results.append([\"SVM_Linear\", acc, p, r, f1])\n",
        "\n",
        "acc= round(accuracy_score(y_valid, valid_pred_svm_a2), 2)\n",
        "[p, r, f1, _]=  precision_recall_fscore_support(y_valid, valid_pred_svm_a2, average='micro')\n",
        "valid_results.append([\"SVM_Poly\", acc, p, r, f1])\n",
        "\n",
        "acc= round(accuracy_score(y_valid, valid_pred_svm_a1), 2)\n",
        "[p, r, f1, _]=  precision_recall_fscore_support(y_valid, valid_pred_svm_a1, average='micro')\n",
        "valid_results.append([\"SVM_RBF\", acc, p, r, f1])\n",
        "\n",
        "\n",
        "\n",
        "acc= round(accuracy_score(y_valid, valid_pred_nb_b), 2)\n",
        "[p, r, f1, _]=  precision_recall_fscore_support(y_valid, valid_pred_nb_b, average='micro')\n",
        "valid_results.append([\"Naive Bayes\", acc, p, r, f1])\n",
        "\n",
        "\n",
        "acc= round(accuracy_score(y_valid, valid_pred_lr_c), 2)\n",
        "[p, r, f1, _]=  precision_recall_fscore_support(y_valid, valid_pred_lr_c, average='micro')\n",
        "valid_results.append([\"Logistic Regression\", acc, p, r, f1])\n",
        "\n",
        "\n",
        "acc= round(accuracy_score(y_valid, valid_pred_dt_d1), 2)\n",
        "[p, r, f1, _]=  precision_recall_fscore_support(y_valid, valid_pred_dt_d1, average='micro')\n",
        "valid_results.append([\"DecisionTree -1 \", acc, p, r, f1])\n",
        "\n",
        "acc= round(accuracy_score(y_valid, valid_pred_dt_d2), 2)\n",
        "[p, r, f1, _]=  precision_recall_fscore_support(y_valid, valid_pred_dt_d2, average='micro')\n",
        "valid_results.append([\"DecisionTree -2 \", acc, p, r, f1])\n",
        "\n",
        "acc= round(accuracy_score(y_valid, valid_pred_dt_d3), 2)\n",
        "[p, r, f1, _]=  precision_recall_fscore_support(y_valid, valid_pred_dt_d3, average='micro')\n",
        "valid_results.append([\"DecisionTree -3 \", acc, p, r, f1])\n",
        "\n",
        "\n",
        "acc= round(accuracy_score(y_valid, valid_pred_dt_d4), 2)\n",
        "[p, r, f1, _]=  precision_recall_fscore_support(y_valid, valid_pred_dt_d4, average='micro')\n",
        "valid_results.append([\"DecisionTree -4 \", acc, p, r, f1])\n",
        "\n",
        "\n",
        "\n",
        "acc= round(accuracy_score(y_valid, valid_pred_rf_e), 2)\n",
        "[p, r, f1, _]=  precision_recall_fscore_support(y_valid, valid_pred_rf_e, average='micro')\n",
        "valid_results.append([\"Random Forest\", acc, p, r, f1])\n",
        "\n",
        "\n",
        "acc= round(accuracy_score(y_valid, valid_pred_gb_f) , 2)\n",
        "[p, r, f1, _]=  precision_recall_fscore_support(y_valid, valid_pred_gb_f, average='micro')\n",
        "valid_results.append([\"Gradient Boost\", acc, p, r, f1])\n",
        "\n",
        "acc= round(accuracy_score(y_valid, valid_pred_nbbag_g), 2)\n",
        "[p, r, f1, _]=  precision_recall_fscore_support(y_valid, valid_pred_nbbag_g, average='micro')\n",
        "valid_results.append([\"Bagging with NB\", acc, p, r, f1])\n",
        "\n",
        "\n",
        "acc= round(accuracy_score(y_valid, valid_pred_dtbag_g), 2)\n",
        "[p, r, f1, _]=  precision_recall_fscore_support(y_valid, valid_pred_dtbag_g, average='micro')\n",
        "valid_results.append([\"Bagging with DT\", acc, p, r, f1])\n",
        "\n",
        "\n",
        "acc= round(accuracy_score(y_valid, valid_pred_adab_h), 2)\n",
        "[p, r, f1, _]=  precision_recall_fscore_support(y_valid, valid_pred_adab_h, average='micro')\n",
        "valid_results.append([\"AdaBoost\", acc, p, r, f1])\n",
        "\n",
        "\n",
        "\n",
        "acc= round(accuracy_score(y_valid, valid_pred_voting_i), 2)\n",
        "[p, r, f1, _]=  precision_recall_fscore_support(y_valid, valid_pred_voting_i, average='micro')\n",
        "valid_results.append([\"Voting\", acc, p, r, f1])\n",
        "\n",
        "\n",
        "\n",
        "acc= round(accuracy_score(y_valid, valid_pred_knn_j), 2)\n",
        "[p, r, f1, _]=  precision_recall_fscore_support(y_valid, valid_pred_knn_j, average='micro')\n",
        "valid_results.append([\"KNN\", acc, p, r, f1])\n",
        "\n",
        "\n",
        "acc= round(accuracy_score(y_valid, valid_pred_voting_all), 2)\n",
        "[p, r, f1, _]=  precision_recall_fscore_support(y_valid, valid_pred_voting_all, average='micro')\n",
        "valid.append([\"Voting All\", acc, p, r, f1])\n"
      ],
      "execution_count": 0,
      "outputs": [
        {
          "output_type": "stream",
          "text": [
            "/usr/local/lib/python3.6/dist-packages/pandas/core/indexes/api.py:87: RuntimeWarning: '<' not supported between instances of 'str' and 'int', sort order is undefined for incomparable objects\n",
            "  result = result.union(other)\n"
          ],
          "name": "stderr"
        },
        {
          "output_type": "execute_result",
          "data": {
            "text/html": [
              "<div>\n",
              "<style scoped>\n",
              "    .dataframe tbody tr th:only-of-type {\n",
              "        vertical-align: middle;\n",
              "    }\n",
              "\n",
              "    .dataframe tbody tr th {\n",
              "        vertical-align: top;\n",
              "    }\n",
              "\n",
              "    .dataframe thead th {\n",
              "        text-align: right;\n",
              "    }\n",
              "</style>\n",
              "<table border=\"1\" class=\"dataframe\">\n",
              "  <thead>\n",
              "    <tr style=\"text-align: right;\">\n",
              "      <th></th>\n",
              "      <th>PassengerId</th>\n",
              "      <th>Survived</th>\n",
              "      <th>Pclass</th>\n",
              "      <th>Name</th>\n",
              "      <th>Sex</th>\n",
              "      <th>Age</th>\n",
              "      <th>SibSp</th>\n",
              "      <th>Parch</th>\n",
              "      <th>Ticket</th>\n",
              "      <th>Fare</th>\n",
              "      <th>Cabin</th>\n",
              "      <th>Embarked</th>\n",
              "      <th>FamilySize</th>\n",
              "      <th>IsAlone</th>\n",
              "      <th>Title</th>\n",
              "      <th>0</th>\n",
              "    </tr>\n",
              "  </thead>\n",
              "  <tbody>\n",
              "    <tr>\n",
              "      <th>0</th>\n",
              "      <td>73.0</td>\n",
              "      <td>0.0</td>\n",
              "      <td>2.0</td>\n",
              "      <td>Hood, Mr. Ambrose Jr</td>\n",
              "      <td>1.0</td>\n",
              "      <td>1.0</td>\n",
              "      <td>0.0</td>\n",
              "      <td>0.0</td>\n",
              "      <td>S.O.C. 14879</td>\n",
              "      <td>3.0</td>\n",
              "      <td>&lt;function &lt;lambda&gt; at 0x7f67b9f221e0&gt;</td>\n",
              "      <td>0.0</td>\n",
              "      <td>1.0</td>\n",
              "      <td>1.0</td>\n",
              "      <td>1.0</td>\n",
              "      <td>NaN</td>\n",
              "    </tr>\n",
              "    <tr>\n",
              "      <th>1</th>\n",
              "      <td>140.0</td>\n",
              "      <td>0.0</td>\n",
              "      <td>1.0</td>\n",
              "      <td>Giglio, Mr. Victor</td>\n",
              "      <td>1.0</td>\n",
              "      <td>1.0</td>\n",
              "      <td>0.0</td>\n",
              "      <td>0.0</td>\n",
              "      <td>PC 17593</td>\n",
              "      <td>3.0</td>\n",
              "      <td>B86</td>\n",
              "      <td>1.0</td>\n",
              "      <td>1.0</td>\n",
              "      <td>1.0</td>\n",
              "      <td>1.0</td>\n",
              "      <td>NaN</td>\n",
              "    </tr>\n",
              "    <tr>\n",
              "      <th>2</th>\n",
              "      <td>256.0</td>\n",
              "      <td>1.0</td>\n",
              "      <td>3.0</td>\n",
              "      <td>Touma, Mrs. Darwis (Hanne Youssef Razi)</td>\n",
              "      <td>0.0</td>\n",
              "      <td>2.0</td>\n",
              "      <td>0.0</td>\n",
              "      <td>2.0</td>\n",
              "      <td>2650</td>\n",
              "      <td>2.0</td>\n",
              "      <td>&lt;function &lt;lambda&gt; at 0x7f67b9f221e0&gt;</td>\n",
              "      <td>1.0</td>\n",
              "      <td>3.0</td>\n",
              "      <td>0.0</td>\n",
              "      <td>3.0</td>\n",
              "      <td>NaN</td>\n",
              "    </tr>\n",
              "    <tr>\n",
              "      <th>3</th>\n",
              "      <td>238.0</td>\n",
              "      <td>1.0</td>\n",
              "      <td>2.0</td>\n",
              "      <td>Collyer, Miss. Marjorie \"Lottie\"</td>\n",
              "      <td>0.0</td>\n",
              "      <td>0.0</td>\n",
              "      <td>0.0</td>\n",
              "      <td>2.0</td>\n",
              "      <td>C.A. 31921</td>\n",
              "      <td>2.0</td>\n",
              "      <td>&lt;function &lt;lambda&gt; at 0x7f67b9f221e0&gt;</td>\n",
              "      <td>0.0</td>\n",
              "      <td>3.0</td>\n",
              "      <td>0.0</td>\n",
              "      <td>2.0</td>\n",
              "      <td>NaN</td>\n",
              "    </tr>\n",
              "    <tr>\n",
              "      <th>4</th>\n",
              "      <td>355.0</td>\n",
              "      <td>0.0</td>\n",
              "      <td>3.0</td>\n",
              "      <td>Yousif, Mr. Wazli</td>\n",
              "      <td>1.0</td>\n",
              "      <td>2.0</td>\n",
              "      <td>0.0</td>\n",
              "      <td>0.0</td>\n",
              "      <td>2647</td>\n",
              "      <td>0.0</td>\n",
              "      <td>&lt;function &lt;lambda&gt; at 0x7f67b9f221e0&gt;</td>\n",
              "      <td>1.0</td>\n",
              "      <td>1.0</td>\n",
              "      <td>1.0</td>\n",
              "      <td>1.0</td>\n",
              "      <td>NaN</td>\n",
              "    </tr>\n",
              "    <tr>\n",
              "      <th>5</th>\n",
              "      <td>264.0</td>\n",
              "      <td>0.0</td>\n",
              "      <td>1.0</td>\n",
              "      <td>Harrison, Mr. William</td>\n",
              "      <td>1.0</td>\n",
              "      <td>3.0</td>\n",
              "      <td>0.0</td>\n",
              "      <td>0.0</td>\n",
              "      <td>112059</td>\n",
              "      <td>0.0</td>\n",
              "      <td>B94</td>\n",
              "      <td>0.0</td>\n",
              "      <td>1.0</td>\n",
              "      <td>1.0</td>\n",
              "      <td>1.0</td>\n",
              "      <td>NaN</td>\n",
              "    </tr>\n",
              "    <tr>\n",
              "      <th>6</th>\n",
              "      <td>224.0</td>\n",
              "      <td>0.0</td>\n",
              "      <td>3.0</td>\n",
              "      <td>Nenkoff, Mr. Christo</td>\n",
              "      <td>1.0</td>\n",
              "      <td>3.0</td>\n",
              "      <td>0.0</td>\n",
              "      <td>0.0</td>\n",
              "      <td>349234</td>\n",
              "      <td>0.0</td>\n",
              "      <td>&lt;function &lt;lambda&gt; at 0x7f67b9f221e0&gt;</td>\n",
              "      <td>0.0</td>\n",
              "      <td>1.0</td>\n",
              "      <td>1.0</td>\n",
              "      <td>1.0</td>\n",
              "      <td>NaN</td>\n",
              "    </tr>\n",
              "    <tr>\n",
              "      <th>7</th>\n",
              "      <td>653.0</td>\n",
              "      <td>0.0</td>\n",
              "      <td>3.0</td>\n",
              "      <td>Kalvik, Mr. Johannes Halvorsen</td>\n",
              "      <td>1.0</td>\n",
              "      <td>1.0</td>\n",
              "      <td>0.0</td>\n",
              "      <td>0.0</td>\n",
              "      <td>8475</td>\n",
              "      <td>1.0</td>\n",
              "      <td>&lt;function &lt;lambda&gt; at 0x7f67b9f221e0&gt;</td>\n",
              "      <td>0.0</td>\n",
              "      <td>1.0</td>\n",
              "      <td>1.0</td>\n",
              "      <td>1.0</td>\n",
              "      <td>NaN</td>\n",
              "    </tr>\n",
              "    <tr>\n",
              "      <th>8</th>\n",
              "      <td>512.0</td>\n",
              "      <td>0.0</td>\n",
              "      <td>3.0</td>\n",
              "      <td>Webber, Mr. James</td>\n",
              "      <td>1.0</td>\n",
              "      <td>3.0</td>\n",
              "      <td>0.0</td>\n",
              "      <td>0.0</td>\n",
              "      <td>SOTON/OQ 3101316</td>\n",
              "      <td>1.0</td>\n",
              "      <td>&lt;function &lt;lambda&gt; at 0x7f67b9f221e0&gt;</td>\n",
              "      <td>0.0</td>\n",
              "      <td>1.0</td>\n",
              "      <td>1.0</td>\n",
              "      <td>1.0</td>\n",
              "      <td>NaN</td>\n",
              "    </tr>\n",
              "    <tr>\n",
              "      <th>9</th>\n",
              "      <td>358.0</td>\n",
              "      <td>0.0</td>\n",
              "      <td>2.0</td>\n",
              "      <td>Funk, Miss. Annie Clemmer</td>\n",
              "      <td>0.0</td>\n",
              "      <td>3.0</td>\n",
              "      <td>0.0</td>\n",
              "      <td>0.0</td>\n",
              "      <td>237671</td>\n",
              "      <td>1.0</td>\n",
              "      <td>&lt;function &lt;lambda&gt; at 0x7f67b9f221e0&gt;</td>\n",
              "      <td>0.0</td>\n",
              "      <td>1.0</td>\n",
              "      <td>1.0</td>\n",
              "      <td>2.0</td>\n",
              "      <td>NaN</td>\n",
              "    </tr>\n",
              "    <tr>\n",
              "      <th>10</th>\n",
              "      <td>795.0</td>\n",
              "      <td>0.0</td>\n",
              "      <td>3.0</td>\n",
              "      <td>Dantcheff, Mr. Ristiu</td>\n",
              "      <td>1.0</td>\n",
              "      <td>1.0</td>\n",
              "      <td>0.0</td>\n",
              "      <td>0.0</td>\n",
              "      <td>349203</td>\n",
              "      <td>0.0</td>\n",
              "      <td>&lt;function &lt;lambda&gt; at 0x7f67b9f221e0&gt;</td>\n",
              "      <td>0.0</td>\n",
              "      <td>1.0</td>\n",
              "      <td>1.0</td>\n",
              "      <td>1.0</td>\n",
              "      <td>NaN</td>\n",
              "    </tr>\n",
              "    <tr>\n",
              "      <th>11</th>\n",
              "      <td>802.0</td>\n",
              "      <td>1.0</td>\n",
              "      <td>2.0</td>\n",
              "      <td>Collyer, Mrs. Harvey (Charlotte Annie Tate)</td>\n",
              "      <td>0.0</td>\n",
              "      <td>2.0</td>\n",
              "      <td>1.0</td>\n",
              "      <td>1.0</td>\n",
              "      <td>C.A. 31921</td>\n",
              "      <td>2.0</td>\n",
              "      <td>&lt;function &lt;lambda&gt; at 0x7f67b9f221e0&gt;</td>\n",
              "      <td>0.0</td>\n",
              "      <td>3.0</td>\n",
              "      <td>0.0</td>\n",
              "      <td>3.0</td>\n",
              "      <td>NaN</td>\n",
              "    </tr>\n",
              "    <tr>\n",
              "      <th>12</th>\n",
              "      <td>170.0</td>\n",
              "      <td>0.0</td>\n",
              "      <td>3.0</td>\n",
              "      <td>Ling, Mr. Lee</td>\n",
              "      <td>1.0</td>\n",
              "      <td>2.0</td>\n",
              "      <td>0.0</td>\n",
              "      <td>0.0</td>\n",
              "      <td>1601</td>\n",
              "      <td>3.0</td>\n",
              "      <td>&lt;function &lt;lambda&gt; at 0x7f67b9f221e0&gt;</td>\n",
              "      <td>0.0</td>\n",
              "      <td>1.0</td>\n",
              "      <td>1.0</td>\n",
              "      <td>1.0</td>\n",
              "      <td>NaN</td>\n",
              "    </tr>\n",
              "    <tr>\n",
              "      <th>13</th>\n",
              "      <td>439.0</td>\n",
              "      <td>0.0</td>\n",
              "      <td>1.0</td>\n",
              "      <td>Fortune, Mr. Mark</td>\n",
              "      <td>1.0</td>\n",
              "      <td>4.0</td>\n",
              "      <td>1.0</td>\n",
              "      <td>4.0</td>\n",
              "      <td>19950</td>\n",
              "      <td>3.0</td>\n",
              "      <td>C23 C25 C27</td>\n",
              "      <td>0.0</td>\n",
              "      <td>6.0</td>\n",
              "      <td>0.0</td>\n",
              "      <td>1.0</td>\n",
              "      <td>NaN</td>\n",
              "    </tr>\n",
              "    <tr>\n",
              "      <th>14</th>\n",
              "      <td>84.0</td>\n",
              "      <td>0.0</td>\n",
              "      <td>1.0</td>\n",
              "      <td>Carrau, Mr. Francisco M</td>\n",
              "      <td>1.0</td>\n",
              "      <td>2.0</td>\n",
              "      <td>0.0</td>\n",
              "      <td>0.0</td>\n",
              "      <td>113059</td>\n",
              "      <td>3.0</td>\n",
              "      <td>&lt;function &lt;lambda&gt; at 0x7f67b9f221e0&gt;</td>\n",
              "      <td>0.0</td>\n",
              "      <td>1.0</td>\n",
              "      <td>1.0</td>\n",
              "      <td>1.0</td>\n",
              "      <td>NaN</td>\n",
              "    </tr>\n",
              "    <tr>\n",
              "      <th>15</th>\n",
              "      <td>857.0</td>\n",
              "      <td>1.0</td>\n",
              "      <td>1.0</td>\n",
              "      <td>Wick, Mrs. George Dennick (Mary Hitchcock)</td>\n",
              "      <td>0.0</td>\n",
              "      <td>4.0</td>\n",
              "      <td>1.0</td>\n",
              "      <td>1.0</td>\n",
              "      <td>36928</td>\n",
              "      <td>3.0</td>\n",
              "      <td>&lt;function &lt;lambda&gt; at 0x7f67b9f221e0&gt;</td>\n",
              "      <td>0.0</td>\n",
              "      <td>3.0</td>\n",
              "      <td>0.0</td>\n",
              "      <td>3.0</td>\n",
              "      <td>NaN</td>\n",
              "    </tr>\n",
              "    <tr>\n",
              "      <th>16</th>\n",
              "      <td>423.0</td>\n",
              "      <td>0.0</td>\n",
              "      <td>3.0</td>\n",
              "      <td>Zimmerman, Mr. Leo</td>\n",
              "      <td>1.0</td>\n",
              "      <td>2.0</td>\n",
              "      <td>0.0</td>\n",
              "      <td>0.0</td>\n",
              "      <td>315082</td>\n",
              "      <td>0.0</td>\n",
              "      <td>&lt;function &lt;lambda&gt; at 0x7f67b9f221e0&gt;</td>\n",
              "      <td>0.0</td>\n",
              "      <td>1.0</td>\n",
              "      <td>1.0</td>\n",
              "      <td>1.0</td>\n",
              "      <td>NaN</td>\n",
              "    </tr>\n",
              "    <tr>\n",
              "      <th>17</th>\n",
              "      <td>456.0</td>\n",
              "      <td>1.0</td>\n",
              "      <td>3.0</td>\n",
              "      <td>Jalsevac, Mr. Ivan</td>\n",
              "      <td>1.0</td>\n",
              "      <td>2.0</td>\n",
              "      <td>0.0</td>\n",
              "      <td>0.0</td>\n",
              "      <td>349240</td>\n",
              "      <td>0.0</td>\n",
              "      <td>&lt;function &lt;lambda&gt; at 0x7f67b9f221e0&gt;</td>\n",
              "      <td>1.0</td>\n",
              "      <td>1.0</td>\n",
              "      <td>1.0</td>\n",
              "      <td>1.0</td>\n",
              "      <td>NaN</td>\n",
              "    </tr>\n",
              "    <tr>\n",
              "      <th>18</th>\n",
              "      <td>216.0</td>\n",
              "      <td>1.0</td>\n",
              "      <td>1.0</td>\n",
              "      <td>Newell, Miss. Madeleine</td>\n",
              "      <td>0.0</td>\n",
              "      <td>2.0</td>\n",
              "      <td>1.0</td>\n",
              "      <td>0.0</td>\n",
              "      <td>35273</td>\n",
              "      <td>3.0</td>\n",
              "      <td>D36</td>\n",
              "      <td>1.0</td>\n",
              "      <td>2.0</td>\n",
              "      <td>0.0</td>\n",
              "      <td>2.0</td>\n",
              "      <td>NaN</td>\n",
              "    </tr>\n",
              "    <tr>\n",
              "      <th>19</th>\n",
              "      <td>669.0</td>\n",
              "      <td>0.0</td>\n",
              "      <td>3.0</td>\n",
              "      <td>Cook, Mr. Jacob</td>\n",
              "      <td>1.0</td>\n",
              "      <td>4.0</td>\n",
              "      <td>0.0</td>\n",
              "      <td>0.0</td>\n",
              "      <td>A/5 3536</td>\n",
              "      <td>1.0</td>\n",
              "      <td>&lt;function &lt;lambda&gt; at 0x7f67b9f221e0&gt;</td>\n",
              "      <td>0.0</td>\n",
              "      <td>1.0</td>\n",
              "      <td>1.0</td>\n",
              "      <td>1.0</td>\n",
              "      <td>NaN</td>\n",
              "    </tr>\n",
              "    <tr>\n",
              "      <th>20</th>\n",
              "      <td>58.0</td>\n",
              "      <td>0.0</td>\n",
              "      <td>3.0</td>\n",
              "      <td>Novel, Mr. Mansouer</td>\n",
              "      <td>1.0</td>\n",
              "      <td>2.0</td>\n",
              "      <td>0.0</td>\n",
              "      <td>0.0</td>\n",
              "      <td>2697</td>\n",
              "      <td>0.0</td>\n",
              "      <td>&lt;function &lt;lambda&gt; at 0x7f67b9f221e0&gt;</td>\n",
              "      <td>1.0</td>\n",
              "      <td>1.0</td>\n",
              "      <td>1.0</td>\n",
              "      <td>1.0</td>\n",
              "      <td>NaN</td>\n",
              "    </tr>\n",
              "    <tr>\n",
              "      <th>21</th>\n",
              "      <td>299.0</td>\n",
              "      <td>1.0</td>\n",
              "      <td>1.0</td>\n",
              "      <td>Saalfeld, Mr. Adolphe</td>\n",
              "      <td>1.0</td>\n",
              "      <td>3.0</td>\n",
              "      <td>0.0</td>\n",
              "      <td>0.0</td>\n",
              "      <td>19988</td>\n",
              "      <td>2.0</td>\n",
              "      <td>C106</td>\n",
              "      <td>0.0</td>\n",
              "      <td>1.0</td>\n",
              "      <td>1.0</td>\n",
              "      <td>1.0</td>\n",
              "      <td>NaN</td>\n",
              "    </tr>\n",
              "    <tr>\n",
              "      <th>22</th>\n",
              "      <td>161.0</td>\n",
              "      <td>0.0</td>\n",
              "      <td>3.0</td>\n",
              "      <td>Cribb, Mr. John Hatfield</td>\n",
              "      <td>1.0</td>\n",
              "      <td>4.0</td>\n",
              "      <td>0.0</td>\n",
              "      <td>1.0</td>\n",
              "      <td>371362</td>\n",
              "      <td>2.0</td>\n",
              "      <td>&lt;function &lt;lambda&gt; at 0x7f67b9f221e0&gt;</td>\n",
              "      <td>0.0</td>\n",
              "      <td>2.0</td>\n",
              "      <td>0.0</td>\n",
              "      <td>1.0</td>\n",
              "      <td>NaN</td>\n",
              "    </tr>\n",
              "    <tr>\n",
              "      <th>23</th>\n",
              "      <td>518.0</td>\n",
              "      <td>0.0</td>\n",
              "      <td>3.0</td>\n",
              "      <td>Ryan, Mr. Patrick</td>\n",
              "      <td>1.0</td>\n",
              "      <td>4.0</td>\n",
              "      <td>0.0</td>\n",
              "      <td>0.0</td>\n",
              "      <td>371110</td>\n",
              "      <td>2.0</td>\n",
              "      <td>&lt;function &lt;lambda&gt; at 0x7f67b9f221e0&gt;</td>\n",
              "      <td>2.0</td>\n",
              "      <td>1.0</td>\n",
              "      <td>1.0</td>\n",
              "      <td>1.0</td>\n",
              "      <td>NaN</td>\n",
              "    </tr>\n",
              "    <tr>\n",
              "      <th>24</th>\n",
              "      <td>114.0</td>\n",
              "      <td>0.0</td>\n",
              "      <td>3.0</td>\n",
              "      <td>Jussila, Miss. Katriina</td>\n",
              "      <td>0.0</td>\n",
              "      <td>1.0</td>\n",
              "      <td>1.0</td>\n",
              "      <td>0.0</td>\n",
              "      <td>4136</td>\n",
              "      <td>1.0</td>\n",
              "      <td>&lt;function &lt;lambda&gt; at 0x7f67b9f221e0&gt;</td>\n",
              "      <td>0.0</td>\n",
              "      <td>2.0</td>\n",
              "      <td>0.0</td>\n",
              "      <td>2.0</td>\n",
              "      <td>NaN</td>\n",
              "    </tr>\n",
              "    <tr>\n",
              "      <th>25</th>\n",
              "      <td>404.0</td>\n",
              "      <td>0.0</td>\n",
              "      <td>3.0</td>\n",
              "      <td>Hakkarainen, Mr. Pekka Pietari</td>\n",
              "      <td>1.0</td>\n",
              "      <td>2.0</td>\n",
              "      <td>1.0</td>\n",
              "      <td>0.0</td>\n",
              "      <td>STON/O2. 3101279</td>\n",
              "      <td>2.0</td>\n",
              "      <td>&lt;function &lt;lambda&gt; at 0x7f67b9f221e0&gt;</td>\n",
              "      <td>0.0</td>\n",
              "      <td>2.0</td>\n",
              "      <td>0.0</td>\n",
              "      <td>1.0</td>\n",
              "      <td>NaN</td>\n",
              "    </tr>\n",
              "    <tr>\n",
              "      <th>26</th>\n",
              "      <td>677.0</td>\n",
              "      <td>0.0</td>\n",
              "      <td>3.0</td>\n",
              "      <td>Sawyer, Mr. Frederick Charles</td>\n",
              "      <td>1.0</td>\n",
              "      <td>1.0</td>\n",
              "      <td>0.0</td>\n",
              "      <td>0.0</td>\n",
              "      <td>342826</td>\n",
              "      <td>1.0</td>\n",
              "      <td>&lt;function &lt;lambda&gt; at 0x7f67b9f221e0&gt;</td>\n",
              "      <td>0.0</td>\n",
              "      <td>1.0</td>\n",
              "      <td>1.0</td>\n",
              "      <td>1.0</td>\n",
              "      <td>NaN</td>\n",
              "    </tr>\n",
              "    <tr>\n",
              "      <th>27</th>\n",
              "      <td>408.0</td>\n",
              "      <td>1.0</td>\n",
              "      <td>2.0</td>\n",
              "      <td>Richards, Master. William Rowe</td>\n",
              "      <td>1.0</td>\n",
              "      <td>0.0</td>\n",
              "      <td>1.0</td>\n",
              "      <td>1.0</td>\n",
              "      <td>29106</td>\n",
              "      <td>2.0</td>\n",
              "      <td>&lt;function &lt;lambda&gt; at 0x7f67b9f221e0&gt;</td>\n",
              "      <td>0.0</td>\n",
              "      <td>3.0</td>\n",
              "      <td>0.0</td>\n",
              "      <td>4.0</td>\n",
              "      <td>NaN</td>\n",
              "    </tr>\n",
              "    <tr>\n",
              "      <th>28</th>\n",
              "      <td>671.0</td>\n",
              "      <td>1.0</td>\n",
              "      <td>2.0</td>\n",
              "      <td>Brown, Mrs. Thomas William Solomon (Elizabeth ...</td>\n",
              "      <td>0.0</td>\n",
              "      <td>3.0</td>\n",
              "      <td>1.0</td>\n",
              "      <td>1.0</td>\n",
              "      <td>29750</td>\n",
              "      <td>3.0</td>\n",
              "      <td>&lt;function &lt;lambda&gt; at 0x7f67b9f221e0&gt;</td>\n",
              "      <td>0.0</td>\n",
              "      <td>3.0</td>\n",
              "      <td>0.0</td>\n",
              "      <td>3.0</td>\n",
              "      <td>NaN</td>\n",
              "    </tr>\n",
              "    <tr>\n",
              "      <th>29</th>\n",
              "      <td>263.0</td>\n",
              "      <td>0.0</td>\n",
              "      <td>1.0</td>\n",
              "      <td>Taussig, Mr. Emil</td>\n",
              "      <td>1.0</td>\n",
              "      <td>4.0</td>\n",
              "      <td>1.0</td>\n",
              "      <td>1.0</td>\n",
              "      <td>110413</td>\n",
              "      <td>3.0</td>\n",
              "      <td>E67</td>\n",
              "      <td>0.0</td>\n",
              "      <td>3.0</td>\n",
              "      <td>0.0</td>\n",
              "      <td>1.0</td>\n",
              "      <td>NaN</td>\n",
              "    </tr>\n",
              "    <tr>\n",
              "      <th>...</th>\n",
              "      <td>...</td>\n",
              "      <td>...</td>\n",
              "      <td>...</td>\n",
              "      <td>...</td>\n",
              "      <td>...</td>\n",
              "      <td>...</td>\n",
              "      <td>...</td>\n",
              "      <td>...</td>\n",
              "      <td>...</td>\n",
              "      <td>...</td>\n",
              "      <td>...</td>\n",
              "      <td>...</td>\n",
              "      <td>...</td>\n",
              "      <td>...</td>\n",
              "      <td>...</td>\n",
              "      <td>...</td>\n",
              "    </tr>\n",
              "    <tr>\n",
              "      <th>154</th>\n",
              "      <td>763.0</td>\n",
              "      <td>1.0</td>\n",
              "      <td>3.0</td>\n",
              "      <td>Barah, Mr. Hanna Assi</td>\n",
              "      <td>1.0</td>\n",
              "      <td>1.0</td>\n",
              "      <td>0.0</td>\n",
              "      <td>0.0</td>\n",
              "      <td>2663</td>\n",
              "      <td>0.0</td>\n",
              "      <td>&lt;function &lt;lambda&gt; at 0x7f67b9f221e0&gt;</td>\n",
              "      <td>1.0</td>\n",
              "      <td>1.0</td>\n",
              "      <td>1.0</td>\n",
              "      <td>1.0</td>\n",
              "      <td>NaN</td>\n",
              "    </tr>\n",
              "    <tr>\n",
              "      <th>155</th>\n",
              "      <td>102.0</td>\n",
              "      <td>0.0</td>\n",
              "      <td>3.0</td>\n",
              "      <td>Petroff, Mr. Pastcho (\"Pentcho\")</td>\n",
              "      <td>1.0</td>\n",
              "      <td>2.0</td>\n",
              "      <td>0.0</td>\n",
              "      <td>0.0</td>\n",
              "      <td>349215</td>\n",
              "      <td>0.0</td>\n",
              "      <td>&lt;function &lt;lambda&gt; at 0x7f67b9f221e0&gt;</td>\n",
              "      <td>0.0</td>\n",
              "      <td>1.0</td>\n",
              "      <td>1.0</td>\n",
              "      <td>1.0</td>\n",
              "      <td>NaN</td>\n",
              "    </tr>\n",
              "    <tr>\n",
              "      <th>156</th>\n",
              "      <td>658.0</td>\n",
              "      <td>0.0</td>\n",
              "      <td>3.0</td>\n",
              "      <td>Bourke, Mrs. John (Catherine)</td>\n",
              "      <td>0.0</td>\n",
              "      <td>3.0</td>\n",
              "      <td>1.0</td>\n",
              "      <td>1.0</td>\n",
              "      <td>364849</td>\n",
              "      <td>2.0</td>\n",
              "      <td>&lt;function &lt;lambda&gt; at 0x7f67b9f221e0&gt;</td>\n",
              "      <td>2.0</td>\n",
              "      <td>3.0</td>\n",
              "      <td>0.0</td>\n",
              "      <td>3.0</td>\n",
              "      <td>NaN</td>\n",
              "    </tr>\n",
              "    <tr>\n",
              "      <th>157</th>\n",
              "      <td>789.0</td>\n",
              "      <td>1.0</td>\n",
              "      <td>3.0</td>\n",
              "      <td>Dean, Master. Bertram Vere</td>\n",
              "      <td>1.0</td>\n",
              "      <td>0.0</td>\n",
              "      <td>1.0</td>\n",
              "      <td>2.0</td>\n",
              "      <td>C.A. 2315</td>\n",
              "      <td>2.0</td>\n",
              "      <td>&lt;function &lt;lambda&gt; at 0x7f67b9f221e0&gt;</td>\n",
              "      <td>0.0</td>\n",
              "      <td>4.0</td>\n",
              "      <td>0.0</td>\n",
              "      <td>4.0</td>\n",
              "      <td>NaN</td>\n",
              "    </tr>\n",
              "    <tr>\n",
              "      <th>158</th>\n",
              "      <td>207.0</td>\n",
              "      <td>0.0</td>\n",
              "      <td>3.0</td>\n",
              "      <td>Backstrom, Mr. Karl Alfred</td>\n",
              "      <td>1.0</td>\n",
              "      <td>3.0</td>\n",
              "      <td>1.0</td>\n",
              "      <td>0.0</td>\n",
              "      <td>3101278</td>\n",
              "      <td>2.0</td>\n",
              "      <td>&lt;function &lt;lambda&gt; at 0x7f67b9f221e0&gt;</td>\n",
              "      <td>0.0</td>\n",
              "      <td>2.0</td>\n",
              "      <td>0.0</td>\n",
              "      <td>1.0</td>\n",
              "      <td>NaN</td>\n",
              "    </tr>\n",
              "    <tr>\n",
              "      <th>159</th>\n",
              "      <td>805.0</td>\n",
              "      <td>1.0</td>\n",
              "      <td>3.0</td>\n",
              "      <td>Hedman, Mr. Oskar Arvid</td>\n",
              "      <td>1.0</td>\n",
              "      <td>2.0</td>\n",
              "      <td>0.0</td>\n",
              "      <td>0.0</td>\n",
              "      <td>347089</td>\n",
              "      <td>0.0</td>\n",
              "      <td>&lt;function &lt;lambda&gt; at 0x7f67b9f221e0&gt;</td>\n",
              "      <td>0.0</td>\n",
              "      <td>1.0</td>\n",
              "      <td>1.0</td>\n",
              "      <td>1.0</td>\n",
              "      <td>NaN</td>\n",
              "    </tr>\n",
              "    <tr>\n",
              "      <th>160</th>\n",
              "      <td>457.0</td>\n",
              "      <td>0.0</td>\n",
              "      <td>1.0</td>\n",
              "      <td>Millet, Mr. Francis Davis</td>\n",
              "      <td>1.0</td>\n",
              "      <td>4.0</td>\n",
              "      <td>0.0</td>\n",
              "      <td>0.0</td>\n",
              "      <td>13509</td>\n",
              "      <td>2.0</td>\n",
              "      <td>E38</td>\n",
              "      <td>0.0</td>\n",
              "      <td>1.0</td>\n",
              "      <td>1.0</td>\n",
              "      <td>1.0</td>\n",
              "      <td>NaN</td>\n",
              "    </tr>\n",
              "    <tr>\n",
              "      <th>161</th>\n",
              "      <td>504.0</td>\n",
              "      <td>0.0</td>\n",
              "      <td>3.0</td>\n",
              "      <td>Laitinen, Miss. Kristina Sofia</td>\n",
              "      <td>0.0</td>\n",
              "      <td>3.0</td>\n",
              "      <td>0.0</td>\n",
              "      <td>0.0</td>\n",
              "      <td>4135</td>\n",
              "      <td>1.0</td>\n",
              "      <td>&lt;function &lt;lambda&gt; at 0x7f67b9f221e0&gt;</td>\n",
              "      <td>0.0</td>\n",
              "      <td>1.0</td>\n",
              "      <td>1.0</td>\n",
              "      <td>2.0</td>\n",
              "      <td>NaN</td>\n",
              "    </tr>\n",
              "    <tr>\n",
              "      <th>162</th>\n",
              "      <td>596.0</td>\n",
              "      <td>0.0</td>\n",
              "      <td>3.0</td>\n",
              "      <td>Van Impe, Mr. Jean Baptiste</td>\n",
              "      <td>1.0</td>\n",
              "      <td>3.0</td>\n",
              "      <td>1.0</td>\n",
              "      <td>1.0</td>\n",
              "      <td>345773</td>\n",
              "      <td>2.0</td>\n",
              "      <td>&lt;function &lt;lambda&gt; at 0x7f67b9f221e0&gt;</td>\n",
              "      <td>0.0</td>\n",
              "      <td>3.0</td>\n",
              "      <td>0.0</td>\n",
              "      <td>1.0</td>\n",
              "      <td>NaN</td>\n",
              "    </tr>\n",
              "    <tr>\n",
              "      <th>163</th>\n",
              "      <td>476.0</td>\n",
              "      <td>0.0</td>\n",
              "      <td>1.0</td>\n",
              "      <td>Clifford, Mr. George Quincy</td>\n",
              "      <td>1.0</td>\n",
              "      <td>1.0</td>\n",
              "      <td>0.0</td>\n",
              "      <td>0.0</td>\n",
              "      <td>110465</td>\n",
              "      <td>3.0</td>\n",
              "      <td>A14</td>\n",
              "      <td>0.0</td>\n",
              "      <td>1.0</td>\n",
              "      <td>1.0</td>\n",
              "      <td>1.0</td>\n",
              "      <td>NaN</td>\n",
              "    </tr>\n",
              "    <tr>\n",
              "      <th>164</th>\n",
              "      <td>298.0</td>\n",
              "      <td>0.0</td>\n",
              "      <td>1.0</td>\n",
              "      <td>Allison, Miss. Helen Loraine</td>\n",
              "      <td>0.0</td>\n",
              "      <td>0.0</td>\n",
              "      <td>1.0</td>\n",
              "      <td>2.0</td>\n",
              "      <td>113781</td>\n",
              "      <td>3.0</td>\n",
              "      <td>C22 C26</td>\n",
              "      <td>0.0</td>\n",
              "      <td>4.0</td>\n",
              "      <td>0.0</td>\n",
              "      <td>2.0</td>\n",
              "      <td>NaN</td>\n",
              "    </tr>\n",
              "    <tr>\n",
              "      <th>165</th>\n",
              "      <td>463.0</td>\n",
              "      <td>0.0</td>\n",
              "      <td>1.0</td>\n",
              "      <td>Gee, Mr. Arthur H</td>\n",
              "      <td>1.0</td>\n",
              "      <td>4.0</td>\n",
              "      <td>0.0</td>\n",
              "      <td>0.0</td>\n",
              "      <td>111320</td>\n",
              "      <td>3.0</td>\n",
              "      <td>E63</td>\n",
              "      <td>0.0</td>\n",
              "      <td>1.0</td>\n",
              "      <td>1.0</td>\n",
              "      <td>1.0</td>\n",
              "      <td>NaN</td>\n",
              "    </tr>\n",
              "    <tr>\n",
              "      <th>166</th>\n",
              "      <td>322.0</td>\n",
              "      <td>0.0</td>\n",
              "      <td>3.0</td>\n",
              "      <td>Danoff, Mr. Yoto</td>\n",
              "      <td>1.0</td>\n",
              "      <td>2.0</td>\n",
              "      <td>0.0</td>\n",
              "      <td>0.0</td>\n",
              "      <td>349219</td>\n",
              "      <td>0.0</td>\n",
              "      <td>&lt;function &lt;lambda&gt; at 0x7f67b9f221e0&gt;</td>\n",
              "      <td>0.0</td>\n",
              "      <td>1.0</td>\n",
              "      <td>1.0</td>\n",
              "      <td>1.0</td>\n",
              "      <td>NaN</td>\n",
              "    </tr>\n",
              "    <tr>\n",
              "      <th>167</th>\n",
              "      <td>76.0</td>\n",
              "      <td>0.0</td>\n",
              "      <td>3.0</td>\n",
              "      <td>Moen, Mr. Sigurd Hansen</td>\n",
              "      <td>1.0</td>\n",
              "      <td>1.0</td>\n",
              "      <td>0.0</td>\n",
              "      <td>0.0</td>\n",
              "      <td>348123</td>\n",
              "      <td>0.0</td>\n",
              "      <td>F G73</td>\n",
              "      <td>0.0</td>\n",
              "      <td>1.0</td>\n",
              "      <td>1.0</td>\n",
              "      <td>1.0</td>\n",
              "      <td>NaN</td>\n",
              "    </tr>\n",
              "    <tr>\n",
              "      <th>168</th>\n",
              "      <td>34.0</td>\n",
              "      <td>0.0</td>\n",
              "      <td>2.0</td>\n",
              "      <td>Wheadon, Mr. Edward H</td>\n",
              "      <td>1.0</td>\n",
              "      <td>4.0</td>\n",
              "      <td>0.0</td>\n",
              "      <td>0.0</td>\n",
              "      <td>C.A. 24579</td>\n",
              "      <td>1.0</td>\n",
              "      <td>&lt;function &lt;lambda&gt; at 0x7f67b9f221e0&gt;</td>\n",
              "      <td>0.0</td>\n",
              "      <td>1.0</td>\n",
              "      <td>1.0</td>\n",
              "      <td>1.0</td>\n",
              "      <td>NaN</td>\n",
              "    </tr>\n",
              "    <tr>\n",
              "      <th>169</th>\n",
              "      <td>175.0</td>\n",
              "      <td>0.0</td>\n",
              "      <td>1.0</td>\n",
              "      <td>Smith, Mr. James Clinch</td>\n",
              "      <td>1.0</td>\n",
              "      <td>4.0</td>\n",
              "      <td>0.0</td>\n",
              "      <td>0.0</td>\n",
              "      <td>17764</td>\n",
              "      <td>2.0</td>\n",
              "      <td>A7</td>\n",
              "      <td>1.0</td>\n",
              "      <td>1.0</td>\n",
              "      <td>1.0</td>\n",
              "      <td>1.0</td>\n",
              "      <td>NaN</td>\n",
              "    </tr>\n",
              "    <tr>\n",
              "      <th>170</th>\n",
              "      <td>130.0</td>\n",
              "      <td>0.0</td>\n",
              "      <td>3.0</td>\n",
              "      <td>Ekstrom, Mr. Johan</td>\n",
              "      <td>1.0</td>\n",
              "      <td>4.0</td>\n",
              "      <td>0.0</td>\n",
              "      <td>0.0</td>\n",
              "      <td>347061</td>\n",
              "      <td>0.0</td>\n",
              "      <td>&lt;function &lt;lambda&gt; at 0x7f67b9f221e0&gt;</td>\n",
              "      <td>0.0</td>\n",
              "      <td>1.0</td>\n",
              "      <td>1.0</td>\n",
              "      <td>1.0</td>\n",
              "      <td>NaN</td>\n",
              "    </tr>\n",
              "    <tr>\n",
              "      <th>171</th>\n",
              "      <td>590.0</td>\n",
              "      <td>0.0</td>\n",
              "      <td>3.0</td>\n",
              "      <td>Murdlin, Mr. Joseph</td>\n",
              "      <td>1.0</td>\n",
              "      <td>1.0</td>\n",
              "      <td>0.0</td>\n",
              "      <td>0.0</td>\n",
              "      <td>A./5. 3235</td>\n",
              "      <td>1.0</td>\n",
              "      <td>&lt;function &lt;lambda&gt; at 0x7f67b9f221e0&gt;</td>\n",
              "      <td>0.0</td>\n",
              "      <td>1.0</td>\n",
              "      <td>1.0</td>\n",
              "      <td>1.0</td>\n",
              "      <td>NaN</td>\n",
              "    </tr>\n",
              "    <tr>\n",
              "      <th>172</th>\n",
              "      <td>211.0</td>\n",
              "      <td>0.0</td>\n",
              "      <td>3.0</td>\n",
              "      <td>Ali, Mr. Ahmed</td>\n",
              "      <td>1.0</td>\n",
              "      <td>1.0</td>\n",
              "      <td>0.0</td>\n",
              "      <td>0.0</td>\n",
              "      <td>SOTON/O.Q. 3101311</td>\n",
              "      <td>0.0</td>\n",
              "      <td>&lt;function &lt;lambda&gt; at 0x7f67b9f221e0&gt;</td>\n",
              "      <td>0.0</td>\n",
              "      <td>1.0</td>\n",
              "      <td>1.0</td>\n",
              "      <td>1.0</td>\n",
              "      <td>NaN</td>\n",
              "    </tr>\n",
              "    <tr>\n",
              "      <th>173</th>\n",
              "      <td>548.0</td>\n",
              "      <td>1.0</td>\n",
              "      <td>2.0</td>\n",
              "      <td>Padro y Manent, Mr. Julian</td>\n",
              "      <td>1.0</td>\n",
              "      <td>1.0</td>\n",
              "      <td>0.0</td>\n",
              "      <td>0.0</td>\n",
              "      <td>SC/PARIS 2146</td>\n",
              "      <td>1.0</td>\n",
              "      <td>&lt;function &lt;lambda&gt; at 0x7f67b9f221e0&gt;</td>\n",
              "      <td>1.0</td>\n",
              "      <td>1.0</td>\n",
              "      <td>1.0</td>\n",
              "      <td>1.0</td>\n",
              "      <td>NaN</td>\n",
              "    </tr>\n",
              "    <tr>\n",
              "      <th>174</th>\n",
              "      <td>112.0</td>\n",
              "      <td>0.0</td>\n",
              "      <td>3.0</td>\n",
              "      <td>Zabour, Miss. Hileni</td>\n",
              "      <td>0.0</td>\n",
              "      <td>0.0</td>\n",
              "      <td>1.0</td>\n",
              "      <td>0.0</td>\n",
              "      <td>2665</td>\n",
              "      <td>2.0</td>\n",
              "      <td>&lt;function &lt;lambda&gt; at 0x7f67b9f221e0&gt;</td>\n",
              "      <td>1.0</td>\n",
              "      <td>2.0</td>\n",
              "      <td>0.0</td>\n",
              "      <td>2.0</td>\n",
              "      <td>NaN</td>\n",
              "    </tr>\n",
              "    <tr>\n",
              "      <th>175</th>\n",
              "      <td>204.0</td>\n",
              "      <td>0.0</td>\n",
              "      <td>3.0</td>\n",
              "      <td>Youseff, Mr. Gerious</td>\n",
              "      <td>1.0</td>\n",
              "      <td>4.0</td>\n",
              "      <td>0.0</td>\n",
              "      <td>0.0</td>\n",
              "      <td>2628</td>\n",
              "      <td>0.0</td>\n",
              "      <td>&lt;function &lt;lambda&gt; at 0x7f67b9f221e0&gt;</td>\n",
              "      <td>1.0</td>\n",
              "      <td>1.0</td>\n",
              "      <td>1.0</td>\n",
              "      <td>1.0</td>\n",
              "      <td>NaN</td>\n",
              "    </tr>\n",
              "    <tr>\n",
              "      <th>176</th>\n",
              "      <td>444.0</td>\n",
              "      <td>1.0</td>\n",
              "      <td>2.0</td>\n",
              "      <td>Reynaldo, Ms. Encarnacion</td>\n",
              "      <td>0.0</td>\n",
              "      <td>2.0</td>\n",
              "      <td>0.0</td>\n",
              "      <td>0.0</td>\n",
              "      <td>230434</td>\n",
              "      <td>1.0</td>\n",
              "      <td>&lt;function &lt;lambda&gt; at 0x7f67b9f221e0&gt;</td>\n",
              "      <td>0.0</td>\n",
              "      <td>1.0</td>\n",
              "      <td>1.0</td>\n",
              "      <td>2.0</td>\n",
              "      <td>NaN</td>\n",
              "    </tr>\n",
              "    <tr>\n",
              "      <th>177</th>\n",
              "      <td>524.0</td>\n",
              "      <td>1.0</td>\n",
              "      <td>1.0</td>\n",
              "      <td>Hippach, Mrs. Louis Albert (Ida Sophia Fischer)</td>\n",
              "      <td>0.0</td>\n",
              "      <td>4.0</td>\n",
              "      <td>0.0</td>\n",
              "      <td>1.0</td>\n",
              "      <td>111361</td>\n",
              "      <td>3.0</td>\n",
              "      <td>B18</td>\n",
              "      <td>1.0</td>\n",
              "      <td>2.0</td>\n",
              "      <td>0.0</td>\n",
              "      <td>3.0</td>\n",
              "      <td>NaN</td>\n",
              "    </tr>\n",
              "    <tr>\n",
              "      <th>178</th>\n",
              "      <td>438.0</td>\n",
              "      <td>1.0</td>\n",
              "      <td>2.0</td>\n",
              "      <td>Richards, Mrs. Sidney (Emily Hocking)</td>\n",
              "      <td>0.0</td>\n",
              "      <td>1.0</td>\n",
              "      <td>2.0</td>\n",
              "      <td>3.0</td>\n",
              "      <td>29106</td>\n",
              "      <td>2.0</td>\n",
              "      <td>&lt;function &lt;lambda&gt; at 0x7f67b9f221e0&gt;</td>\n",
              "      <td>0.0</td>\n",
              "      <td>6.0</td>\n",
              "      <td>0.0</td>\n",
              "      <td>3.0</td>\n",
              "      <td>NaN</td>\n",
              "    </tr>\n",
              "    <tr>\n",
              "      <th>0</th>\n",
              "      <td>NaN</td>\n",
              "      <td>NaN</td>\n",
              "      <td>NaN</td>\n",
              "      <td>NaN</td>\n",
              "      <td>NaN</td>\n",
              "      <td>NaN</td>\n",
              "      <td>NaN</td>\n",
              "      <td>NaN</td>\n",
              "      <td>NaN</td>\n",
              "      <td>NaN</td>\n",
              "      <td>NaN</td>\n",
              "      <td>NaN</td>\n",
              "      <td>NaN</td>\n",
              "      <td>NaN</td>\n",
              "      <td>NaN</td>\n",
              "      <td>Voting All</td>\n",
              "    </tr>\n",
              "    <tr>\n",
              "      <th>1</th>\n",
              "      <td>NaN</td>\n",
              "      <td>NaN</td>\n",
              "      <td>NaN</td>\n",
              "      <td>NaN</td>\n",
              "      <td>NaN</td>\n",
              "      <td>NaN</td>\n",
              "      <td>NaN</td>\n",
              "      <td>NaN</td>\n",
              "      <td>NaN</td>\n",
              "      <td>NaN</td>\n",
              "      <td>NaN</td>\n",
              "      <td>NaN</td>\n",
              "      <td>NaN</td>\n",
              "      <td>NaN</td>\n",
              "      <td>NaN</td>\n",
              "      <td>0.85</td>\n",
              "    </tr>\n",
              "    <tr>\n",
              "      <th>2</th>\n",
              "      <td>NaN</td>\n",
              "      <td>NaN</td>\n",
              "      <td>NaN</td>\n",
              "      <td>NaN</td>\n",
              "      <td>NaN</td>\n",
              "      <td>NaN</td>\n",
              "      <td>NaN</td>\n",
              "      <td>NaN</td>\n",
              "      <td>NaN</td>\n",
              "      <td>NaN</td>\n",
              "      <td>NaN</td>\n",
              "      <td>NaN</td>\n",
              "      <td>NaN</td>\n",
              "      <td>NaN</td>\n",
              "      <td>NaN</td>\n",
              "      <td>0.854749</td>\n",
              "    </tr>\n",
              "    <tr>\n",
              "      <th>3</th>\n",
              "      <td>NaN</td>\n",
              "      <td>NaN</td>\n",
              "      <td>NaN</td>\n",
              "      <td>NaN</td>\n",
              "      <td>NaN</td>\n",
              "      <td>NaN</td>\n",
              "      <td>NaN</td>\n",
              "      <td>NaN</td>\n",
              "      <td>NaN</td>\n",
              "      <td>NaN</td>\n",
              "      <td>NaN</td>\n",
              "      <td>NaN</td>\n",
              "      <td>NaN</td>\n",
              "      <td>NaN</td>\n",
              "      <td>NaN</td>\n",
              "      <td>0.854749</td>\n",
              "    </tr>\n",
              "    <tr>\n",
              "      <th>4</th>\n",
              "      <td>NaN</td>\n",
              "      <td>NaN</td>\n",
              "      <td>NaN</td>\n",
              "      <td>NaN</td>\n",
              "      <td>NaN</td>\n",
              "      <td>NaN</td>\n",
              "      <td>NaN</td>\n",
              "      <td>NaN</td>\n",
              "      <td>NaN</td>\n",
              "      <td>NaN</td>\n",
              "      <td>NaN</td>\n",
              "      <td>NaN</td>\n",
              "      <td>NaN</td>\n",
              "      <td>NaN</td>\n",
              "      <td>NaN</td>\n",
              "      <td>0.854749</td>\n",
              "    </tr>\n",
              "  </tbody>\n",
              "</table>\n",
              "<p>184 rows × 16 columns</p>\n",
              "</div>"
            ],
            "text/plain": [
              "     PassengerId  Survived  Pclass  \\\n",
              "0           73.0       0.0     2.0   \n",
              "1          140.0       0.0     1.0   \n",
              "2          256.0       1.0     3.0   \n",
              "3          238.0       1.0     2.0   \n",
              "4          355.0       0.0     3.0   \n",
              "5          264.0       0.0     1.0   \n",
              "6          224.0       0.0     3.0   \n",
              "7          653.0       0.0     3.0   \n",
              "8          512.0       0.0     3.0   \n",
              "9          358.0       0.0     2.0   \n",
              "10         795.0       0.0     3.0   \n",
              "11         802.0       1.0     2.0   \n",
              "12         170.0       0.0     3.0   \n",
              "13         439.0       0.0     1.0   \n",
              "14          84.0       0.0     1.0   \n",
              "15         857.0       1.0     1.0   \n",
              "16         423.0       0.0     3.0   \n",
              "17         456.0       1.0     3.0   \n",
              "18         216.0       1.0     1.0   \n",
              "19         669.0       0.0     3.0   \n",
              "20          58.0       0.0     3.0   \n",
              "21         299.0       1.0     1.0   \n",
              "22         161.0       0.0     3.0   \n",
              "23         518.0       0.0     3.0   \n",
              "24         114.0       0.0     3.0   \n",
              "25         404.0       0.0     3.0   \n",
              "26         677.0       0.0     3.0   \n",
              "27         408.0       1.0     2.0   \n",
              "28         671.0       1.0     2.0   \n",
              "29         263.0       0.0     1.0   \n",
              "..           ...       ...     ...   \n",
              "154        763.0       1.0     3.0   \n",
              "155        102.0       0.0     3.0   \n",
              "156        658.0       0.0     3.0   \n",
              "157        789.0       1.0     3.0   \n",
              "158        207.0       0.0     3.0   \n",
              "159        805.0       1.0     3.0   \n",
              "160        457.0       0.0     1.0   \n",
              "161        504.0       0.0     3.0   \n",
              "162        596.0       0.0     3.0   \n",
              "163        476.0       0.0     1.0   \n",
              "164        298.0       0.0     1.0   \n",
              "165        463.0       0.0     1.0   \n",
              "166        322.0       0.0     3.0   \n",
              "167         76.0       0.0     3.0   \n",
              "168         34.0       0.0     2.0   \n",
              "169        175.0       0.0     1.0   \n",
              "170        130.0       0.0     3.0   \n",
              "171        590.0       0.0     3.0   \n",
              "172        211.0       0.0     3.0   \n",
              "173        548.0       1.0     2.0   \n",
              "174        112.0       0.0     3.0   \n",
              "175        204.0       0.0     3.0   \n",
              "176        444.0       1.0     2.0   \n",
              "177        524.0       1.0     1.0   \n",
              "178        438.0       1.0     2.0   \n",
              "0            NaN       NaN     NaN   \n",
              "1            NaN       NaN     NaN   \n",
              "2            NaN       NaN     NaN   \n",
              "3            NaN       NaN     NaN   \n",
              "4            NaN       NaN     NaN   \n",
              "\n",
              "                                                  Name  Sex  Age  SibSp  \\\n",
              "0                                 Hood, Mr. Ambrose Jr  1.0  1.0    0.0   \n",
              "1                                   Giglio, Mr. Victor  1.0  1.0    0.0   \n",
              "2              Touma, Mrs. Darwis (Hanne Youssef Razi)  0.0  2.0    0.0   \n",
              "3                     Collyer, Miss. Marjorie \"Lottie\"  0.0  0.0    0.0   \n",
              "4                                    Yousif, Mr. Wazli  1.0  2.0    0.0   \n",
              "5                                Harrison, Mr. William  1.0  3.0    0.0   \n",
              "6                                 Nenkoff, Mr. Christo  1.0  3.0    0.0   \n",
              "7                       Kalvik, Mr. Johannes Halvorsen  1.0  1.0    0.0   \n",
              "8                                    Webber, Mr. James  1.0  3.0    0.0   \n",
              "9                            Funk, Miss. Annie Clemmer  0.0  3.0    0.0   \n",
              "10                               Dantcheff, Mr. Ristiu  1.0  1.0    0.0   \n",
              "11         Collyer, Mrs. Harvey (Charlotte Annie Tate)  0.0  2.0    1.0   \n",
              "12                                       Ling, Mr. Lee  1.0  2.0    0.0   \n",
              "13                                   Fortune, Mr. Mark  1.0  4.0    1.0   \n",
              "14                             Carrau, Mr. Francisco M  1.0  2.0    0.0   \n",
              "15          Wick, Mrs. George Dennick (Mary Hitchcock)  0.0  4.0    1.0   \n",
              "16                                  Zimmerman, Mr. Leo  1.0  2.0    0.0   \n",
              "17                                  Jalsevac, Mr. Ivan  1.0  2.0    0.0   \n",
              "18                             Newell, Miss. Madeleine  0.0  2.0    1.0   \n",
              "19                                     Cook, Mr. Jacob  1.0  4.0    0.0   \n",
              "20                                 Novel, Mr. Mansouer  1.0  2.0    0.0   \n",
              "21                               Saalfeld, Mr. Adolphe  1.0  3.0    0.0   \n",
              "22                            Cribb, Mr. John Hatfield  1.0  4.0    0.0   \n",
              "23                                   Ryan, Mr. Patrick  1.0  4.0    0.0   \n",
              "24                             Jussila, Miss. Katriina  0.0  1.0    1.0   \n",
              "25                      Hakkarainen, Mr. Pekka Pietari  1.0  2.0    1.0   \n",
              "26                       Sawyer, Mr. Frederick Charles  1.0  1.0    0.0   \n",
              "27                      Richards, Master. William Rowe  1.0  0.0    1.0   \n",
              "28   Brown, Mrs. Thomas William Solomon (Elizabeth ...  0.0  3.0    1.0   \n",
              "29                                   Taussig, Mr. Emil  1.0  4.0    1.0   \n",
              "..                                                 ...  ...  ...    ...   \n",
              "154                              Barah, Mr. Hanna Assi  1.0  1.0    0.0   \n",
              "155                   Petroff, Mr. Pastcho (\"Pentcho\")  1.0  2.0    0.0   \n",
              "156                      Bourke, Mrs. John (Catherine)  0.0  3.0    1.0   \n",
              "157                         Dean, Master. Bertram Vere  1.0  0.0    1.0   \n",
              "158                         Backstrom, Mr. Karl Alfred  1.0  3.0    1.0   \n",
              "159                            Hedman, Mr. Oskar Arvid  1.0  2.0    0.0   \n",
              "160                          Millet, Mr. Francis Davis  1.0  4.0    0.0   \n",
              "161                     Laitinen, Miss. Kristina Sofia  0.0  3.0    0.0   \n",
              "162                        Van Impe, Mr. Jean Baptiste  1.0  3.0    1.0   \n",
              "163                        Clifford, Mr. George Quincy  1.0  1.0    0.0   \n",
              "164                       Allison, Miss. Helen Loraine  0.0  0.0    1.0   \n",
              "165                                  Gee, Mr. Arthur H  1.0  4.0    0.0   \n",
              "166                                   Danoff, Mr. Yoto  1.0  2.0    0.0   \n",
              "167                            Moen, Mr. Sigurd Hansen  1.0  1.0    0.0   \n",
              "168                              Wheadon, Mr. Edward H  1.0  4.0    0.0   \n",
              "169                            Smith, Mr. James Clinch  1.0  4.0    0.0   \n",
              "170                                 Ekstrom, Mr. Johan  1.0  4.0    0.0   \n",
              "171                                Murdlin, Mr. Joseph  1.0  1.0    0.0   \n",
              "172                                     Ali, Mr. Ahmed  1.0  1.0    0.0   \n",
              "173                         Padro y Manent, Mr. Julian  1.0  1.0    0.0   \n",
              "174                               Zabour, Miss. Hileni  0.0  0.0    1.0   \n",
              "175                               Youseff, Mr. Gerious  1.0  4.0    0.0   \n",
              "176                          Reynaldo, Ms. Encarnacion  0.0  2.0    0.0   \n",
              "177    Hippach, Mrs. Louis Albert (Ida Sophia Fischer)  0.0  4.0    0.0   \n",
              "178              Richards, Mrs. Sidney (Emily Hocking)  0.0  1.0    2.0   \n",
              "0                                                  NaN  NaN  NaN    NaN   \n",
              "1                                                  NaN  NaN  NaN    NaN   \n",
              "2                                                  NaN  NaN  NaN    NaN   \n",
              "3                                                  NaN  NaN  NaN    NaN   \n",
              "4                                                  NaN  NaN  NaN    NaN   \n",
              "\n",
              "     Parch              Ticket  Fare                                  Cabin  \\\n",
              "0      0.0        S.O.C. 14879   3.0  <function <lambda> at 0x7f67b9f221e0>   \n",
              "1      0.0            PC 17593   3.0                                    B86   \n",
              "2      2.0                2650   2.0  <function <lambda> at 0x7f67b9f221e0>   \n",
              "3      2.0          C.A. 31921   2.0  <function <lambda> at 0x7f67b9f221e0>   \n",
              "4      0.0                2647   0.0  <function <lambda> at 0x7f67b9f221e0>   \n",
              "5      0.0              112059   0.0                                    B94   \n",
              "6      0.0              349234   0.0  <function <lambda> at 0x7f67b9f221e0>   \n",
              "7      0.0                8475   1.0  <function <lambda> at 0x7f67b9f221e0>   \n",
              "8      0.0    SOTON/OQ 3101316   1.0  <function <lambda> at 0x7f67b9f221e0>   \n",
              "9      0.0              237671   1.0  <function <lambda> at 0x7f67b9f221e0>   \n",
              "10     0.0              349203   0.0  <function <lambda> at 0x7f67b9f221e0>   \n",
              "11     1.0          C.A. 31921   2.0  <function <lambda> at 0x7f67b9f221e0>   \n",
              "12     0.0                1601   3.0  <function <lambda> at 0x7f67b9f221e0>   \n",
              "13     4.0               19950   3.0                            C23 C25 C27   \n",
              "14     0.0              113059   3.0  <function <lambda> at 0x7f67b9f221e0>   \n",
              "15     1.0               36928   3.0  <function <lambda> at 0x7f67b9f221e0>   \n",
              "16     0.0              315082   0.0  <function <lambda> at 0x7f67b9f221e0>   \n",
              "17     0.0              349240   0.0  <function <lambda> at 0x7f67b9f221e0>   \n",
              "18     0.0               35273   3.0                                    D36   \n",
              "19     0.0            A/5 3536   1.0  <function <lambda> at 0x7f67b9f221e0>   \n",
              "20     0.0                2697   0.0  <function <lambda> at 0x7f67b9f221e0>   \n",
              "21     0.0               19988   2.0                                   C106   \n",
              "22     1.0              371362   2.0  <function <lambda> at 0x7f67b9f221e0>   \n",
              "23     0.0              371110   2.0  <function <lambda> at 0x7f67b9f221e0>   \n",
              "24     0.0                4136   1.0  <function <lambda> at 0x7f67b9f221e0>   \n",
              "25     0.0    STON/O2. 3101279   2.0  <function <lambda> at 0x7f67b9f221e0>   \n",
              "26     0.0              342826   1.0  <function <lambda> at 0x7f67b9f221e0>   \n",
              "27     1.0               29106   2.0  <function <lambda> at 0x7f67b9f221e0>   \n",
              "28     1.0               29750   3.0  <function <lambda> at 0x7f67b9f221e0>   \n",
              "29     1.0              110413   3.0                                    E67   \n",
              "..     ...                 ...   ...                                    ...   \n",
              "154    0.0                2663   0.0  <function <lambda> at 0x7f67b9f221e0>   \n",
              "155    0.0              349215   0.0  <function <lambda> at 0x7f67b9f221e0>   \n",
              "156    1.0              364849   2.0  <function <lambda> at 0x7f67b9f221e0>   \n",
              "157    2.0           C.A. 2315   2.0  <function <lambda> at 0x7f67b9f221e0>   \n",
              "158    0.0             3101278   2.0  <function <lambda> at 0x7f67b9f221e0>   \n",
              "159    0.0              347089   0.0  <function <lambda> at 0x7f67b9f221e0>   \n",
              "160    0.0               13509   2.0                                    E38   \n",
              "161    0.0                4135   1.0  <function <lambda> at 0x7f67b9f221e0>   \n",
              "162    1.0              345773   2.0  <function <lambda> at 0x7f67b9f221e0>   \n",
              "163    0.0              110465   3.0                                    A14   \n",
              "164    2.0              113781   3.0                                C22 C26   \n",
              "165    0.0              111320   3.0                                    E63   \n",
              "166    0.0              349219   0.0  <function <lambda> at 0x7f67b9f221e0>   \n",
              "167    0.0              348123   0.0                                  F G73   \n",
              "168    0.0          C.A. 24579   1.0  <function <lambda> at 0x7f67b9f221e0>   \n",
              "169    0.0               17764   2.0                                     A7   \n",
              "170    0.0              347061   0.0  <function <lambda> at 0x7f67b9f221e0>   \n",
              "171    0.0          A./5. 3235   1.0  <function <lambda> at 0x7f67b9f221e0>   \n",
              "172    0.0  SOTON/O.Q. 3101311   0.0  <function <lambda> at 0x7f67b9f221e0>   \n",
              "173    0.0       SC/PARIS 2146   1.0  <function <lambda> at 0x7f67b9f221e0>   \n",
              "174    0.0                2665   2.0  <function <lambda> at 0x7f67b9f221e0>   \n",
              "175    0.0                2628   0.0  <function <lambda> at 0x7f67b9f221e0>   \n",
              "176    0.0              230434   1.0  <function <lambda> at 0x7f67b9f221e0>   \n",
              "177    1.0              111361   3.0                                    B18   \n",
              "178    3.0               29106   2.0  <function <lambda> at 0x7f67b9f221e0>   \n",
              "0      NaN                 NaN   NaN                                    NaN   \n",
              "1      NaN                 NaN   NaN                                    NaN   \n",
              "2      NaN                 NaN   NaN                                    NaN   \n",
              "3      NaN                 NaN   NaN                                    NaN   \n",
              "4      NaN                 NaN   NaN                                    NaN   \n",
              "\n",
              "     Embarked  FamilySize  IsAlone  Title           0  \n",
              "0         0.0         1.0      1.0    1.0         NaN  \n",
              "1         1.0         1.0      1.0    1.0         NaN  \n",
              "2         1.0         3.0      0.0    3.0         NaN  \n",
              "3         0.0         3.0      0.0    2.0         NaN  \n",
              "4         1.0         1.0      1.0    1.0         NaN  \n",
              "5         0.0         1.0      1.0    1.0         NaN  \n",
              "6         0.0         1.0      1.0    1.0         NaN  \n",
              "7         0.0         1.0      1.0    1.0         NaN  \n",
              "8         0.0         1.0      1.0    1.0         NaN  \n",
              "9         0.0         1.0      1.0    2.0         NaN  \n",
              "10        0.0         1.0      1.0    1.0         NaN  \n",
              "11        0.0         3.0      0.0    3.0         NaN  \n",
              "12        0.0         1.0      1.0    1.0         NaN  \n",
              "13        0.0         6.0      0.0    1.0         NaN  \n",
              "14        0.0         1.0      1.0    1.0         NaN  \n",
              "15        0.0         3.0      0.0    3.0         NaN  \n",
              "16        0.0         1.0      1.0    1.0         NaN  \n",
              "17        1.0         1.0      1.0    1.0         NaN  \n",
              "18        1.0         2.0      0.0    2.0         NaN  \n",
              "19        0.0         1.0      1.0    1.0         NaN  \n",
              "20        1.0         1.0      1.0    1.0         NaN  \n",
              "21        0.0         1.0      1.0    1.0         NaN  \n",
              "22        0.0         2.0      0.0    1.0         NaN  \n",
              "23        2.0         1.0      1.0    1.0         NaN  \n",
              "24        0.0         2.0      0.0    2.0         NaN  \n",
              "25        0.0         2.0      0.0    1.0         NaN  \n",
              "26        0.0         1.0      1.0    1.0         NaN  \n",
              "27        0.0         3.0      0.0    4.0         NaN  \n",
              "28        0.0         3.0      0.0    3.0         NaN  \n",
              "29        0.0         3.0      0.0    1.0         NaN  \n",
              "..        ...         ...      ...    ...         ...  \n",
              "154       1.0         1.0      1.0    1.0         NaN  \n",
              "155       0.0         1.0      1.0    1.0         NaN  \n",
              "156       2.0         3.0      0.0    3.0         NaN  \n",
              "157       0.0         4.0      0.0    4.0         NaN  \n",
              "158       0.0         2.0      0.0    1.0         NaN  \n",
              "159       0.0         1.0      1.0    1.0         NaN  \n",
              "160       0.0         1.0      1.0    1.0         NaN  \n",
              "161       0.0         1.0      1.0    2.0         NaN  \n",
              "162       0.0         3.0      0.0    1.0         NaN  \n",
              "163       0.0         1.0      1.0    1.0         NaN  \n",
              "164       0.0         4.0      0.0    2.0         NaN  \n",
              "165       0.0         1.0      1.0    1.0         NaN  \n",
              "166       0.0         1.0      1.0    1.0         NaN  \n",
              "167       0.0         1.0      1.0    1.0         NaN  \n",
              "168       0.0         1.0      1.0    1.0         NaN  \n",
              "169       1.0         1.0      1.0    1.0         NaN  \n",
              "170       0.0         1.0      1.0    1.0         NaN  \n",
              "171       0.0         1.0      1.0    1.0         NaN  \n",
              "172       0.0         1.0      1.0    1.0         NaN  \n",
              "173       1.0         1.0      1.0    1.0         NaN  \n",
              "174       1.0         2.0      0.0    2.0         NaN  \n",
              "175       1.0         1.0      1.0    1.0         NaN  \n",
              "176       0.0         1.0      1.0    2.0         NaN  \n",
              "177       1.0         2.0      0.0    3.0         NaN  \n",
              "178       0.0         6.0      0.0    3.0         NaN  \n",
              "0         NaN         NaN      NaN    NaN  Voting All  \n",
              "1         NaN         NaN      NaN    NaN        0.85  \n",
              "2         NaN         NaN      NaN    NaN    0.854749  \n",
              "3         NaN         NaN      NaN    NaN    0.854749  \n",
              "4         NaN         NaN      NaN    NaN    0.854749  \n",
              "\n",
              "[184 rows x 16 columns]"
            ]
          },
          "metadata": {
            "tags": []
          },
          "execution_count": 78
        }
      ]
    },
    {
      "metadata": {
        "id": "u1ErJ62gjQX-",
        "colab_type": "code",
        "outputId": "15dd4bad-21c8-45d5-eb4f-4a9a1f1536fd",
        "colab": {
          "base_uri": "https://localhost:8080/",
          "height": 369
        }
      },
      "cell_type": "code",
      "source": [
        "from tabulate import tabulate\n",
        "print(\"--------------> Validation Data Results <--------------\")\n",
        "print(\"Classfier           Accurcy  Precision  Recall  F1Score\")\n",
        "print(tabulate(valid_results))"
      ],
      "execution_count": 0,
      "outputs": [
        {
          "output_type": "stream",
          "text": [
            "--------------> Validation Data Results <--------------\n",
            "Classfier           Accurcy  Precision  Recall  F1Score\n",
            "-------------------  ----  --------  --------  --------\n",
            "SVM_Linear           0.82  0.815642  0.815642  0.815642\n",
            "SVM_Poly             0.8   0.804469  0.804469  0.804469\n",
            "SVM_RBF              0.82  0.815642  0.815642  0.815642\n",
            "Naive Bayes          0.84  0.837989  0.837989  0.837989\n",
            "Logistic Regression  0.82  0.815642  0.815642  0.815642\n",
            "DecisionTree -1      0.87  0.865922  0.865922  0.865922\n",
            "DecisionTree -2      0.85  0.854749  0.854749  0.854749\n",
            "DecisionTree -3      0.84  0.843575  0.843575  0.843575\n",
            "DecisionTree -4      0.8   0.798883  0.798883  0.798883\n",
            "Random Forest        0.85  0.854749  0.854749  0.854749\n",
            "Gradient Boost       0.84  0.843575  0.843575  0.843575\n",
            "Bagging with NB      0.83  0.832402  0.832402  0.832402\n",
            "Bagging with DT      0.83  0.826816  0.826816  0.826816\n",
            "AdaBoost             0.85  0.854749  0.854749  0.854749\n",
            "Voting               0.85  0.849162  0.849162  0.849162\n",
            "KNN                  0.83  0.832402  0.832402  0.832402\n",
            "-------------------  ----  --------  --------  --------\n"
          ],
          "name": "stdout"
        }
      ]
    },
    {
      "metadata": {
        "id": "JVXTHtpZktV2",
        "colab_type": "code",
        "colab": {}
      },
      "cell_type": "code",
      "source": [
        "clas=[]\n",
        "acc = []\n",
        "p =[]\n",
        "r =[]\n",
        "f1=[]\n",
        "\n",
        "for res in valid_results:\n",
        "  clas.append(res[0])\n",
        "  acc.append(res[1])\n",
        "  p.append(res[2])\n",
        "  r.append(res[3])\n",
        "  f1.append(res[4])\n",
        "\n"
      ],
      "execution_count": 0,
      "outputs": []
    },
    {
      "metadata": {
        "id": "yr2-XE6YuG9B",
        "colab_type": "code",
        "outputId": "180af05f-675f-426d-95bd-50260f352d18",
        "colab": {
          "base_uri": "https://localhost:8080/",
          "height": 442
        }
      },
      "cell_type": "code",
      "source": [
        "\n",
        "x_pos = np.arange(1,len(clas)+1)\n",
        "plt.xticks(x_pos, clas,rotation=90)\n",
        "plt.xlabel('Classifiers')\n",
        "plt.ylim(0.75, 0.90)\n",
        "plt.plot(x_pos, acc,'r*')\n",
        "plt.plot(x_pos, acc, 'r', label='Accurcy')\n",
        "\n",
        "plt.plot(x_pos, p,'b*')\n",
        "plt.plot(x_pos, p, 'b', label='Precision')\n",
        "\n",
        "plt.plot(x_pos, r,'k*')\n",
        "plt.plot(x_pos, r, 'k', label='Recall')\n",
        "\n",
        "plt.plot(x_pos, f1,'*')\n",
        "plt.plot(x_pos, f1, label='F1-Score')\n",
        "\n",
        "plt.legend()\n",
        "\n",
        "plt.show()"
      ],
      "execution_count": 0,
      "outputs": [
        {
          "output_type": "display_data",
          "data": {
            "image/png": "[encoded data removed]",
            "text/plain": [
              "<Figure size 576x396 with 1 Axes>"
            ]
          },
          "metadata": {
            "tags": []
          }
        }
      ]
    },
    {
      "metadata": {
        "id": "nixA6oqCOhhK",
        "colab_type": "text"
      },
      "cell_type": "markdown",
      "source": [
        "##Test data evaluation on Kaggle!"
      ]
    },
    {
      "metadata": {
        "id": "LexUR78OOpKk",
        "colab_type": "text"
      },
      "cell_type": "markdown",
      "source": [
        "I will use the best  models for test data predictions based on validation results ,which are:\n",
        "* DT\n",
        "* Random Forest\n",
        "* Naive Bayes\n",
        "* Voting All\n",
        "* AdaBoost\n",
        "* KNN\n"
      ]
    },
    {
      "metadata": {
        "id": "5W7TYbv2DEjJ",
        "colab_type": "code",
        "colab": {}
      },
      "cell_type": "code",
      "source": [
        "# dt 2\n",
        "test_pred = dt_d1.predict(x_test)\n",
        "test_results = []\n",
        "for i in range(0,len(test)):\n",
        "  test_results.append([test[\"PassengerId\"][i], test_pred[i]])\n",
        "  \n",
        "prediction = pd.DataFrame(test_results, columns=['PassengerId', 'Survived']).to_csv('predictions/dt2.csv',index =False)\n"
      ],
      "execution_count": 0,
      "outputs": []
    },
    {
      "metadata": {
        "id": "_zNUEzbkh2jd",
        "colab_type": "code",
        "colab": {}
      },
      "cell_type": "code",
      "source": [
        "# randome forest\n",
        "test_pred = rf_e.predict(x_test)\n",
        "test_results = []\n",
        "for i in range(0,len(test)):\n",
        "  test_results.append([test[\"PassengerId\"][i], test_pred[i]])\n",
        "  \n",
        "prediction = pd.DataFrame(test_results, columns=['PassengerId', 'Survived']).to_csv('predictions/rf2.csv',index =False)\n"
      ],
      "execution_count": 0,
      "outputs": []
    },
    {
      "metadata": {
        "id": "KQ0WVHHhh3A5",
        "colab_type": "code",
        "colab": {}
      },
      "cell_type": "code",
      "source": [
        "# naive bayes\n",
        "test_pred = nb_b.predict(x_test)\n",
        "test_results = []\n",
        "for i in range(0,len(test)):\n",
        "  test_results.append([test[\"PassengerId\"][i], test_pred[i]])\n",
        "  \n",
        "prediction = pd.DataFrame(test_results, columns=['PassengerId', 'Survived']).to_csv('predictions/nb_b.csv',index =False)\n"
      ],
      "execution_count": 0,
      "outputs": []
    },
    {
      "metadata": {
        "id": "i6NkczRHiIeZ",
        "colab_type": "code",
        "colab": {}
      },
      "cell_type": "code",
      "source": [
        "# knn\n",
        "test_pred = knn_j.predict(x_test)\n",
        "test_results = []\n",
        "for i in range(0,len(test)):\n",
        "  test_results.append([test[\"PassengerId\"][i], test_pred[i]])\n",
        "  \n",
        "prediction = pd.DataFrame(test_results, columns=['PassengerId', 'Survived']).to_csv('predictions/knn2.csv',index =False)\n"
      ],
      "execution_count": 0,
      "outputs": []
    },
    {
      "metadata": {
        "id": "VoKHlTseqTvi",
        "colab_type": "code",
        "outputId": "375c999b-2d13-4ed4-a731-985b7e72c770",
        "colab": {
          "base_uri": "https://localhost:8080/",
          "height": 122
        }
      },
      "cell_type": "code",
      "source": [
        "# voting all\n",
        "test_pred = voting_all.predict(x_test)\n",
        "test_results = []\n",
        "for i in range(0,len(test)):\n",
        "  test_results.append([test[\"PassengerId\"][i], test_pred[i]])\n",
        "  \n",
        "prediction = pd.DataFrame(test_results, columns=['PassengerId', 'Survived']).to_csv('predictions/votingall2.csv',index =False)\n"
      ],
      "execution_count": 0,
      "outputs": [
        {
          "output_type": "stream",
          "text": [
            "/usr/local/lib/python3.6/dist-packages/sklearn/pipeline.py:331: DataConversionWarning: Data with input dtype int64 were all converted to float64 by StandardScaler.\n",
            "  Xt = transform.transform(Xt)\n",
            "/usr/local/lib/python3.6/dist-packages/sklearn/pipeline.py:331: DataConversionWarning: Data with input dtype int64 were all converted to float64 by StandardScaler.\n",
            "  Xt = transform.transform(Xt)\n",
            "/usr/local/lib/python3.6/dist-packages/sklearn/pipeline.py:331: DataConversionWarning: Data with input dtype int64 were all converted to float64 by StandardScaler.\n",
            "  Xt = transform.transform(Xt)\n"
          ],
          "name": "stderr"
        }
      ]
    },
    {
      "metadata": {
        "id": "pzDfNvQGqacs",
        "colab_type": "code",
        "colab": {}
      },
      "cell_type": "code",
      "source": [
        "# knn\n",
        "test_pred = adab_h.predict(x_test)\n",
        "test_results = []\n",
        "for i in range(0,len(test)):\n",
        "  test_results.append([test[\"PassengerId\"][i], test_pred[i]])\n",
        "  \n",
        "prediction = pd.DataFrame(test_results, columns=['PassengerId', 'Survived']).to_csv('predictions/adaboost2.csv',index =False)\n"
      ],
      "execution_count": 0,
      "outputs": []
    },
    {
      "metadata": {
        "id": "Kdu7SzFgk-hd",
        "colab_type": "text"
      },
      "cell_type": "markdown",
      "source": [
        "\n",
        "\n",
        "---\n",
        "\n"
      ]
    },
    {
      "metadata": {
        "id": "mdy7D5NdDWDV",
        "colab_type": "text"
      },
      "cell_type": "markdown",
      "source": [
        "##Kaggle Test Results\n",
        "* DT2  ...  0.74162\n",
        "* Random Forest .... 0.79904\n",
        "* Naive Bayes ... 0.76555\n",
        "* KNN  ... 0.76555\n",
        "* Voting all .... 0.77990\n",
        "*  AdaBoost .. 0.73684\n",
        "\n",
        "So, Random Forest had the best score anmong this method and method 1\n"
      ]
    },
    {
      "metadata": {
        "id": "biA0cOlilEeQ",
        "colab_type": "text"
      },
      "cell_type": "markdown",
      "source": [
        "\n",
        "\n",
        "---\n",
        "\n",
        "#The End :)"
      ]
    }
  ]
}
